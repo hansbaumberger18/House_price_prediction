{
 "cells": [
  {
   "cell_type": "markdown",
   "id": "5e2f37e6-7f89-44f0-98e6-940c000132bc",
   "metadata": {},
   "source": [
    "# Data cleaning & EDA"
   ]
  },
  {
   "cell_type": "markdown",
   "id": "10980d1c-5eca-4105-b509-d862ad3da2db",
   "metadata": {},
   "source": [
    "## Data cleaning:"
   ]
  },
  {
   "cell_type": "code",
   "execution_count": 1,
   "id": "48aef5d8-4f40-46c0-8c7a-8b66207084f5",
   "metadata": {},
   "outputs": [],
   "source": [
    "import pandas as pd\n",
    "import numpy as np\n",
    "import matplotlib.pyplot as plt\n",
    "import seaborn as sns\n",
    "from sklearn.linear_model import LinearRegression"
   ]
  },
  {
   "cell_type": "code",
   "execution_count": 2,
   "id": "572b8da9-dcb9-4d4e-a2ee-a6d0e5d737e1",
   "metadata": {},
   "outputs": [],
   "source": [
    "train_d = pd.read_csv('../datasets/train.csv')"
   ]
  },
  {
   "cell_type": "code",
   "execution_count": 3,
   "id": "5c0d9ae0-3a95-4c73-b652-32ae5e113bb0",
   "metadata": {},
   "outputs": [
    {
     "data": {
      "text/html": [
       "<div>\n",
       "<style scoped>\n",
       "    .dataframe tbody tr th:only-of-type {\n",
       "        vertical-align: middle;\n",
       "    }\n",
       "\n",
       "    .dataframe tbody tr th {\n",
       "        vertical-align: top;\n",
       "    }\n",
       "\n",
       "    .dataframe thead th {\n",
       "        text-align: right;\n",
       "    }\n",
       "</style>\n",
       "<table border=\"1\" class=\"dataframe\">\n",
       "  <thead>\n",
       "    <tr style=\"text-align: right;\">\n",
       "      <th></th>\n",
       "      <th>Id</th>\n",
       "      <th>PID</th>\n",
       "      <th>MS SubClass</th>\n",
       "      <th>MS Zoning</th>\n",
       "      <th>Lot Frontage</th>\n",
       "      <th>Lot Area</th>\n",
       "      <th>Street</th>\n",
       "      <th>Alley</th>\n",
       "      <th>Lot Shape</th>\n",
       "      <th>Land Contour</th>\n",
       "      <th>...</th>\n",
       "      <th>Screen Porch</th>\n",
       "      <th>Pool Area</th>\n",
       "      <th>Pool QC</th>\n",
       "      <th>Fence</th>\n",
       "      <th>Misc Feature</th>\n",
       "      <th>Misc Val</th>\n",
       "      <th>Mo Sold</th>\n",
       "      <th>Yr Sold</th>\n",
       "      <th>Sale Type</th>\n",
       "      <th>SalePrice</th>\n",
       "    </tr>\n",
       "  </thead>\n",
       "  <tbody>\n",
       "    <tr>\n",
       "      <th>0</th>\n",
       "      <td>109</td>\n",
       "      <td>533352170</td>\n",
       "      <td>60</td>\n",
       "      <td>RL</td>\n",
       "      <td>NaN</td>\n",
       "      <td>13517</td>\n",
       "      <td>Pave</td>\n",
       "      <td>NaN</td>\n",
       "      <td>IR1</td>\n",
       "      <td>Lvl</td>\n",
       "      <td>...</td>\n",
       "      <td>0</td>\n",
       "      <td>0</td>\n",
       "      <td>NaN</td>\n",
       "      <td>NaN</td>\n",
       "      <td>NaN</td>\n",
       "      <td>0</td>\n",
       "      <td>3</td>\n",
       "      <td>2010</td>\n",
       "      <td>WD</td>\n",
       "      <td>130500</td>\n",
       "    </tr>\n",
       "    <tr>\n",
       "      <th>1</th>\n",
       "      <td>544</td>\n",
       "      <td>531379050</td>\n",
       "      <td>60</td>\n",
       "      <td>RL</td>\n",
       "      <td>43.0</td>\n",
       "      <td>11492</td>\n",
       "      <td>Pave</td>\n",
       "      <td>NaN</td>\n",
       "      <td>IR1</td>\n",
       "      <td>Lvl</td>\n",
       "      <td>...</td>\n",
       "      <td>0</td>\n",
       "      <td>0</td>\n",
       "      <td>NaN</td>\n",
       "      <td>NaN</td>\n",
       "      <td>NaN</td>\n",
       "      <td>0</td>\n",
       "      <td>4</td>\n",
       "      <td>2009</td>\n",
       "      <td>WD</td>\n",
       "      <td>220000</td>\n",
       "    </tr>\n",
       "    <tr>\n",
       "      <th>2</th>\n",
       "      <td>153</td>\n",
       "      <td>535304180</td>\n",
       "      <td>20</td>\n",
       "      <td>RL</td>\n",
       "      <td>68.0</td>\n",
       "      <td>7922</td>\n",
       "      <td>Pave</td>\n",
       "      <td>NaN</td>\n",
       "      <td>Reg</td>\n",
       "      <td>Lvl</td>\n",
       "      <td>...</td>\n",
       "      <td>0</td>\n",
       "      <td>0</td>\n",
       "      <td>NaN</td>\n",
       "      <td>NaN</td>\n",
       "      <td>NaN</td>\n",
       "      <td>0</td>\n",
       "      <td>1</td>\n",
       "      <td>2010</td>\n",
       "      <td>WD</td>\n",
       "      <td>109000</td>\n",
       "    </tr>\n",
       "    <tr>\n",
       "      <th>3</th>\n",
       "      <td>318</td>\n",
       "      <td>916386060</td>\n",
       "      <td>60</td>\n",
       "      <td>RL</td>\n",
       "      <td>73.0</td>\n",
       "      <td>9802</td>\n",
       "      <td>Pave</td>\n",
       "      <td>NaN</td>\n",
       "      <td>Reg</td>\n",
       "      <td>Lvl</td>\n",
       "      <td>...</td>\n",
       "      <td>0</td>\n",
       "      <td>0</td>\n",
       "      <td>NaN</td>\n",
       "      <td>NaN</td>\n",
       "      <td>NaN</td>\n",
       "      <td>0</td>\n",
       "      <td>4</td>\n",
       "      <td>2010</td>\n",
       "      <td>WD</td>\n",
       "      <td>174000</td>\n",
       "    </tr>\n",
       "    <tr>\n",
       "      <th>4</th>\n",
       "      <td>255</td>\n",
       "      <td>906425045</td>\n",
       "      <td>50</td>\n",
       "      <td>RL</td>\n",
       "      <td>82.0</td>\n",
       "      <td>14235</td>\n",
       "      <td>Pave</td>\n",
       "      <td>NaN</td>\n",
       "      <td>IR1</td>\n",
       "      <td>Lvl</td>\n",
       "      <td>...</td>\n",
       "      <td>0</td>\n",
       "      <td>0</td>\n",
       "      <td>NaN</td>\n",
       "      <td>NaN</td>\n",
       "      <td>NaN</td>\n",
       "      <td>0</td>\n",
       "      <td>3</td>\n",
       "      <td>2010</td>\n",
       "      <td>WD</td>\n",
       "      <td>138500</td>\n",
       "    </tr>\n",
       "  </tbody>\n",
       "</table>\n",
       "<p>5 rows × 81 columns</p>\n",
       "</div>"
      ],
      "text/plain": [
       "    Id        PID  MS SubClass MS Zoning  Lot Frontage  Lot Area Street Alley  \\\n",
       "0  109  533352170           60        RL           NaN     13517   Pave   NaN   \n",
       "1  544  531379050           60        RL          43.0     11492   Pave   NaN   \n",
       "2  153  535304180           20        RL          68.0      7922   Pave   NaN   \n",
       "3  318  916386060           60        RL          73.0      9802   Pave   NaN   \n",
       "4  255  906425045           50        RL          82.0     14235   Pave   NaN   \n",
       "\n",
       "  Lot Shape Land Contour  ... Screen Porch Pool Area Pool QC Fence  \\\n",
       "0       IR1          Lvl  ...            0         0     NaN   NaN   \n",
       "1       IR1          Lvl  ...            0         0     NaN   NaN   \n",
       "2       Reg          Lvl  ...            0         0     NaN   NaN   \n",
       "3       Reg          Lvl  ...            0         0     NaN   NaN   \n",
       "4       IR1          Lvl  ...            0         0     NaN   NaN   \n",
       "\n",
       "  Misc Feature Misc Val Mo Sold Yr Sold  Sale Type  SalePrice  \n",
       "0          NaN        0       3    2010        WD      130500  \n",
       "1          NaN        0       4    2009        WD      220000  \n",
       "2          NaN        0       1    2010        WD      109000  \n",
       "3          NaN        0       4    2010        WD      174000  \n",
       "4          NaN        0       3    2010        WD      138500  \n",
       "\n",
       "[5 rows x 81 columns]"
      ]
     },
     "execution_count": 3,
     "metadata": {},
     "output_type": "execute_result"
    }
   ],
   "source": [
    "train_d.head()"
   ]
  },
  {
   "cell_type": "code",
   "execution_count": 4,
   "id": "4004de7e-a324-4aae-b0e3-22ed306bc572",
   "metadata": {},
   "outputs": [
    {
     "data": {
      "text/plain": [
       "(2051, 81)"
      ]
     },
     "execution_count": 4,
     "metadata": {},
     "output_type": "execute_result"
    }
   ],
   "source": [
    "train_d.shape"
   ]
  },
  {
   "cell_type": "markdown",
   "id": "02b3ea20-d992-4427-813d-62bc2aa61416",
   "metadata": {},
   "source": [
    "### Initial look into the data provided by the dataset: "
   ]
  },
  {
   "cell_type": "markdown",
   "id": "f36ac417-fc32-4517-a26d-29c715bbe18b",
   "metadata": {},
   "source": [
    "First we clean the dataset up, then we study correlation with the target variable (SalePrice)"
   ]
  },
  {
   "cell_type": "code",
   "execution_count": 5,
   "id": "e549ef1e-75b3-48d1-810f-ae5641b85589",
   "metadata": {},
   "outputs": [
    {
     "data": {
      "text/plain": [
       "Id                0\n",
       "PID               0\n",
       "MS SubClass       0\n",
       "MS Zoning         0\n",
       "Lot Frontage    330\n",
       "               ... \n",
       "Misc Val          0\n",
       "Mo Sold           0\n",
       "Yr Sold           0\n",
       "Sale Type         0\n",
       "SalePrice         0\n",
       "Length: 81, dtype: int64"
      ]
     },
     "execution_count": 5,
     "metadata": {},
     "output_type": "execute_result"
    }
   ],
   "source": [
    "# Checking for nulls\n",
    "train_d.isnull().sum()"
   ]
  },
  {
   "cell_type": "code",
   "execution_count": 6,
   "id": "9b78ad21-2f8f-4951-bb3d-decda8abac88",
   "metadata": {},
   "outputs": [
    {
     "data": {
      "text/plain": [
       "['Lot Frontage',\n",
       " 'Alley',\n",
       " 'Mas Vnr Type',\n",
       " 'Mas Vnr Area',\n",
       " 'Bsmt Qual',\n",
       " 'Bsmt Cond',\n",
       " 'Bsmt Exposure',\n",
       " 'BsmtFin Type 1',\n",
       " 'BsmtFin SF 1',\n",
       " 'BsmtFin Type 2',\n",
       " 'BsmtFin SF 2',\n",
       " 'Bsmt Unf SF',\n",
       " 'Total Bsmt SF',\n",
       " 'Bsmt Full Bath',\n",
       " 'Bsmt Half Bath',\n",
       " 'Fireplace Qu',\n",
       " 'Garage Type',\n",
       " 'Garage Yr Blt',\n",
       " 'Garage Finish',\n",
       " 'Garage Cars',\n",
       " 'Garage Area',\n",
       " 'Garage Qual',\n",
       " 'Garage Cond',\n",
       " 'Pool QC',\n",
       " 'Fence',\n",
       " 'Misc Feature']"
      ]
     },
     "execution_count": 6,
     "metadata": {},
     "output_type": "execute_result"
    }
   ],
   "source": [
    "#Listing all columns that contain nulls\n",
    "train_d.columns[train_d.isnull().any()].tolist() \n",
    "#stackoverflow: https://stackoverflow.com/questions/36226083/how-to-find-which-columns-contain-any-nan-value-in-pandas-dataframe"
   ]
  },
  {
   "cell_type": "code",
   "execution_count": 7,
   "id": "62f535c2-e987-4618-b3ed-f2d486abed1d",
   "metadata": {},
   "outputs": [
    {
     "data": {
      "text/plain": [
       "(0, 81)"
      ]
     },
     "execution_count": 7,
     "metadata": {},
     "output_type": "execute_result"
    }
   ],
   "source": [
    "# Dropping all rows with nulls \n",
    "train_d.dropna(inplace = True)\n",
    "train_d.shape"
   ]
  },
  {
   "cell_type": "markdown",
   "id": "120dcde1-5333-4eaf-b57b-d1dc92438d93",
   "metadata": {},
   "source": [
    "Clearly, first, we have to choose what columns we want before dropping every row containing a null."
   ]
  },
  {
   "cell_type": "code",
   "execution_count": 8,
   "id": "77800c3f-10f0-4f34-9a44-c69351e3f228",
   "metadata": {},
   "outputs": [],
   "source": [
    "# Re-loading data\n",
    "train_data = pd.read_csv('../datasets/train.csv')"
   ]
  },
  {
   "cell_type": "code",
   "execution_count": 9,
   "id": "19b9f058-0419-4c55-bf75-c1d3d73adf39",
   "metadata": {
    "tags": []
   },
   "outputs": [
    {
     "data": {
      "text/plain": [
       "(2051, 81)"
      ]
     },
     "execution_count": 9,
     "metadata": {},
     "output_type": "execute_result"
    }
   ],
   "source": [
    "train_data.shape"
   ]
  },
  {
   "cell_type": "code",
   "execution_count": 10,
   "id": "06d50cff-0ca1-4372-932b-ddd82755b5fa",
   "metadata": {},
   "outputs": [
    {
     "data": {
      "text/plain": [
       "Index(['id', 'pid', 'ms_subclass', 'ms_zoning', 'lot_frontage', 'lot_area',\n",
       "       'street', 'alley', 'lot_shape', 'land_contour', 'utilities',\n",
       "       'lot_config', 'land_slope', 'neighborhood', 'condition_1',\n",
       "       'condition_2', 'bldg_type', 'house_style', 'overall_qual',\n",
       "       'overall_cond', 'year_built', 'year_remod/add', 'roof_style',\n",
       "       'roof_matl', 'exterior_1st', 'exterior_2nd', 'mas_vnr_type',\n",
       "       'mas_vnr_area', 'exter_qual', 'exter_cond', 'foundation', 'bsmt_qual',\n",
       "       'bsmt_cond', 'bsmt_exposure', 'bsmtfin_type_1', 'bsmtfin_sf_1',\n",
       "       'bsmtfin_type_2', 'bsmtfin_sf_2', 'bsmt_unf_sf', 'total_bsmt_sf',\n",
       "       'heating', 'heating_qc', 'central_air', 'electrical', '1st_flr_sf',\n",
       "       '2nd_flr_sf', 'low_qual_fin_sf', 'gr_liv_area', 'bsmt_full_bath',\n",
       "       'bsmt_half_bath', 'full_bath', 'half_bath', 'bedroom_abvgr',\n",
       "       'kitchen_abvgr', 'kitchen_qual', 'totrms_abvgrd', 'functional',\n",
       "       'fireplaces', 'fireplace_qu', 'garage_type', 'garage_yr_blt',\n",
       "       'garage_finish', 'garage_cars', 'garage_area', 'garage_qual',\n",
       "       'garage_cond', 'paved_drive', 'wood_deck_sf', 'open_porch_sf',\n",
       "       'enclosed_porch', '3ssn_porch', 'screen_porch', 'pool_area', 'pool_qc',\n",
       "       'fence', 'misc_feature', 'misc_val', 'mo_sold', 'yr_sold', 'sale_type',\n",
       "       'saleprice'],\n",
       "      dtype='object')"
      ]
     },
     "execution_count": 10,
     "metadata": {},
     "output_type": "execute_result"
    }
   ],
   "source": [
    "train_data.columns = [col.replace(' ', '_').lower() for col in train_data.columns] #Editing the column names\n",
    "train_data.columns"
   ]
  },
  {
   "cell_type": "code",
   "execution_count": 11,
   "id": "62043179-1fa0-4891-943d-694247db0434",
   "metadata": {},
   "outputs": [
    {
     "data": {
      "text/plain": [
       "True"
      ]
     },
     "execution_count": 11,
     "metadata": {},
     "output_type": "execute_result"
    }
   ],
   "source": [
    "#Making sure of code\n",
    "train_data['lot_frontage'].isnull().sum() == 330"
   ]
  },
  {
   "cell_type": "code",
   "execution_count": 14,
   "id": "1f24e64f-061a-4f6f-b0c9-952f9660aaf6",
   "metadata": {},
   "outputs": [],
   "source": [
    "# Calling all columns that contain >= than 5% of null cells\n",
    "def Max_nulls(dataset):\n",
    "    null_column_count = {}\n",
    "    null_columns = dataset.columns[dataset.isnull().any()].tolist() \n",
    "    for column in null_columns:\n",
    "        count = dataset[column].isnull().sum()\n",
    "        '''We only want the columns that contain more nulls than 5% of the dataset's shape so we can drop them'''\n",
    "        if count >= (dataset.shape[0] * 0.05):\n",
    "            null_column_count[column] = count\n",
    "    return null_column_count"
   ]
  },
  {
   "cell_type": "code",
   "execution_count": 15,
   "id": "c1445dcc-2875-487a-aafc-6960b4d7322a",
   "metadata": {},
   "outputs": [
    {
     "data": {
      "text/plain": [
       "{'lot_frontage': 330,\n",
       " 'alley': 1911,\n",
       " 'fireplace_qu': 1000,\n",
       " 'garage_type': 113,\n",
       " 'garage_yr_blt': 114,\n",
       " 'garage_finish': 114,\n",
       " 'garage_qual': 114,\n",
       " 'garage_cond': 114,\n",
       " 'pool_qc': 2042,\n",
       " 'fence': 1651,\n",
       " 'misc_feature': 1986}"
      ]
     },
     "execution_count": 15,
     "metadata": {},
     "output_type": "execute_result"
    }
   ],
   "source": [
    "Max_nulls(train_data)"
   ]
  },
  {
   "cell_type": "code",
   "execution_count": 16,
   "id": "542e09cf-bc3a-4268-ab86-33898a15869e",
   "metadata": {},
   "outputs": [
    {
     "data": {
      "text/plain": [
       "(2051, 81)"
      ]
     },
     "execution_count": 16,
     "metadata": {},
     "output_type": "execute_result"
    }
   ],
   "source": [
    "train_data.shape"
   ]
  },
  {
   "cell_type": "code",
   "execution_count": 17,
   "id": "c80096ea-f523-4d0f-89d3-a0deebc2b1a1",
   "metadata": {
    "tags": []
   },
   "outputs": [],
   "source": [
    "# Dropping all columns that contain >= than 5% of null cells\n",
    "\n",
    "null_column_drop = []\n",
    "null_columns = train_data.columns[train_data.isnull().any()].tolist() \n",
    "for column in null_columns:\n",
    "    count = train_data[column].isnull().sum()\n",
    "    '''We only want the columns that contain more nulls than 5% of the dataset's shape so we can drop them'''\n",
    "    if count >= (train_data.shape[0] * 0.05):\n",
    "        null_column_drop.append(column)\n",
    "train_data.drop(columns = null_column_drop, inplace = True)"
   ]
  },
  {
   "cell_type": "code",
   "execution_count": 18,
   "id": "30033a09-65ed-4dc1-a9f2-628f5c2d2153",
   "metadata": {},
   "outputs": [
    {
     "data": {
      "text/plain": [
       "(2051, 70)"
      ]
     },
     "execution_count": 18,
     "metadata": {},
     "output_type": "execute_result"
    }
   ],
   "source": [
    "train_data.shape"
   ]
  },
  {
   "cell_type": "code",
   "execution_count": 19,
   "id": "b9676713-bd1f-4a50-b9b0-960685cf4d6f",
   "metadata": {},
   "outputs": [
    {
     "data": {
      "text/plain": [
       "82"
      ]
     },
     "execution_count": 19,
     "metadata": {},
     "output_type": "execute_result"
    }
   ],
   "source": [
    "#Checking how many rows will get dropped in whole if we drop nulls after getting rid of the prior selected columns\n",
    "\n",
    "sum([True for idx,row in train_data.iterrows() if any(row.isnull())])\n",
    "#code from stackoverflow: https://stackoverflow.com/questions/28199524/best-way-to-count-the-number-of-rows-with-missing-values-in-a-pandas-dataframe"
   ]
  },
  {
   "cell_type": "markdown",
   "id": "23f7ed59-ffc4-43f5-ba7b-1ff6cb8f6acc",
   "metadata": {
    "tags": []
   },
   "source": [
    "82 rows dropped would represent almost a 4% loss of data, will proceed to impute the numerical missing cells to see if this number decreases"
   ]
  },
  {
   "cell_type": "markdown",
   "id": "c2fea635-5d59-4c49-b88d-ba7e22f2e47b",
   "metadata": {},
   "source": [
    "### Imputing missing values via *Iterative Imputer* in sklearn"
   ]
  },
  {
   "cell_type": "code",
   "execution_count": 20,
   "id": "407ec7db-c936-4eff-8cdb-03b123e90dc8",
   "metadata": {},
   "outputs": [],
   "source": [
    "# imports\n",
    "from sklearn.experimental import enable_iterative_imputer \n",
    "from sklearn.impute import IterativeImputer\n",
    "from sklearn.linear_model import LinearRegression"
   ]
  },
  {
   "cell_type": "code",
   "execution_count": 21,
   "id": "6c35202e-a9b6-4a59-8ee4-b516a7f1513b",
   "metadata": {},
   "outputs": [
    {
     "data": {
      "text/plain": [
       "(2051, 70)"
      ]
     },
     "execution_count": 21,
     "metadata": {},
     "output_type": "execute_result"
    }
   ],
   "source": [
    "# dataframe:\n",
    "train_data.shape"
   ]
  },
  {
   "cell_type": "code",
   "execution_count": 22,
   "id": "00295231-b5fe-426f-92ef-e872e437936d",
   "metadata": {},
   "outputs": [],
   "source": [
    "# If we want to impute, we can only do so with numerical vars\n",
    "train_data_num = train_data.select_dtypes(include='number')\n",
    "\n",
    "#code from: https://pythonexamples.org/pandas-dataframe-select-columns-of-numeric-datatype/"
   ]
  },
  {
   "cell_type": "code",
   "execution_count": 23,
   "id": "e14d7e4b-b338-4d7d-b1ce-c4eed10818e9",
   "metadata": {},
   "outputs": [
    {
     "data": {
      "text/html": [
       "<div>\n",
       "<style scoped>\n",
       "    .dataframe tbody tr th:only-of-type {\n",
       "        vertical-align: middle;\n",
       "    }\n",
       "\n",
       "    .dataframe tbody tr th {\n",
       "        vertical-align: top;\n",
       "    }\n",
       "\n",
       "    .dataframe thead th {\n",
       "        text-align: right;\n",
       "    }\n",
       "</style>\n",
       "<table border=\"1\" class=\"dataframe\">\n",
       "  <thead>\n",
       "    <tr style=\"text-align: right;\">\n",
       "      <th></th>\n",
       "      <th>id</th>\n",
       "      <th>pid</th>\n",
       "      <th>ms_subclass</th>\n",
       "      <th>lot_area</th>\n",
       "      <th>overall_qual</th>\n",
       "      <th>overall_cond</th>\n",
       "      <th>year_built</th>\n",
       "      <th>year_remod/add</th>\n",
       "      <th>mas_vnr_area</th>\n",
       "      <th>bsmtfin_sf_1</th>\n",
       "      <th>...</th>\n",
       "      <th>wood_deck_sf</th>\n",
       "      <th>open_porch_sf</th>\n",
       "      <th>enclosed_porch</th>\n",
       "      <th>3ssn_porch</th>\n",
       "      <th>screen_porch</th>\n",
       "      <th>pool_area</th>\n",
       "      <th>misc_val</th>\n",
       "      <th>mo_sold</th>\n",
       "      <th>yr_sold</th>\n",
       "      <th>saleprice</th>\n",
       "    </tr>\n",
       "  </thead>\n",
       "  <tbody>\n",
       "    <tr>\n",
       "      <th>0</th>\n",
       "      <td>109</td>\n",
       "      <td>533352170</td>\n",
       "      <td>60</td>\n",
       "      <td>13517</td>\n",
       "      <td>6</td>\n",
       "      <td>8</td>\n",
       "      <td>1976</td>\n",
       "      <td>2005</td>\n",
       "      <td>289.0</td>\n",
       "      <td>533.0</td>\n",
       "      <td>...</td>\n",
       "      <td>0</td>\n",
       "      <td>44</td>\n",
       "      <td>0</td>\n",
       "      <td>0</td>\n",
       "      <td>0</td>\n",
       "      <td>0</td>\n",
       "      <td>0</td>\n",
       "      <td>3</td>\n",
       "      <td>2010</td>\n",
       "      <td>130500</td>\n",
       "    </tr>\n",
       "    <tr>\n",
       "      <th>1</th>\n",
       "      <td>544</td>\n",
       "      <td>531379050</td>\n",
       "      <td>60</td>\n",
       "      <td>11492</td>\n",
       "      <td>7</td>\n",
       "      <td>5</td>\n",
       "      <td>1996</td>\n",
       "      <td>1997</td>\n",
       "      <td>132.0</td>\n",
       "      <td>637.0</td>\n",
       "      <td>...</td>\n",
       "      <td>0</td>\n",
       "      <td>74</td>\n",
       "      <td>0</td>\n",
       "      <td>0</td>\n",
       "      <td>0</td>\n",
       "      <td>0</td>\n",
       "      <td>0</td>\n",
       "      <td>4</td>\n",
       "      <td>2009</td>\n",
       "      <td>220000</td>\n",
       "    </tr>\n",
       "    <tr>\n",
       "      <th>2</th>\n",
       "      <td>153</td>\n",
       "      <td>535304180</td>\n",
       "      <td>20</td>\n",
       "      <td>7922</td>\n",
       "      <td>5</td>\n",
       "      <td>7</td>\n",
       "      <td>1953</td>\n",
       "      <td>2007</td>\n",
       "      <td>0.0</td>\n",
       "      <td>731.0</td>\n",
       "      <td>...</td>\n",
       "      <td>0</td>\n",
       "      <td>52</td>\n",
       "      <td>0</td>\n",
       "      <td>0</td>\n",
       "      <td>0</td>\n",
       "      <td>0</td>\n",
       "      <td>0</td>\n",
       "      <td>1</td>\n",
       "      <td>2010</td>\n",
       "      <td>109000</td>\n",
       "    </tr>\n",
       "    <tr>\n",
       "      <th>3</th>\n",
       "      <td>318</td>\n",
       "      <td>916386060</td>\n",
       "      <td>60</td>\n",
       "      <td>9802</td>\n",
       "      <td>5</td>\n",
       "      <td>5</td>\n",
       "      <td>2006</td>\n",
       "      <td>2007</td>\n",
       "      <td>0.0</td>\n",
       "      <td>0.0</td>\n",
       "      <td>...</td>\n",
       "      <td>100</td>\n",
       "      <td>0</td>\n",
       "      <td>0</td>\n",
       "      <td>0</td>\n",
       "      <td>0</td>\n",
       "      <td>0</td>\n",
       "      <td>0</td>\n",
       "      <td>4</td>\n",
       "      <td>2010</td>\n",
       "      <td>174000</td>\n",
       "    </tr>\n",
       "    <tr>\n",
       "      <th>4</th>\n",
       "      <td>255</td>\n",
       "      <td>906425045</td>\n",
       "      <td>50</td>\n",
       "      <td>14235</td>\n",
       "      <td>6</td>\n",
       "      <td>8</td>\n",
       "      <td>1900</td>\n",
       "      <td>1993</td>\n",
       "      <td>0.0</td>\n",
       "      <td>0.0</td>\n",
       "      <td>...</td>\n",
       "      <td>0</td>\n",
       "      <td>59</td>\n",
       "      <td>0</td>\n",
       "      <td>0</td>\n",
       "      <td>0</td>\n",
       "      <td>0</td>\n",
       "      <td>0</td>\n",
       "      <td>3</td>\n",
       "      <td>2010</td>\n",
       "      <td>138500</td>\n",
       "    </tr>\n",
       "  </tbody>\n",
       "</table>\n",
       "<p>5 rows × 37 columns</p>\n",
       "</div>"
      ],
      "text/plain": [
       "    id        pid  ms_subclass  lot_area  overall_qual  overall_cond  \\\n",
       "0  109  533352170           60     13517             6             8   \n",
       "1  544  531379050           60     11492             7             5   \n",
       "2  153  535304180           20      7922             5             7   \n",
       "3  318  916386060           60      9802             5             5   \n",
       "4  255  906425045           50     14235             6             8   \n",
       "\n",
       "   year_built  year_remod/add  mas_vnr_area  bsmtfin_sf_1  ...  wood_deck_sf  \\\n",
       "0        1976            2005         289.0         533.0  ...             0   \n",
       "1        1996            1997         132.0         637.0  ...             0   \n",
       "2        1953            2007           0.0         731.0  ...             0   \n",
       "3        2006            2007           0.0           0.0  ...           100   \n",
       "4        1900            1993           0.0           0.0  ...             0   \n",
       "\n",
       "   open_porch_sf  enclosed_porch  3ssn_porch  screen_porch  pool_area  \\\n",
       "0             44               0           0             0          0   \n",
       "1             74               0           0             0          0   \n",
       "2             52               0           0             0          0   \n",
       "3              0               0           0             0          0   \n",
       "4             59               0           0             0          0   \n",
       "\n",
       "   misc_val  mo_sold  yr_sold  saleprice  \n",
       "0         0        3     2010     130500  \n",
       "1         0        4     2009     220000  \n",
       "2         0        1     2010     109000  \n",
       "3         0        4     2010     174000  \n",
       "4         0        3     2010     138500  \n",
       "\n",
       "[5 rows x 37 columns]"
      ]
     },
     "execution_count": 23,
     "metadata": {},
     "output_type": "execute_result"
    }
   ],
   "source": [
    "train_data_num = pd.DataFrame(train_data_num)\n",
    "\n",
    "train_data_num.head()"
   ]
  },
  {
   "cell_type": "code",
   "execution_count": 24,
   "id": "287b53b9-6f44-4826-a231-424461b82b28",
   "metadata": {},
   "outputs": [],
   "source": [
    "it_imp = IterativeImputer(estimator = LinearRegression())\n",
    "\n",
    "it_imp_train_data_num = it_imp.fit_transform(train_data_num)\n",
    "\n",
    "it_imp_train_data_num = pd.DataFrame(it_imp_train_data_num, columns = train_data_num.columns)"
   ]
  },
  {
   "cell_type": "code",
   "execution_count": 25,
   "id": "6a8d5c85-21af-47b5-8146-c3bf2d894873",
   "metadata": {},
   "outputs": [
    {
     "data": {
      "text/plain": [
       "True"
      ]
     },
     "execution_count": 25,
     "metadata": {},
     "output_type": "execute_result"
    }
   ],
   "source": [
    "train_data_num.shape == it_imp_train_data_num.shape"
   ]
  },
  {
   "cell_type": "code",
   "execution_count": 26,
   "id": "69ab1429-7d78-4c7d-9804-80e636bc34e9",
   "metadata": {},
   "outputs": [
    {
     "data": {
      "text/plain": [
       "id                  0\n",
       "pid                 0\n",
       "ms_subclass         0\n",
       "lot_area            0\n",
       "overall_qual        0\n",
       "overall_cond        0\n",
       "year_built          0\n",
       "year_remod/add      0\n",
       "mas_vnr_area       22\n",
       "bsmtfin_sf_1        1\n",
       "bsmtfin_sf_2        1\n",
       "bsmt_unf_sf         1\n",
       "total_bsmt_sf       1\n",
       "1st_flr_sf          0\n",
       "2nd_flr_sf          0\n",
       "low_qual_fin_sf     0\n",
       "gr_liv_area         0\n",
       "bsmt_full_bath      2\n",
       "bsmt_half_bath      2\n",
       "full_bath           0\n",
       "half_bath           0\n",
       "bedroom_abvgr       0\n",
       "kitchen_abvgr       0\n",
       "totrms_abvgrd       0\n",
       "fireplaces          0\n",
       "garage_cars         1\n",
       "garage_area         1\n",
       "wood_deck_sf        0\n",
       "open_porch_sf       0\n",
       "enclosed_porch      0\n",
       "3ssn_porch          0\n",
       "screen_porch        0\n",
       "pool_area           0\n",
       "misc_val            0\n",
       "mo_sold             0\n",
       "yr_sold             0\n",
       "saleprice           0\n",
       "dtype: int64"
      ]
     },
     "execution_count": 26,
     "metadata": {},
     "output_type": "execute_result"
    }
   ],
   "source": [
    "# Checking how many null's in numerical type columns before imputing\n",
    "train_data_num.isnull().sum()"
   ]
  },
  {
   "cell_type": "code",
   "execution_count": 27,
   "id": "c6217247-da66-4a07-b0ce-3c73352e0fac",
   "metadata": {},
   "outputs": [
    {
     "data": {
      "text/plain": [
       "id                 0\n",
       "pid                0\n",
       "ms_subclass        0\n",
       "lot_area           0\n",
       "overall_qual       0\n",
       "overall_cond       0\n",
       "year_built         0\n",
       "year_remod/add     0\n",
       "mas_vnr_area       0\n",
       "bsmtfin_sf_1       0\n",
       "bsmtfin_sf_2       0\n",
       "bsmt_unf_sf        0\n",
       "total_bsmt_sf      0\n",
       "1st_flr_sf         0\n",
       "2nd_flr_sf         0\n",
       "low_qual_fin_sf    0\n",
       "gr_liv_area        0\n",
       "bsmt_full_bath     0\n",
       "bsmt_half_bath     0\n",
       "full_bath          0\n",
       "half_bath          0\n",
       "bedroom_abvgr      0\n",
       "kitchen_abvgr      0\n",
       "totrms_abvgrd      0\n",
       "fireplaces         0\n",
       "garage_cars        0\n",
       "garage_area        0\n",
       "wood_deck_sf       0\n",
       "open_porch_sf      0\n",
       "enclosed_porch     0\n",
       "3ssn_porch         0\n",
       "screen_porch       0\n",
       "pool_area          0\n",
       "misc_val           0\n",
       "mo_sold            0\n",
       "yr_sold            0\n",
       "saleprice          0\n",
       "dtype: int64"
      ]
     },
     "execution_count": 27,
     "metadata": {},
     "output_type": "execute_result"
    }
   ],
   "source": [
    "# Checking or NO nulls after imputing\n",
    "it_imp_train_data_num.isnull().sum()"
   ]
  },
  {
   "cell_type": "markdown",
   "id": "bedb2805-1a90-4e65-b6e0-766a5d62268e",
   "metadata": {},
   "source": [
    "### We can clearly see the missing values are gone (of the numerical type columns)"
   ]
  },
  {
   "cell_type": "code",
   "execution_count": 28,
   "id": "134adbd0-6466-46c1-ac80-2a2e58f9a976",
   "metadata": {},
   "outputs": [],
   "source": [
    "# Only categorical variables\n",
    "train_data_cat = train_data.select_dtypes(exclude = 'number')\n",
    "\n",
    "#code from: https://pythonexamples.org/pandas-dataframe-select-columns-of-numeric-datatype/"
   ]
  },
  {
   "cell_type": "code",
   "execution_count": 29,
   "id": "eb5e8c56-b887-4867-a993-3578ec89d536",
   "metadata": {},
   "outputs": [
    {
     "data": {
      "text/plain": [
       "(2051, 33)"
      ]
     },
     "execution_count": 29,
     "metadata": {},
     "output_type": "execute_result"
    }
   ],
   "source": [
    "train_data_cat.shape"
   ]
  },
  {
   "cell_type": "code",
   "execution_count": 30,
   "id": "ea89e0f5-1c8e-4bab-af10-c07cee45dd14",
   "metadata": {},
   "outputs": [
    {
     "data": {
      "text/plain": [
       "Index(['ms_zoning', 'street', 'lot_shape', 'land_contour', 'utilities',\n",
       "       'lot_config', 'land_slope', 'neighborhood', 'condition_1',\n",
       "       'condition_2', 'bldg_type', 'house_style', 'roof_style', 'roof_matl',\n",
       "       'exterior_1st', 'exterior_2nd', 'mas_vnr_type', 'exter_qual',\n",
       "       'exter_cond', 'foundation', 'bsmt_qual', 'bsmt_cond', 'bsmt_exposure',\n",
       "       'bsmtfin_type_1', 'bsmtfin_type_2', 'heating', 'heating_qc',\n",
       "       'central_air', 'electrical', 'kitchen_qual', 'functional',\n",
       "       'paved_drive', 'sale_type'],\n",
       "      dtype='object')"
      ]
     },
     "execution_count": 30,
     "metadata": {},
     "output_type": "execute_result"
    }
   ],
   "source": [
    "train_data_cat.columns"
   ]
  },
  {
   "cell_type": "code",
   "execution_count": 31,
   "id": "1569be1c-5844-414b-afa0-35e33f09bd7a",
   "metadata": {},
   "outputs": [
    {
     "data": {
      "text/plain": [
       "(2051, 37)"
      ]
     },
     "execution_count": 31,
     "metadata": {},
     "output_type": "execute_result"
    }
   ],
   "source": [
    "train_data_num.shape"
   ]
  },
  {
   "cell_type": "code",
   "execution_count": 32,
   "id": "18850ec7-86fc-4494-bc87-a3e5a79e5c78",
   "metadata": {},
   "outputs": [
    {
     "data": {
      "text/plain": [
       "Index(['id', 'pid', 'ms_subclass', 'lot_area', 'overall_qual', 'overall_cond',\n",
       "       'year_built', 'year_remod/add', 'mas_vnr_area', 'bsmtfin_sf_1',\n",
       "       'bsmtfin_sf_2', 'bsmt_unf_sf', 'total_bsmt_sf', '1st_flr_sf',\n",
       "       '2nd_flr_sf', 'low_qual_fin_sf', 'gr_liv_area', 'bsmt_full_bath',\n",
       "       'bsmt_half_bath', 'full_bath', 'half_bath', 'bedroom_abvgr',\n",
       "       'kitchen_abvgr', 'totrms_abvgrd', 'fireplaces', 'garage_cars',\n",
       "       'garage_area', 'wood_deck_sf', 'open_porch_sf', 'enclosed_porch',\n",
       "       '3ssn_porch', 'screen_porch', 'pool_area', 'misc_val', 'mo_sold',\n",
       "       'yr_sold', 'saleprice'],\n",
       "      dtype='object')"
      ]
     },
     "execution_count": 32,
     "metadata": {},
     "output_type": "execute_result"
    }
   ],
   "source": [
    "train_data_num.columns"
   ]
  },
  {
   "cell_type": "code",
   "execution_count": 33,
   "id": "fab54c9f-4d05-47f0-bbc5-25f47889d987",
   "metadata": {},
   "outputs": [],
   "source": [
    "# Merge\n",
    "train_clean_imputed = pd.concat([train_data_num, train_data_cat], axis=1)"
   ]
  },
  {
   "cell_type": "code",
   "execution_count": 34,
   "id": "e4510879-6b6e-42a7-9645-fa2bf8bfb21b",
   "metadata": {},
   "outputs": [
    {
     "data": {
      "text/plain": [
       "(2051, 70)"
      ]
     },
     "execution_count": 34,
     "metadata": {},
     "output_type": "execute_result"
    }
   ],
   "source": [
    "train_clean_imputed.shape"
   ]
  },
  {
   "cell_type": "code",
   "execution_count": 35,
   "id": "6753db13-5f56-44e4-8f19-7fdad3f7a40e",
   "metadata": {},
   "outputs": [
    {
     "data": {
      "text/plain": [
       "82"
      ]
     },
     "execution_count": 35,
     "metadata": {},
     "output_type": "execute_result"
    }
   ],
   "source": [
    "#Checking how many rows will get dropped in whole after imputing missing values (in numerical variables)\n",
    "\n",
    "sum([True for idx,row in train_clean_imputed.iterrows() if any(row.isnull())])\n",
    "#code from stackoverflow: https://stackoverflow.com/questions/28199524/best-way-to-count-the-number-of-rows-with-missing-values-in-a-pandas-dataframe"
   ]
  },
  {
   "cell_type": "markdown",
   "id": "cc81a9ce-35cf-4421-b904-3a8b764c71b4",
   "metadata": {},
   "source": [
    "Imputating missing values from numerical type columns has NOT impacted at all. 82 rows dropped would represent almost a 4% loss of data,\n",
    "which will be accepted."
   ]
  },
  {
   "cell_type": "code",
   "execution_count": 36,
   "id": "66ddc40f-77eb-4807-ba0e-2eb6045a7d0e",
   "metadata": {},
   "outputs": [
    {
     "data": {
      "text/plain": [
       "(1969, 70)"
      ]
     },
     "execution_count": 36,
     "metadata": {},
     "output_type": "execute_result"
    }
   ],
   "source": [
    "# Drop the missing values, checking shape\n",
    "train_clean_imputed.dropna(inplace = True)\n",
    "train_clean_imputed.shape"
   ]
  },
  {
   "cell_type": "markdown",
   "id": "78cdfffc-3579-4ed3-bbf4-e20c8ac3f70b",
   "metadata": {},
   "source": [
    "We have NO more null values"
   ]
  },
  {
   "cell_type": "markdown",
   "id": "621708f0-edff-456a-8bb8-815a84af9e3a",
   "metadata": {},
   "source": [
    "### Checking for potential corrupting charachters in the categorical type columns"
   ]
  },
  {
   "cell_type": "code",
   "execution_count": 37,
   "id": "92e22357-7289-4eb3-aa5b-19f0708b6b3b",
   "metadata": {},
   "outputs": [],
   "source": [
    "# List of all columns with object as dtype (categorical variables)\n",
    "obj_types = [column for column in train_clean_imputed.columns if train_clean_imputed[column].dtypes == object]"
   ]
  },
  {
   "cell_type": "code",
   "execution_count": 38,
   "id": "5b5858c0-4a34-436c-b6d6-fb406ed8dc0c",
   "metadata": {},
   "outputs": [
    {
     "data": {
      "text/plain": [
       "33"
      ]
     },
     "execution_count": 38,
     "metadata": {},
     "output_type": "execute_result"
    }
   ],
   "source": [
    "len(obj_types)"
   ]
  },
  {
   "cell_type": "code",
   "execution_count": 39,
   "id": "2a42e4c9-8bea-4192-8574-b4319f7a5876",
   "metadata": {},
   "outputs": [
    {
     "name": "stdout",
     "output_type": "stream",
     "text": [
      "ms_zoning : ['RM', 'RL', 'RH']\n",
      "street : ['Pave', 'Grvl']\n",
      "lot_shape : ['Reg', 'IR3', 'IR2']\n",
      "land_contour : ['Lvl', 'Low', 'HLS']\n",
      "utilities : ['NoSeWa', 'AllPub']\n",
      "lot_config : ['Inside', 'FR3', 'FR2']\n",
      "land_slope : ['Sev', 'Mod', 'Gtl']\n",
      "neighborhood : ['Veenker', 'Timber', 'StoneBr']\n",
      "condition_1 : ['RRNn', 'RRNe', 'RRAn']\n",
      "condition_2 : ['RRNn', 'RRAn', 'RRAe']\n",
      "bldg_type : ['TwnhsE', 'Twnhs', 'Duplex']\n",
      "house_style : ['SLvl', 'SFoyer', '2Story']\n",
      "roof_style : ['Shed', 'Mansard', 'Hip']\n",
      "roof_matl : ['WdShngl', 'WdShake', 'Tar&Grv']\n",
      "exterior_1st : ['WdShing', 'Wd Sdng', 'VinylSd']\n",
      "exterior_2nd : ['Wd Shng', 'Wd Sdng', 'VinylSd']\n",
      "mas_vnr_type : ['Stone', 'None', 'BrkFace']\n",
      "exter_qual : ['TA', 'Gd', 'Fa']\n",
      "exter_cond : ['TA', 'Po', 'Gd']\n",
      "foundation : ['Wood', 'Stone', 'PConc']\n",
      "bsmt_qual : ['TA', 'Po', 'Gd']\n",
      "bsmt_cond : ['TA', 'Po', 'Gd']\n",
      "bsmt_exposure : ['No', 'Mn', 'Gd']\n",
      "bsmtfin_type_1 : ['Unf', 'Rec', 'LwQ']\n",
      "bsmtfin_type_2 : ['Unf', 'Rec', 'LwQ']\n",
      "heating : ['OthW', 'Grav', 'GasW']\n",
      "heating_qc : ['TA', 'Po', 'Gd']\n",
      "central_air : ['Y', 'N']\n",
      "electrical : ['SBrkr', 'Mix', 'FuseP']\n",
      "kitchen_qual : ['TA', 'Gd', 'Fa']\n",
      "functional : ['Typ', 'Sev', 'Sal']\n",
      "paved_drive : ['Y', 'P', 'N']\n",
      "sale_type : ['WD ', 'Oth', 'New']\n"
     ]
    }
   ],
   "source": [
    "# Looking for unique values in object type columns\n",
    "\n",
    "for column in obj_types:\n",
    "    print(f'{column} : {sorted(list(train_clean_imputed[column].unique()), reverse = True)[0:3]}')"
   ]
  },
  {
   "cell_type": "markdown",
   "id": "9c5ebb59-1a45-4666-aaf3-2eb210ec1c04",
   "metadata": {},
   "source": [
    "#### (Everything seems normal with the dtypes, no strange characters)"
   ]
  },
  {
   "cell_type": "markdown",
   "id": "d176d903-64e1-4677-9a51-668e05c7b057",
   "metadata": {},
   "source": [
    "### Now, we study the relation between the categorical variables and our target value (saleprice)"
   ]
  },
  {
   "cell_type": "markdown",
   "id": "9d515f5f-a5c8-41e0-a3b3-f637697f3423",
   "metadata": {},
   "source": [
    "##### One-way ANOVA model:\n",
    "A one-way layout consists of a single factor with several levels and multiple observations at each level. With this kind of layout we can calculate the mean of the observations within each level of our factor."
   ]
  },
  {
   "cell_type": "markdown",
   "id": "1669ca2d-15a5-478f-85a6-e255ca829564",
   "metadata": {},
   "source": [
    "About ANOVA hypothesis test:\n",
    "- This test measures if there are any significant differences between the means of the values of the numeric variable for each categorical value.\n",
    "- Null hypothesis (HO): the variables are not correlated with each other"
   ]
  },
  {
   "cell_type": "code",
   "execution_count": 40,
   "id": "b1f22920-4b71-4102-903f-1e9db5bc2f98",
   "metadata": {},
   "outputs": [
    {
     "name": "stdout",
     "output_type": "stream",
     "text": [
      "utilities P-value for Anova is: 0.5652959867667605\n"
     ]
    }
   ],
   "source": [
    "# code from: https://thinkingneuron.com/how-to-measure-the-correlation-between-a-numeric-and-a-categorical-variable-in-python/\n",
    "\n",
    "from scipy.stats import f_oneway\n",
    "#f_oneway() function takes the group data as input and returns F-statistic and P-value\n",
    "for column in obj_types:\n",
    "    #The next line finds out the sale price for each categorical value of the column as a list\n",
    "    CategoryGroupLists= train_clean_imputed.groupby(column)['saleprice'].apply(list)\n",
    "    #Performing the ANOVA test\n",
    "    AnovaResults = f_oneway(*CategoryGroupLists)\n",
    "    if AnovaResults[1] >= 0.05:\n",
    "        print(f'{column} P-value for Anova is: {AnovaResults[1]}')"
   ]
  },
  {
   "cell_type": "markdown",
   "id": "fd0bb637-eb20-4c61-b794-37975570258c",
   "metadata": {},
   "source": [
    "Because the p-value of the ANOVA test is greater than 0.05, HO is confirmed and no correlation is found between utilities and saleprice"
   ]
  },
  {
   "cell_type": "code",
   "execution_count": 41,
   "id": "4dc82a11-634f-4d64-944a-52382fbb26aa",
   "metadata": {},
   "outputs": [
    {
     "data": {
      "text/plain": [
       "(1969, 69)"
      ]
     },
     "execution_count": 41,
     "metadata": {},
     "output_type": "execute_result"
    }
   ],
   "source": [
    "#Dropping utilities column\n",
    "\n",
    "train_clean_imputed.drop(columns = ['utilities'], inplace = True)\n",
    "train_clean_imputed.shape"
   ]
  },
  {
   "cell_type": "markdown",
   "id": "181cd81a-c714-4381-bb2a-77f9278d43b8",
   "metadata": {},
   "source": [
    "## EDA:"
   ]
  },
  {
   "cell_type": "code",
   "execution_count": 42,
   "id": "fbb1d6f0-f455-4638-801b-e7eb04877ee0",
   "metadata": {},
   "outputs": [
    {
     "data": {
      "text/html": [
       "<div>\n",
       "<style scoped>\n",
       "    .dataframe tbody tr th:only-of-type {\n",
       "        vertical-align: middle;\n",
       "    }\n",
       "\n",
       "    .dataframe tbody tr th {\n",
       "        vertical-align: top;\n",
       "    }\n",
       "\n",
       "    .dataframe thead th {\n",
       "        text-align: right;\n",
       "    }\n",
       "</style>\n",
       "<table border=\"1\" class=\"dataframe\">\n",
       "  <thead>\n",
       "    <tr style=\"text-align: right;\">\n",
       "      <th></th>\n",
       "      <th>id</th>\n",
       "      <th>pid</th>\n",
       "      <th>ms_subclass</th>\n",
       "      <th>lot_area</th>\n",
       "      <th>overall_qual</th>\n",
       "      <th>overall_cond</th>\n",
       "      <th>year_built</th>\n",
       "      <th>year_remod/add</th>\n",
       "      <th>mas_vnr_area</th>\n",
       "      <th>bsmtfin_sf_1</th>\n",
       "      <th>...</th>\n",
       "      <th>bsmtfin_type_1</th>\n",
       "      <th>bsmtfin_type_2</th>\n",
       "      <th>heating</th>\n",
       "      <th>heating_qc</th>\n",
       "      <th>central_air</th>\n",
       "      <th>electrical</th>\n",
       "      <th>kitchen_qual</th>\n",
       "      <th>functional</th>\n",
       "      <th>paved_drive</th>\n",
       "      <th>sale_type</th>\n",
       "    </tr>\n",
       "  </thead>\n",
       "  <tbody>\n",
       "    <tr>\n",
       "      <th>0</th>\n",
       "      <td>109</td>\n",
       "      <td>533352170</td>\n",
       "      <td>60</td>\n",
       "      <td>13517</td>\n",
       "      <td>6</td>\n",
       "      <td>8</td>\n",
       "      <td>1976</td>\n",
       "      <td>2005</td>\n",
       "      <td>289.0</td>\n",
       "      <td>533.0</td>\n",
       "      <td>...</td>\n",
       "      <td>GLQ</td>\n",
       "      <td>Unf</td>\n",
       "      <td>GasA</td>\n",
       "      <td>Ex</td>\n",
       "      <td>Y</td>\n",
       "      <td>SBrkr</td>\n",
       "      <td>Gd</td>\n",
       "      <td>Typ</td>\n",
       "      <td>Y</td>\n",
       "      <td>WD</td>\n",
       "    </tr>\n",
       "    <tr>\n",
       "      <th>1</th>\n",
       "      <td>544</td>\n",
       "      <td>531379050</td>\n",
       "      <td>60</td>\n",
       "      <td>11492</td>\n",
       "      <td>7</td>\n",
       "      <td>5</td>\n",
       "      <td>1996</td>\n",
       "      <td>1997</td>\n",
       "      <td>132.0</td>\n",
       "      <td>637.0</td>\n",
       "      <td>...</td>\n",
       "      <td>GLQ</td>\n",
       "      <td>Unf</td>\n",
       "      <td>GasA</td>\n",
       "      <td>Ex</td>\n",
       "      <td>Y</td>\n",
       "      <td>SBrkr</td>\n",
       "      <td>Gd</td>\n",
       "      <td>Typ</td>\n",
       "      <td>Y</td>\n",
       "      <td>WD</td>\n",
       "    </tr>\n",
       "    <tr>\n",
       "      <th>2</th>\n",
       "      <td>153</td>\n",
       "      <td>535304180</td>\n",
       "      <td>20</td>\n",
       "      <td>7922</td>\n",
       "      <td>5</td>\n",
       "      <td>7</td>\n",
       "      <td>1953</td>\n",
       "      <td>2007</td>\n",
       "      <td>0.0</td>\n",
       "      <td>731.0</td>\n",
       "      <td>...</td>\n",
       "      <td>GLQ</td>\n",
       "      <td>Unf</td>\n",
       "      <td>GasA</td>\n",
       "      <td>TA</td>\n",
       "      <td>Y</td>\n",
       "      <td>SBrkr</td>\n",
       "      <td>Gd</td>\n",
       "      <td>Typ</td>\n",
       "      <td>Y</td>\n",
       "      <td>WD</td>\n",
       "    </tr>\n",
       "    <tr>\n",
       "      <th>3</th>\n",
       "      <td>318</td>\n",
       "      <td>916386060</td>\n",
       "      <td>60</td>\n",
       "      <td>9802</td>\n",
       "      <td>5</td>\n",
       "      <td>5</td>\n",
       "      <td>2006</td>\n",
       "      <td>2007</td>\n",
       "      <td>0.0</td>\n",
       "      <td>0.0</td>\n",
       "      <td>...</td>\n",
       "      <td>Unf</td>\n",
       "      <td>Unf</td>\n",
       "      <td>GasA</td>\n",
       "      <td>Gd</td>\n",
       "      <td>Y</td>\n",
       "      <td>SBrkr</td>\n",
       "      <td>TA</td>\n",
       "      <td>Typ</td>\n",
       "      <td>Y</td>\n",
       "      <td>WD</td>\n",
       "    </tr>\n",
       "    <tr>\n",
       "      <th>4</th>\n",
       "      <td>255</td>\n",
       "      <td>906425045</td>\n",
       "      <td>50</td>\n",
       "      <td>14235</td>\n",
       "      <td>6</td>\n",
       "      <td>8</td>\n",
       "      <td>1900</td>\n",
       "      <td>1993</td>\n",
       "      <td>0.0</td>\n",
       "      <td>0.0</td>\n",
       "      <td>...</td>\n",
       "      <td>Unf</td>\n",
       "      <td>Unf</td>\n",
       "      <td>GasA</td>\n",
       "      <td>TA</td>\n",
       "      <td>Y</td>\n",
       "      <td>SBrkr</td>\n",
       "      <td>TA</td>\n",
       "      <td>Typ</td>\n",
       "      <td>N</td>\n",
       "      <td>WD</td>\n",
       "    </tr>\n",
       "  </tbody>\n",
       "</table>\n",
       "<p>5 rows × 69 columns</p>\n",
       "</div>"
      ],
      "text/plain": [
       "    id        pid  ms_subclass  lot_area  overall_qual  overall_cond  \\\n",
       "0  109  533352170           60     13517             6             8   \n",
       "1  544  531379050           60     11492             7             5   \n",
       "2  153  535304180           20      7922             5             7   \n",
       "3  318  916386060           60      9802             5             5   \n",
       "4  255  906425045           50     14235             6             8   \n",
       "\n",
       "   year_built  year_remod/add  mas_vnr_area  bsmtfin_sf_1  ...  \\\n",
       "0        1976            2005         289.0         533.0  ...   \n",
       "1        1996            1997         132.0         637.0  ...   \n",
       "2        1953            2007           0.0         731.0  ...   \n",
       "3        2006            2007           0.0           0.0  ...   \n",
       "4        1900            1993           0.0           0.0  ...   \n",
       "\n",
       "   bsmtfin_type_1  bsmtfin_type_2  heating  heating_qc  central_air  \\\n",
       "0             GLQ             Unf     GasA          Ex            Y   \n",
       "1             GLQ             Unf     GasA          Ex            Y   \n",
       "2             GLQ             Unf     GasA          TA            Y   \n",
       "3             Unf             Unf     GasA          Gd            Y   \n",
       "4             Unf             Unf     GasA          TA            Y   \n",
       "\n",
       "   electrical  kitchen_qual  functional  paved_drive  sale_type  \n",
       "0       SBrkr            Gd         Typ            Y        WD   \n",
       "1       SBrkr            Gd         Typ            Y        WD   \n",
       "2       SBrkr            Gd         Typ            Y        WD   \n",
       "3       SBrkr            TA         Typ            Y        WD   \n",
       "4       SBrkr            TA         Typ            N        WD   \n",
       "\n",
       "[5 rows x 69 columns]"
      ]
     },
     "execution_count": 42,
     "metadata": {},
     "output_type": "execute_result"
    }
   ],
   "source": [
    "train_clean_imputed.head()"
   ]
  },
  {
   "cell_type": "code",
   "execution_count": 43,
   "id": "53f93061-3da5-4d24-8e0b-fc2cfa3377cc",
   "metadata": {},
   "outputs": [
    {
     "data": {
      "text/plain": [
       "(1969, 69)"
      ]
     },
     "execution_count": 43,
     "metadata": {},
     "output_type": "execute_result"
    }
   ],
   "source": [
    "train_clean_imputed.shape"
   ]
  },
  {
   "cell_type": "markdown",
   "id": "51ed97d0-29fc-431c-9cb4-8ba21a61d540",
   "metadata": {},
   "source": [
    "### First, we are studying if there are any clear outliers that must be dropped"
   ]
  },
  {
   "cell_type": "markdown",
   "id": "fa7fd9b6-fa59-4d8f-8684-dc6c0fb31867",
   "metadata": {},
   "source": [
    "As the data documentation recommends, we should remove any houses with more than 4000 sqft from the dataset to eliminate unusual observations. A plot of saleprice vs gr_liv_area will indicate them quickly."
   ]
  },
  {
   "cell_type": "code",
   "execution_count": 44,
   "id": "baf002c8-c67f-41db-9026-dc01ab69e258",
   "metadata": {},
   "outputs": [
    {
     "data": {
      "image/png": "[encoded data removed]",
      "text/plain": [
       "<Figure size 720x360 with 1 Axes>"
      ]
     },
     "metadata": {
      "needs_background": "light"
     },
     "output_type": "display_data"
    }
   ],
   "source": [
    "import warnings\n",
    "warnings.filterwarnings('ignore')\n",
    "\n",
    "plt.figure(figsize=(10, 5))\n",
    "sns.boxplot(train_clean_imputed['saleprice'], fliersize = 10)\n",
    "plt.title(label = 'Sale price', fontdict = {'size': 30}, loc = 'center')\n",
    "plt.xlabel('USD', fontdict = {'size': 20}, loc = 'center');"
   ]
  },
  {
   "cell_type": "code",
   "execution_count": 45,
   "id": "ff7e3031-07ef-4b6a-8811-4e3b61eeb3c4",
   "metadata": {},
   "outputs": [
    {
     "data": {
      "text/plain": [
       "1671    611657\n",
       "1964    591587\n",
       "1692    584500\n",
       "1796    582933\n",
       "151     556581\n",
       "Name: saleprice, dtype: int64"
      ]
     },
     "execution_count": 45,
     "metadata": {},
     "output_type": "execute_result"
    }
   ],
   "source": [
    "# 5 largest sale prices\n",
    "train_clean_imputed['saleprice'].nlargest(5)\n",
    "\n",
    "#Code from: https://www.learneasysteps.com/how-to-calculate-top-5-max-values-in-pandas/"
   ]
  },
  {
   "cell_type": "code",
   "execution_count": 46,
   "id": "74295f3b-a5bd-464a-89fa-9d59c7b1685d",
   "metadata": {},
   "outputs": [
    {
     "data": {
      "image/png": "[encoded data removed]",
      "text/plain": [
       "<Figure size 720x360 with 1 Axes>"
      ]
     },
     "metadata": {
      "needs_background": "light"
     },
     "output_type": "display_data"
    }
   ],
   "source": [
    "import warnings\n",
    "warnings.filterwarnings('ignore')\n",
    "\n",
    "plt.figure(figsize=(10, 5))\n",
    "sns.boxplot(train_clean_imputed['gr_liv_area'], fliersize = 10)\n",
    "plt.title(label = 'Above ground living area', fontdict = {'size': 30}, loc = 'center')\n",
    "plt.xlabel('Square feet', fontdict = {'size': 20}, loc = 'center');"
   ]
  },
  {
   "cell_type": "code",
   "execution_count": 47,
   "id": "b56f0ccc-1f7b-4225-bd33-e3837a0964cd",
   "metadata": {},
   "outputs": [
    {
     "data": {
      "image/png": "[encoded data removed]",
      "text/plain": [
       "<Figure size 720x648 with 1 Axes>"
      ]
     },
     "metadata": {
      "needs_background": "light"
     },
     "output_type": "display_data"
    }
   ],
   "source": [
    "vs = train_clean_imputed.plot(\n",
    "    kind='scatter', \n",
    "    x='saleprice',\n",
    "    y='gr_liv_area',\n",
    "    title=\"saleprive vs gr_liv_area\",\n",
    "    alpha=0.6, # set the opacity of the points (0 is completely transparent and 1 is opaque)\n",
    "    figsize=(10,9)\n",
    ")\n",
    "\n",
    "vs.set_xlabel(\"Sale price (USD)\", fontsize=20) # set the axes labels with a fontsize\n",
    "vs.set_ylabel(\"Above ground living area (square-feet)\", fontsize = 20);"
   ]
  },
  {
   "cell_type": "code",
   "execution_count": 48,
   "id": "09558b37-73c3-4618-ae85-4ed33ca2a008",
   "metadata": {},
   "outputs": [
    {
     "data": {
      "text/plain": [
       "Int64Index([960, 1885], dtype='int64')"
      ]
     },
     "execution_count": 48,
     "metadata": {},
     "output_type": "execute_result"
    }
   ],
   "source": [
    "# Removing outliers\n",
    "\n",
    "i = train_clean_imputed[train_clean_imputed['gr_liv_area'] >= 4000].index #Looking for the row indexes`\n",
    "i"
   ]
  },
  {
   "cell_type": "code",
   "execution_count": 49,
   "id": "1650f4b6-fe52-4e21-88ef-504f77c49aa3",
   "metadata": {},
   "outputs": [],
   "source": [
    "#Deleting rows\n",
    "train_clean_imputed.drop(labels = [960, 1885], axis = 0, inplace = True)"
   ]
  },
  {
   "cell_type": "code",
   "execution_count": 50,
   "id": "16e8d2a8-8003-4622-b1d9-8a76577c4429",
   "metadata": {},
   "outputs": [
    {
     "data": {
      "text/plain": [
       "(1967, 69)"
      ]
     },
     "execution_count": 50,
     "metadata": {},
     "output_type": "execute_result"
    }
   ],
   "source": [
    "train_clean_imputed.shape"
   ]
  },
  {
   "cell_type": "code",
   "execution_count": 51,
   "id": "c3a19c4b-8ca9-430c-963b-0c7e4c8f486f",
   "metadata": {},
   "outputs": [
    {
     "data": {
      "image/png": "[encoded data removed]",
      "text/plain": [
       "<Figure size 720x648 with 1 Axes>"
      ]
     },
     "metadata": {
      "needs_background": "light"
     },
     "output_type": "display_data"
    }
   ],
   "source": [
    "# Checking plot again for missing outliers\n",
    "\n",
    "vs = train_clean_imputed.plot(\n",
    "    kind='scatter', \n",
    "    x='saleprice',\n",
    "    y='gr_liv_area',\n",
    "    title=\"saleprive vs gr_liv_area\",\n",
    "    alpha=0.6, # set the opacity of the points (0 is completely transparent and 1 is opaque)\n",
    "    figsize=(10,9)\n",
    ")\n",
    "\n",
    "vs.set_xlabel(\"Sale price (USD)\", fontsize=20) # set the axes labels with a fontsize\n",
    "vs.set_ylabel(\"Above ground living area (square-feet)\", fontsize = 20);"
   ]
  },
  {
   "cell_type": "code",
   "execution_count": 52,
   "id": "64f452e8-81c8-4e89-ab37-d52bf6f731ab",
   "metadata": {},
   "outputs": [
    {
     "data": {
      "image/png": "[encoded data removed]",
      "text/plain": [
       "<Figure size 432x288 with 1 Axes>"
      ]
     },
     "metadata": {
      "needs_background": "light"
     },
     "output_type": "display_data"
    }
   ],
   "source": [
    "# Checking \"saleprice\" distribution:\n",
    "\n",
    "sp = (\n",
    "    train_clean_imputed['saleprice']      \n",
    "    .plot(\n",
    "        kind='hist',\n",
    "        title='Sale price distribution',\n",
    "        bins = 50\n",
    "        )\n",
    ")\n",
    "\n",
    "sp.set(xlabel = 'Price (USD)');"
   ]
  },
  {
   "cell_type": "markdown",
   "id": "ee72d2e6-df9f-4651-a9ef-3ad7c30c7a7a",
   "metadata": {},
   "source": [
    "As we can observe, it is a bit right skewed, but fairly normal distributed! We should expect our sale price predictions to follow a normal distribution as well."
   ]
  },
  {
   "cell_type": "code",
   "execution_count": 53,
   "id": "9366a2e7-b88b-4f79-b0c7-e857c6ecd885",
   "metadata": {},
   "outputs": [],
   "source": [
    "#Saving the cleaned dataset\n",
    "train_clean_imputed.to_csv('../datasets/train-data-clean-imputed-1.1.csv', index = False)"
   ]
  },
  {
   "cell_type": "code",
   "execution_count": null,
   "id": "6d4b5bcb-0a95-47b3-ba97-96b22a5e3f36",
   "metadata": {},
   "outputs": [],
   "source": []
  },
  {
   "cell_type": "markdown",
   "id": "aabfe2bb-e8ae-42f6-9d79-d27c8ea224cc",
   "metadata": {},
   "source": [
    "### Summary statistics:"
   ]
  },
  {
   "cell_type": "code",
   "execution_count": 54,
   "id": "53b7ed9e-0204-4658-8d33-86064b830f3c",
   "metadata": {},
   "outputs": [
    {
     "data": {
      "text/html": [
       "<div>\n",
       "<style scoped>\n",
       "    .dataframe tbody tr th:only-of-type {\n",
       "        vertical-align: middle;\n",
       "    }\n",
       "\n",
       "    .dataframe tbody tr th {\n",
       "        vertical-align: top;\n",
       "    }\n",
       "\n",
       "    .dataframe thead th {\n",
       "        text-align: right;\n",
       "    }\n",
       "</style>\n",
       "<table border=\"1\" class=\"dataframe\">\n",
       "  <thead>\n",
       "    <tr style=\"text-align: right;\">\n",
       "      <th></th>\n",
       "      <th>id</th>\n",
       "      <th>pid</th>\n",
       "      <th>ms_subclass</th>\n",
       "      <th>lot_area</th>\n",
       "      <th>overall_qual</th>\n",
       "      <th>overall_cond</th>\n",
       "      <th>year_built</th>\n",
       "      <th>year_remod/add</th>\n",
       "      <th>mas_vnr_area</th>\n",
       "      <th>bsmtfin_sf_1</th>\n",
       "      <th>...</th>\n",
       "      <th>wood_deck_sf</th>\n",
       "      <th>open_porch_sf</th>\n",
       "      <th>enclosed_porch</th>\n",
       "      <th>3ssn_porch</th>\n",
       "      <th>screen_porch</th>\n",
       "      <th>pool_area</th>\n",
       "      <th>misc_val</th>\n",
       "      <th>mo_sold</th>\n",
       "      <th>yr_sold</th>\n",
       "      <th>saleprice</th>\n",
       "    </tr>\n",
       "  </thead>\n",
       "  <tbody>\n",
       "    <tr>\n",
       "      <th>count</th>\n",
       "      <td>1967.000000</td>\n",
       "      <td>1.967000e+03</td>\n",
       "      <td>1967.000000</td>\n",
       "      <td>1967.000000</td>\n",
       "      <td>1967.000000</td>\n",
       "      <td>1967.000000</td>\n",
       "      <td>1967.000000</td>\n",
       "      <td>1967.000000</td>\n",
       "      <td>1967.000000</td>\n",
       "      <td>1967.000000</td>\n",
       "      <td>...</td>\n",
       "      <td>1967.000000</td>\n",
       "      <td>1967.000000</td>\n",
       "      <td>1967.000000</td>\n",
       "      <td>1967.000000</td>\n",
       "      <td>1967.000000</td>\n",
       "      <td>1967.000000</td>\n",
       "      <td>1967.000000</td>\n",
       "      <td>1967.000000</td>\n",
       "      <td>1967.000000</td>\n",
       "      <td>1967.000000</td>\n",
       "    </tr>\n",
       "    <tr>\n",
       "      <th>mean</th>\n",
       "      <td>1471.879004</td>\n",
       "      <td>7.123671e+08</td>\n",
       "      <td>57.097102</td>\n",
       "      <td>9963.339095</td>\n",
       "      <td>6.150991</td>\n",
       "      <td>5.584138</td>\n",
       "      <td>1971.777834</td>\n",
       "      <td>1984.410269</td>\n",
       "      <td>100.826640</td>\n",
       "      <td>449.789019</td>\n",
       "      <td>...</td>\n",
       "      <td>95.674123</td>\n",
       "      <td>47.523132</td>\n",
       "      <td>22.318251</td>\n",
       "      <td>2.702084</td>\n",
       "      <td>16.882054</td>\n",
       "      <td>1.971022</td>\n",
       "      <td>42.795628</td>\n",
       "      <td>6.213015</td>\n",
       "      <td>2007.776309</td>\n",
       "      <td>182904.013726</td>\n",
       "    </tr>\n",
       "    <tr>\n",
       "      <th>std</th>\n",
       "      <td>844.954843</td>\n",
       "      <td>1.886656e+08</td>\n",
       "      <td>43.022708</td>\n",
       "      <td>6569.493107</td>\n",
       "      <td>1.381125</td>\n",
       "      <td>1.105757</td>\n",
       "      <td>30.221107</td>\n",
       "      <td>20.857140</td>\n",
       "      <td>173.993203</td>\n",
       "      <td>438.861646</td>\n",
       "      <td>...</td>\n",
       "      <td>129.233369</td>\n",
       "      <td>65.359631</td>\n",
       "      <td>59.724898</td>\n",
       "      <td>25.757155</td>\n",
       "      <td>57.823981</td>\n",
       "      <td>34.833212</td>\n",
       "      <td>436.154324</td>\n",
       "      <td>2.745175</td>\n",
       "      <td>1.313824</td>\n",
       "      <td>78976.784441</td>\n",
       "    </tr>\n",
       "    <tr>\n",
       "      <th>min</th>\n",
       "      <td>1.000000</td>\n",
       "      <td>5.263011e+08</td>\n",
       "      <td>20.000000</td>\n",
       "      <td>1300.000000</td>\n",
       "      <td>1.000000</td>\n",
       "      <td>1.000000</td>\n",
       "      <td>1872.000000</td>\n",
       "      <td>1950.000000</td>\n",
       "      <td>0.000000</td>\n",
       "      <td>0.000000</td>\n",
       "      <td>...</td>\n",
       "      <td>0.000000</td>\n",
       "      <td>0.000000</td>\n",
       "      <td>0.000000</td>\n",
       "      <td>0.000000</td>\n",
       "      <td>0.000000</td>\n",
       "      <td>0.000000</td>\n",
       "      <td>0.000000</td>\n",
       "      <td>1.000000</td>\n",
       "      <td>2006.000000</td>\n",
       "      <td>12789.000000</td>\n",
       "    </tr>\n",
       "    <tr>\n",
       "      <th>25%</th>\n",
       "      <td>746.500000</td>\n",
       "      <td>5.284562e+08</td>\n",
       "      <td>20.000000</td>\n",
       "      <td>7500.000000</td>\n",
       "      <td>5.000000</td>\n",
       "      <td>5.000000</td>\n",
       "      <td>1954.000000</td>\n",
       "      <td>1965.000000</td>\n",
       "      <td>0.000000</td>\n",
       "      <td>0.000000</td>\n",
       "      <td>...</td>\n",
       "      <td>0.000000</td>\n",
       "      <td>0.000000</td>\n",
       "      <td>0.000000</td>\n",
       "      <td>0.000000</td>\n",
       "      <td>0.000000</td>\n",
       "      <td>0.000000</td>\n",
       "      <td>0.000000</td>\n",
       "      <td>4.000000</td>\n",
       "      <td>2007.000000</td>\n",
       "      <td>130000.000000</td>\n",
       "    </tr>\n",
       "    <tr>\n",
       "      <th>50%</th>\n",
       "      <td>1480.000000</td>\n",
       "      <td>5.354521e+08</td>\n",
       "      <td>50.000000</td>\n",
       "      <td>9400.000000</td>\n",
       "      <td>6.000000</td>\n",
       "      <td>5.000000</td>\n",
       "      <td>1975.000000</td>\n",
       "      <td>1993.000000</td>\n",
       "      <td>0.000000</td>\n",
       "      <td>384.000000</td>\n",
       "      <td>...</td>\n",
       "      <td>0.000000</td>\n",
       "      <td>28.000000</td>\n",
       "      <td>0.000000</td>\n",
       "      <td>0.000000</td>\n",
       "      <td>0.000000</td>\n",
       "      <td>0.000000</td>\n",
       "      <td>0.000000</td>\n",
       "      <td>6.000000</td>\n",
       "      <td>2008.000000</td>\n",
       "      <td>163500.000000</td>\n",
       "    </tr>\n",
       "    <tr>\n",
       "      <th>75%</th>\n",
       "      <td>2194.500000</td>\n",
       "      <td>9.071750e+08</td>\n",
       "      <td>70.000000</td>\n",
       "      <td>11478.500000</td>\n",
       "      <td>7.000000</td>\n",
       "      <td>6.000000</td>\n",
       "      <td>2001.000000</td>\n",
       "      <td>2004.000000</td>\n",
       "      <td>164.000000</td>\n",
       "      <td>740.500000</td>\n",
       "      <td>...</td>\n",
       "      <td>168.000000</td>\n",
       "      <td>70.000000</td>\n",
       "      <td>0.000000</td>\n",
       "      <td>0.000000</td>\n",
       "      <td>0.000000</td>\n",
       "      <td>0.000000</td>\n",
       "      <td>0.000000</td>\n",
       "      <td>8.000000</td>\n",
       "      <td>2009.000000</td>\n",
       "      <td>214950.000000</td>\n",
       "    </tr>\n",
       "    <tr>\n",
       "      <th>max</th>\n",
       "      <td>2930.000000</td>\n",
       "      <td>9.241520e+08</td>\n",
       "      <td>190.000000</td>\n",
       "      <td>159000.000000</td>\n",
       "      <td>10.000000</td>\n",
       "      <td>9.000000</td>\n",
       "      <td>2010.000000</td>\n",
       "      <td>2010.000000</td>\n",
       "      <td>1600.000000</td>\n",
       "      <td>2188.000000</td>\n",
       "      <td>...</td>\n",
       "      <td>1424.000000</td>\n",
       "      <td>547.000000</td>\n",
       "      <td>432.000000</td>\n",
       "      <td>508.000000</td>\n",
       "      <td>490.000000</td>\n",
       "      <td>800.000000</td>\n",
       "      <td>12500.000000</td>\n",
       "      <td>12.000000</td>\n",
       "      <td>2010.000000</td>\n",
       "      <td>611657.000000</td>\n",
       "    </tr>\n",
       "  </tbody>\n",
       "</table>\n",
       "<p>8 rows × 37 columns</p>\n",
       "</div>"
      ],
      "text/plain": [
       "                id           pid  ms_subclass       lot_area  overall_qual  \\\n",
       "count  1967.000000  1.967000e+03  1967.000000    1967.000000   1967.000000   \n",
       "mean   1471.879004  7.123671e+08    57.097102    9963.339095      6.150991   \n",
       "std     844.954843  1.886656e+08    43.022708    6569.493107      1.381125   \n",
       "min       1.000000  5.263011e+08    20.000000    1300.000000      1.000000   \n",
       "25%     746.500000  5.284562e+08    20.000000    7500.000000      5.000000   \n",
       "50%    1480.000000  5.354521e+08    50.000000    9400.000000      6.000000   \n",
       "75%    2194.500000  9.071750e+08    70.000000   11478.500000      7.000000   \n",
       "max    2930.000000  9.241520e+08   190.000000  159000.000000     10.000000   \n",
       "\n",
       "       overall_cond   year_built  year_remod/add  mas_vnr_area  bsmtfin_sf_1  \\\n",
       "count   1967.000000  1967.000000     1967.000000   1967.000000   1967.000000   \n",
       "mean       5.584138  1971.777834     1984.410269    100.826640    449.789019   \n",
       "std        1.105757    30.221107       20.857140    173.993203    438.861646   \n",
       "min        1.000000  1872.000000     1950.000000      0.000000      0.000000   \n",
       "25%        5.000000  1954.000000     1965.000000      0.000000      0.000000   \n",
       "50%        5.000000  1975.000000     1993.000000      0.000000    384.000000   \n",
       "75%        6.000000  2001.000000     2004.000000    164.000000    740.500000   \n",
       "max        9.000000  2010.000000     2010.000000   1600.000000   2188.000000   \n",
       "\n",
       "       ...  wood_deck_sf  open_porch_sf  enclosed_porch   3ssn_porch  \\\n",
       "count  ...   1967.000000    1967.000000     1967.000000  1967.000000   \n",
       "mean   ...     95.674123      47.523132       22.318251     2.702084   \n",
       "std    ...    129.233369      65.359631       59.724898    25.757155   \n",
       "min    ...      0.000000       0.000000        0.000000     0.000000   \n",
       "25%    ...      0.000000       0.000000        0.000000     0.000000   \n",
       "50%    ...      0.000000      28.000000        0.000000     0.000000   \n",
       "75%    ...    168.000000      70.000000        0.000000     0.000000   \n",
       "max    ...   1424.000000     547.000000      432.000000   508.000000   \n",
       "\n",
       "       screen_porch    pool_area      misc_val      mo_sold      yr_sold  \\\n",
       "count   1967.000000  1967.000000   1967.000000  1967.000000  1967.000000   \n",
       "mean      16.882054     1.971022     42.795628     6.213015  2007.776309   \n",
       "std       57.823981    34.833212    436.154324     2.745175     1.313824   \n",
       "min        0.000000     0.000000      0.000000     1.000000  2006.000000   \n",
       "25%        0.000000     0.000000      0.000000     4.000000  2007.000000   \n",
       "50%        0.000000     0.000000      0.000000     6.000000  2008.000000   \n",
       "75%        0.000000     0.000000      0.000000     8.000000  2009.000000   \n",
       "max      490.000000   800.000000  12500.000000    12.000000  2010.000000   \n",
       "\n",
       "           saleprice  \n",
       "count    1967.000000  \n",
       "mean   182904.013726  \n",
       "std     78976.784441  \n",
       "min     12789.000000  \n",
       "25%    130000.000000  \n",
       "50%    163500.000000  \n",
       "75%    214950.000000  \n",
       "max    611657.000000  \n",
       "\n",
       "[8 rows x 37 columns]"
      ]
     },
     "execution_count": 54,
     "metadata": {},
     "output_type": "execute_result"
    }
   ],
   "source": [
    "train_clean_imputed.describe()"
   ]
  },
  {
   "cell_type": "markdown",
   "id": "40b78f1a-c15e-4a0a-af2f-548b2a38a237",
   "metadata": {},
   "source": [
    "One thing that pops out is the diferent scales there are between some variables."
   ]
  },
  {
   "cell_type": "markdown",
   "id": "8641fe1c-2fcd-4fae-a83b-b72f934ef019",
   "metadata": {},
   "source": [
    "### Correlations to help us with initial feature selection\n",
    "##### Correlation meaning:\n",
    "##### - Perfect:  (+-)1\n",
    "##### - Strong:  (+-)0.75 to 1\n",
    "##### - Moderate:  (+-)0.5 to 0.75\n",
    "##### - Weak:  <(+-)0.5"
   ]
  },
  {
   "cell_type": "code",
   "execution_count": 55,
   "id": "19dd8c67-892b-444b-88c3-db9552394cb5",
   "metadata": {},
   "outputs": [
    {
     "data": {
      "text/plain": [
       "pid               -0.248726\n",
       "ms_subclass       -0.087354\n",
       "lot_area           0.316419\n",
       "overall_qual       0.801199\n",
       "overall_cond      -0.114619\n",
       "year_built         0.568381\n",
       "year_remod/add     0.542079\n",
       "mas_vnr_area       0.518340\n",
       "bsmtfin_sf_1       0.433637\n",
       "bsmtfin_sf_2       0.010383\n",
       "bsmt_unf_sf        0.162288\n",
       "total_bsmt_sf      0.672959\n",
       "1st_flr_sf         0.662566\n",
       "2nd_flr_sf         0.245800\n",
       "low_qual_fin_sf   -0.041805\n",
       "gr_liv_area        0.724718\n",
       "bsmt_full_bath     0.270892\n",
       "bsmt_half_bath    -0.051353\n",
       "full_bath          0.548328\n",
       "half_bath          0.272597\n",
       "bedroom_abvgr      0.129850\n",
       "kitchen_abvgr     -0.091725\n",
       "totrms_abvgrd      0.519777\n",
       "fireplaces         0.466362\n",
       "garage_cars        0.651983\n",
       "garage_area        0.656542\n",
       "wood_deck_sf       0.324089\n",
       "open_porch_sf      0.326029\n",
       "enclosed_porch    -0.138595\n",
       "3ssn_porch         0.048045\n",
       "screen_porch       0.138821\n",
       "pool_area          0.032443\n",
       "misc_val          -0.004867\n",
       "mo_sold            0.023439\n",
       "yr_sold           -0.009385\n",
       "saleprice          1.000000\n",
       "Name: saleprice, dtype: float64"
      ]
     },
     "execution_count": 55,
     "metadata": {},
     "output_type": "execute_result"
    }
   ],
   "source": [
    "# For numerical variables:\n",
    "train_clean_imputed[train_clean_imputed.columns[1:]].corr()['saleprice'][:] "
   ]
  },
  {
   "cell_type": "markdown",
   "id": "42323c0b-d631-4d42-b71a-1820fd38e845",
   "metadata": {},
   "source": [
    "\\\n",
    "The best correlated numerical variables with the target value ('saleprice') are:\\\n",
    "    - overall_qual: 0.80\\\n",
    "    - total_bsmt_sf: 0.67\\\n",
    "    - 1st_flr_sf: 0.66 (will be very correlated with 'gr_liv_area' variable, only choose one of two)\\\n",
    "    - gr_liv_area: 0.72\\\n",
    "    - garage_cars: 0.651983 (will be very correlated with 'garage_area' variable, only choose one of two)\\\n",
    "    - garage_area: 0.656542\n",
    " "
   ]
  },
  {
   "cell_type": "code",
   "execution_count": 71,
   "id": "edc5b50d-57a8-4459-b18a-ea90fc5ebc08",
   "metadata": {},
   "outputs": [
    {
     "data": {
      "image/png": "[encoded data removed]",
      "text/plain": [
       "<Figure size 720x576 with 2 Axes>"
      ]
     },
     "metadata": {
      "needs_background": "light"
     },
     "output_type": "display_data"
    }
   ],
   "source": [
    "# Just with 'has_heart_disease'\n",
    "plt.figure(figsize = (10, 8))\n",
    "sns.heatmap(train_clean_imputed.corr()[['saleprice']],\n",
    "           cmap = 'winter',\n",
    "           annot = True,\n",
    "           vmin = -1,\n",
    "           vmax = 1);\n",
    "plt.title(label = 'Sale Price correlations', fontdict = {'size': 30}, loc = 'center');"
   ]
  },
  {
   "cell_type": "markdown",
   "id": "ef64b827-dee2-4147-8837-e3cdf6b0b162",
   "metadata": {},
   "source": [
    "### Now lets study the categorical variables"
   ]
  },
  {
   "cell_type": "code",
   "execution_count": 56,
   "id": "e55ca426-ebe1-4216-a6c5-f97483c04ce3",
   "metadata": {},
   "outputs": [],
   "source": [
    "# List of all columns with object as dtype (categorical variables)\n",
    "obj_tp = [column for column in train_clean_imputed.columns if train_clean_imputed[column].dtypes == object]"
   ]
  },
  {
   "cell_type": "code",
   "execution_count": 57,
   "id": "ecbd5c55-5d8b-4be6-a0b4-c9ccb43176b5",
   "metadata": {},
   "outputs": [
    {
     "name": "stdout",
     "output_type": "stream",
     "text": [
      "street ['Pave' 'Grvl']\n",
      "central_air ['Y' 'N']\n"
     ]
    }
   ],
   "source": [
    "#Looking for the categorical variables with only two vars\n",
    "\n",
    "for column in obj_tp:\n",
    "    if len(list(train_clean_imputed[column].unique())) == 2:\n",
    "        print(column,train_clean_imputed[column].unique())"
   ]
  },
  {
   "cell_type": "code",
   "execution_count": 58,
   "id": "bd727344-355a-4ef8-a40e-26176b0fdb30",
   "metadata": {},
   "outputs": [],
   "source": [
    "# Changing street and central_air into numerical: \n",
    "#for street: Pave = 1 / Grvl = 0\n",
    "#for central_air: Y=1 / N=0\n",
    "train_clean_imputed.street.replace(('Pave', 'Grvl'), (1, 0), inplace = True)\n",
    "train_clean_imputed.central_air.replace(('Y', 'N'), (1, 0), inplace = True)"
   ]
  },
  {
   "cell_type": "code",
   "execution_count": 59,
   "id": "53283817-aa4b-4bca-9347-03318f02f3bc",
   "metadata": {},
   "outputs": [
    {
     "data": {
      "text/plain": [
       "1    1961\n",
       "0       6\n",
       "Name: street, dtype: int64"
      ]
     },
     "execution_count": 59,
     "metadata": {},
     "output_type": "execute_result"
    }
   ],
   "source": [
    "train_clean_imputed['street'].value_counts()"
   ]
  },
  {
   "cell_type": "code",
   "execution_count": 60,
   "id": "b214e66f-1954-4d55-9540-bd849a42aa19",
   "metadata": {},
   "outputs": [
    {
     "data": {
      "text/plain": [
       "1    1848\n",
       "0     119\n",
       "Name: central_air, dtype: int64"
      ]
     },
     "execution_count": 60,
     "metadata": {},
     "output_type": "execute_result"
    }
   ],
   "source": [
    "train_clean_imputed['central_air'].value_counts()"
   ]
  },
  {
   "cell_type": "markdown",
   "id": "e1871342-0f50-4d0e-a65a-ea3c15e76329",
   "metadata": {},
   "source": [
    "\\\n",
    "Something interesting to notice is that these columns are very bias and are not going to give the model much help to train.\\\n",
    "Deleting these columns:"
   ]
  },
  {
   "cell_type": "code",
   "execution_count": 61,
   "id": "67bc70e2-c2b0-43ed-9ace-389bf77075fa",
   "metadata": {},
   "outputs": [
    {
     "data": {
      "text/plain": [
       "(1967, 69)"
      ]
     },
     "execution_count": 61,
     "metadata": {},
     "output_type": "execute_result"
    }
   ],
   "source": [
    "train_clean_imputed.shape"
   ]
  },
  {
   "cell_type": "code",
   "execution_count": 62,
   "id": "62487599-7edf-46c4-8239-347f41245893",
   "metadata": {},
   "outputs": [],
   "source": [
    "train_clean_imputed.drop(columns = ['street', 'central_air'], inplace = True)"
   ]
  },
  {
   "cell_type": "code",
   "execution_count": 63,
   "id": "9578800b-2b37-4a1c-8a6a-e579d02877cf",
   "metadata": {},
   "outputs": [
    {
     "data": {
      "text/plain": [
       "(1967, 67)"
      ]
     },
     "execution_count": 63,
     "metadata": {},
     "output_type": "execute_result"
    }
   ],
   "source": [
    "train_clean_imputed.shape"
   ]
  },
  {
   "cell_type": "markdown",
   "id": "2945fb96-a5c8-49be-bf99-4458a48a6bb3",
   "metadata": {},
   "source": [
    "## (saving cleaned dataframe as csv)"
   ]
  },
  {
   "cell_type": "code",
   "execution_count": 64,
   "id": "b4f11579-99d5-412c-9833-88e29c4de4a4",
   "metadata": {
    "tags": []
   },
   "outputs": [],
   "source": [
    "#Saving the cleaned dataset\n",
    "train_clean_imputed.to_csv('../datasets/train-data-clean-imputed-1.1.csv', index = False)"
   ]
  },
  {
   "cell_type": "markdown",
   "id": "3da9a0a2-9f33-4402-9c9e-189412c29c33",
   "metadata": {},
   "source": [
    "### Lets do a one-way ANOVA test"
   ]
  },
  {
   "cell_type": "code",
   "execution_count": 65,
   "id": "1ffb15cc-d73b-48ff-ab86-e53b1f2cdb2d",
   "metadata": {},
   "outputs": [],
   "source": [
    "# List of all columns with object as dtype (categorical variables)\n",
    "obj = [column for column in train_clean_imputed.columns if train_clean_imputed[column].dtypes == object]"
   ]
  },
  {
   "cell_type": "code",
   "execution_count": 66,
   "id": "8ec482e1-fe1e-4f3f-921b-88246950d910",
   "metadata": {},
   "outputs": [
    {
     "name": "stdout",
     "output_type": "stream",
     "text": [
      "ms_zoning P-value for Anova is: 3.5594964066113955e-48\n",
      "lot_shape P-value for Anova is: 4.1851372168757877e-41\n",
      "land_contour P-value for Anova is: 1.7278368398914164e-24\n",
      "lot_config P-value for Anova is: 8.104811118480977e-12\n",
      "land_slope P-value for Anova is: 0.0042170975104003725\n",
      "neighborhood P-value for Anova is: 0.0\n",
      "condition_1 P-value for Anova is: 1.1626340435253984e-18\n",
      "condition_2 P-value for Anova is: 2.10675633504663e-09\n",
      "bldg_type P-value for Anova is: 3.205278745010564e-14\n",
      "house_style P-value for Anova is: 4.814039959041962e-31\n",
      "roof_style P-value for Anova is: 1.2822276213403982e-30\n",
      "roof_matl P-value for Anova is: 5.693147567701473e-05\n",
      "exterior_1st P-value for Anova is: 1.4541329707263623e-78\n",
      "exterior_2nd P-value for Anova is: 3.325706181675559e-72\n",
      "mas_vnr_type P-value for Anova is: 2.469493793666636e-98\n",
      "exter_qual P-value for Anova is: 1.4908958e-316\n",
      "exter_cond P-value for Anova is: 1.2800711090166075e-11\n",
      "foundation P-value for Anova is: 5.314239860447311e-139\n",
      "bsmt_qual P-value for Anova is: 3.4083490074443226e-298\n",
      "bsmt_cond P-value for Anova is: 1.4911235885565667e-13\n",
      "bsmt_exposure P-value for Anova is: 3.3315971563744256e-84\n",
      "bsmtfin_type_1 P-value for Anova is: 1.2306854921741867e-101\n",
      "bsmtfin_type_2 P-value for Anova is: 0.001102599688575336\n",
      "heating P-value for Anova is: 0.0013995251106985285\n",
      "heating_qc P-value for Anova is: 3.3189656139511384e-97\n",
      "electrical P-value for Anova is: 5.598756391020403e-24\n",
      "kitchen_qual P-value for Anova is: 2.94530419400184e-297\n",
      "functional P-value for Anova is: 0.0012820394810554863\n",
      "paved_drive P-value for Anova is: 3.266406191157048e-33\n",
      "sale_type P-value for Anova is: 4.13273947479312e-59\n"
     ]
    }
   ],
   "source": [
    "# code from: https://thinkingneuron.com/how-to-measure-the-correlation-between-a-numeric-and-a-categorical-variable-in-python/\n",
    "\n",
    "from scipy.stats import f_oneway\n",
    "#f_oneway() function takes the group data as input and returns F-statistic and P-value\n",
    "ll = []\n",
    "for column in obj:\n",
    "    #The next line finds out the sale price for each categorical value of the column as a list\n",
    "    CategoryGroupLists= train_clean_imputed.groupby(column)['saleprice'].apply(list)\n",
    "    #Performing the ANOVA test\n",
    "    AnovaResults = f_oneway(*CategoryGroupLists)\n",
    "    \n",
    "    print(f'{column} P-value for Anova is: {AnovaResults[1]}')"
   ]
  },
  {
   "cell_type": "markdown",
   "id": "99187244-0c71-4cd0-ae67-a8feb957c355",
   "metadata": {},
   "source": [
    "Seems like there is no real significant information due to the fact that all p-values are practically zero. Anyway, lets select the smallest.\\\n",
    "    - neighborhood\\\n",
    "    - exter_qual\\\n",
    "    - foundation\\\n",
    "    - bsmt_qual\\\n",
    "    - kitchen_qual"
   ]
  }
 ],
 "metadata": {
  "kernelspec": {
   "display_name": "Python 3",
   "language": "python",
   "name": "python3"
  },
  "language_info": {
   "codemirror_mode": {
    "name": "ipython",
    "version": 3
   },
   "file_extension": ".py",
   "mimetype": "text/x-python",
   "name": "python",
   "nbconvert_exporter": "python",
   "pygments_lexer": "ipython3",
   "version": "3.8.8"
  }
 },
 "nbformat": 4,
 "nbformat_minor": 5
}
