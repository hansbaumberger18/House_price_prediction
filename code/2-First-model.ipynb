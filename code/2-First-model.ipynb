{
 "cells": [
  {
   "cell_type": "markdown",
   "id": "6ce38523-e223-4159-a140-466fd49aed1a",
   "metadata": {
    "tags": []
   },
   "source": [
    "### Predictive features selected: exter_qual, kitchen_qual, overall_qual, garage_cars."
   ]
  },
  {
   "cell_type": "markdown",
   "id": "1a8cca07-e675-43eb-a245-58f132052339",
   "metadata": {},
   "source": [
    "These features were selected not only for their high correlation with the sale price variable, but also because research shows making your house more efficient, adding square footage, upgrading the kitchen or bath and installing smart-home technology can help increase its value. Keeping up with repairs and making smart improvements are both proven ways to increase home value over time."
   ]
  },
  {
   "cell_type": "code",
   "execution_count": 1,
   "id": "91956c20-b45f-4c05-83e7-55809e9d4bbf",
   "metadata": {},
   "outputs": [],
   "source": [
    "import pandas as pd\n",
    "import numpy as np\n",
    "import matplotlib.pyplot as plt\n",
    "import seaborn as sns\n",
    "\n",
    "from sklearn.linear_model import LinearRegression\n",
    "from sklearn.model_selection import train_test_split, cross_val_score\n",
    "from sklearn.metrics import r2_score, mean_squared_error\n",
    "from sklearn.preprocessing import StandardScaler, PolynomialFeatures"
   ]
  },
  {
   "cell_type": "markdown",
   "id": "613c9862-b4b0-4c82-bfaf-08833afc83f2",
   "metadata": {},
   "source": [
    "## Get cleaned data"
   ]
  },
  {
   "cell_type": "code",
   "execution_count": 2,
   "id": "b03a299f-0a78-477a-bec3-35a811c4475d",
   "metadata": {},
   "outputs": [],
   "source": [
    "train_d = pd.read_csv('../datasets/train-data-clean-imputed-1.1.csv')"
   ]
  },
  {
   "cell_type": "code",
   "execution_count": 3,
   "id": "7e357957-8fb6-4d99-bd4e-d64eaaa8b337",
   "metadata": {},
   "outputs": [
    {
     "data": {
      "text/plain": [
       "(1967, 67)"
      ]
     },
     "execution_count": 3,
     "metadata": {},
     "output_type": "execute_result"
    }
   ],
   "source": [
    "train_d.shape"
   ]
  },
  {
   "cell_type": "code",
   "execution_count": 4,
   "id": "c96d5805-d1f5-4ca9-8d3e-ec9aa0be96b2",
   "metadata": {},
   "outputs": [
    {
     "data": {
      "text/html": [
       "<div>\n",
       "<style scoped>\n",
       "    .dataframe tbody tr th:only-of-type {\n",
       "        vertical-align: middle;\n",
       "    }\n",
       "\n",
       "    .dataframe tbody tr th {\n",
       "        vertical-align: top;\n",
       "    }\n",
       "\n",
       "    .dataframe thead th {\n",
       "        text-align: right;\n",
       "    }\n",
       "</style>\n",
       "<table border=\"1\" class=\"dataframe\">\n",
       "  <thead>\n",
       "    <tr style=\"text-align: right;\">\n",
       "      <th></th>\n",
       "      <th>id</th>\n",
       "      <th>pid</th>\n",
       "      <th>ms_subclass</th>\n",
       "      <th>lot_area</th>\n",
       "      <th>overall_qual</th>\n",
       "      <th>overall_cond</th>\n",
       "      <th>year_built</th>\n",
       "      <th>year_remod/add</th>\n",
       "      <th>mas_vnr_area</th>\n",
       "      <th>bsmtfin_sf_1</th>\n",
       "      <th>...</th>\n",
       "      <th>bsmt_exposure</th>\n",
       "      <th>bsmtfin_type_1</th>\n",
       "      <th>bsmtfin_type_2</th>\n",
       "      <th>heating</th>\n",
       "      <th>heating_qc</th>\n",
       "      <th>electrical</th>\n",
       "      <th>kitchen_qual</th>\n",
       "      <th>functional</th>\n",
       "      <th>paved_drive</th>\n",
       "      <th>sale_type</th>\n",
       "    </tr>\n",
       "  </thead>\n",
       "  <tbody>\n",
       "    <tr>\n",
       "      <th>0</th>\n",
       "      <td>109</td>\n",
       "      <td>533352170</td>\n",
       "      <td>60</td>\n",
       "      <td>13517</td>\n",
       "      <td>6</td>\n",
       "      <td>8</td>\n",
       "      <td>1976</td>\n",
       "      <td>2005</td>\n",
       "      <td>289.0</td>\n",
       "      <td>533.0</td>\n",
       "      <td>...</td>\n",
       "      <td>No</td>\n",
       "      <td>GLQ</td>\n",
       "      <td>Unf</td>\n",
       "      <td>GasA</td>\n",
       "      <td>Ex</td>\n",
       "      <td>SBrkr</td>\n",
       "      <td>Gd</td>\n",
       "      <td>Typ</td>\n",
       "      <td>Y</td>\n",
       "      <td>WD</td>\n",
       "    </tr>\n",
       "    <tr>\n",
       "      <th>1</th>\n",
       "      <td>544</td>\n",
       "      <td>531379050</td>\n",
       "      <td>60</td>\n",
       "      <td>11492</td>\n",
       "      <td>7</td>\n",
       "      <td>5</td>\n",
       "      <td>1996</td>\n",
       "      <td>1997</td>\n",
       "      <td>132.0</td>\n",
       "      <td>637.0</td>\n",
       "      <td>...</td>\n",
       "      <td>No</td>\n",
       "      <td>GLQ</td>\n",
       "      <td>Unf</td>\n",
       "      <td>GasA</td>\n",
       "      <td>Ex</td>\n",
       "      <td>SBrkr</td>\n",
       "      <td>Gd</td>\n",
       "      <td>Typ</td>\n",
       "      <td>Y</td>\n",
       "      <td>WD</td>\n",
       "    </tr>\n",
       "    <tr>\n",
       "      <th>2</th>\n",
       "      <td>153</td>\n",
       "      <td>535304180</td>\n",
       "      <td>20</td>\n",
       "      <td>7922</td>\n",
       "      <td>5</td>\n",
       "      <td>7</td>\n",
       "      <td>1953</td>\n",
       "      <td>2007</td>\n",
       "      <td>0.0</td>\n",
       "      <td>731.0</td>\n",
       "      <td>...</td>\n",
       "      <td>No</td>\n",
       "      <td>GLQ</td>\n",
       "      <td>Unf</td>\n",
       "      <td>GasA</td>\n",
       "      <td>TA</td>\n",
       "      <td>SBrkr</td>\n",
       "      <td>Gd</td>\n",
       "      <td>Typ</td>\n",
       "      <td>Y</td>\n",
       "      <td>WD</td>\n",
       "    </tr>\n",
       "    <tr>\n",
       "      <th>3</th>\n",
       "      <td>318</td>\n",
       "      <td>916386060</td>\n",
       "      <td>60</td>\n",
       "      <td>9802</td>\n",
       "      <td>5</td>\n",
       "      <td>5</td>\n",
       "      <td>2006</td>\n",
       "      <td>2007</td>\n",
       "      <td>0.0</td>\n",
       "      <td>0.0</td>\n",
       "      <td>...</td>\n",
       "      <td>No</td>\n",
       "      <td>Unf</td>\n",
       "      <td>Unf</td>\n",
       "      <td>GasA</td>\n",
       "      <td>Gd</td>\n",
       "      <td>SBrkr</td>\n",
       "      <td>TA</td>\n",
       "      <td>Typ</td>\n",
       "      <td>Y</td>\n",
       "      <td>WD</td>\n",
       "    </tr>\n",
       "    <tr>\n",
       "      <th>4</th>\n",
       "      <td>255</td>\n",
       "      <td>906425045</td>\n",
       "      <td>50</td>\n",
       "      <td>14235</td>\n",
       "      <td>6</td>\n",
       "      <td>8</td>\n",
       "      <td>1900</td>\n",
       "      <td>1993</td>\n",
       "      <td>0.0</td>\n",
       "      <td>0.0</td>\n",
       "      <td>...</td>\n",
       "      <td>No</td>\n",
       "      <td>Unf</td>\n",
       "      <td>Unf</td>\n",
       "      <td>GasA</td>\n",
       "      <td>TA</td>\n",
       "      <td>SBrkr</td>\n",
       "      <td>TA</td>\n",
       "      <td>Typ</td>\n",
       "      <td>N</td>\n",
       "      <td>WD</td>\n",
       "    </tr>\n",
       "  </tbody>\n",
       "</table>\n",
       "<p>5 rows × 67 columns</p>\n",
       "</div>"
      ],
      "text/plain": [
       "    id        pid  ms_subclass  lot_area  overall_qual  overall_cond  \\\n",
       "0  109  533352170           60     13517             6             8   \n",
       "1  544  531379050           60     11492             7             5   \n",
       "2  153  535304180           20      7922             5             7   \n",
       "3  318  916386060           60      9802             5             5   \n",
       "4  255  906425045           50     14235             6             8   \n",
       "\n",
       "   year_built  year_remod/add  mas_vnr_area  bsmtfin_sf_1  ...  bsmt_exposure  \\\n",
       "0        1976            2005         289.0         533.0  ...             No   \n",
       "1        1996            1997         132.0         637.0  ...             No   \n",
       "2        1953            2007           0.0         731.0  ...             No   \n",
       "3        2006            2007           0.0           0.0  ...             No   \n",
       "4        1900            1993           0.0           0.0  ...             No   \n",
       "\n",
       "   bsmtfin_type_1  bsmtfin_type_2  heating  heating_qc  electrical  \\\n",
       "0             GLQ             Unf     GasA          Ex       SBrkr   \n",
       "1             GLQ             Unf     GasA          Ex       SBrkr   \n",
       "2             GLQ             Unf     GasA          TA       SBrkr   \n",
       "3             Unf             Unf     GasA          Gd       SBrkr   \n",
       "4             Unf             Unf     GasA          TA       SBrkr   \n",
       "\n",
       "   kitchen_qual  functional  paved_drive  sale_type  \n",
       "0            Gd         Typ            Y        WD   \n",
       "1            Gd         Typ            Y        WD   \n",
       "2            Gd         Typ            Y        WD   \n",
       "3            TA         Typ            Y        WD   \n",
       "4            TA         Typ            N        WD   \n",
       "\n",
       "[5 rows x 67 columns]"
      ]
     },
     "execution_count": 4,
     "metadata": {},
     "output_type": "execute_result"
    }
   ],
   "source": [
    "train_d.head()"
   ]
  },
  {
   "cell_type": "code",
   "execution_count": 5,
   "id": "cf1f16ae-999f-4c92-b582-72ac4365e533",
   "metadata": {},
   "outputs": [
    {
     "data": {
      "text/plain": [
       "Index(['id', 'pid', 'ms_subclass', 'lot_area', 'overall_qual', 'overall_cond',\n",
       "       'year_built', 'year_remod/add', 'mas_vnr_area', 'bsmtfin_sf_1',\n",
       "       'bsmtfin_sf_2', 'bsmt_unf_sf', 'total_bsmt_sf', '1st_flr_sf',\n",
       "       '2nd_flr_sf', 'low_qual_fin_sf', 'gr_liv_area', 'bsmt_full_bath',\n",
       "       'bsmt_half_bath', 'full_bath', 'half_bath', 'bedroom_abvgr',\n",
       "       'kitchen_abvgr', 'totrms_abvgrd', 'fireplaces', 'garage_cars',\n",
       "       'garage_area', 'wood_deck_sf', 'open_porch_sf', 'enclosed_porch',\n",
       "       '3ssn_porch', 'screen_porch', 'pool_area', 'misc_val', 'mo_sold',\n",
       "       'yr_sold', 'saleprice', 'ms_zoning', 'lot_shape', 'land_contour',\n",
       "       'lot_config', 'land_slope', 'neighborhood', 'condition_1',\n",
       "       'condition_2', 'bldg_type', 'house_style', 'roof_style', 'roof_matl',\n",
       "       'exterior_1st', 'exterior_2nd', 'mas_vnr_type', 'exter_qual',\n",
       "       'exter_cond', 'foundation', 'bsmt_qual', 'bsmt_cond', 'bsmt_exposure',\n",
       "       'bsmtfin_type_1', 'bsmtfin_type_2', 'heating', 'heating_qc',\n",
       "       'electrical', 'kitchen_qual', 'functional', 'paved_drive', 'sale_type'],\n",
       "      dtype='object')"
      ]
     },
     "execution_count": 5,
     "metadata": {},
     "output_type": "execute_result"
    }
   ],
   "source": [
    "train_d.columns"
   ]
  },
  {
   "cell_type": "markdown",
   "id": "0e29f047-e5e9-48e7-a115-2478a4fb5ddf",
   "metadata": {},
   "source": [
    "## Model developement:\n",
    "\n",
    "### Matrixes"
   ]
  },
  {
   "cell_type": "code",
   "execution_count": 6,
   "id": "8013b5d8-ac88-4303-bdca-88213d3577e4",
   "metadata": {},
   "outputs": [],
   "source": [
    "train_m = train_d[['overall_qual','exter_qual', 'kitchen_qual','garage_cars']].copy()"
   ]
  },
  {
   "cell_type": "code",
   "execution_count": 7,
   "id": "2a6cb5e7-563c-4740-be4d-4a7d496002ce",
   "metadata": {},
   "outputs": [
    {
     "data": {
      "text/html": [
       "<div>\n",
       "<style scoped>\n",
       "    .dataframe tbody tr th:only-of-type {\n",
       "        vertical-align: middle;\n",
       "    }\n",
       "\n",
       "    .dataframe tbody tr th {\n",
       "        vertical-align: top;\n",
       "    }\n",
       "\n",
       "    .dataframe thead th {\n",
       "        text-align: right;\n",
       "    }\n",
       "</style>\n",
       "<table border=\"1\" class=\"dataframe\">\n",
       "  <thead>\n",
       "    <tr style=\"text-align: right;\">\n",
       "      <th></th>\n",
       "      <th>overall_qual</th>\n",
       "      <th>exter_qual</th>\n",
       "      <th>kitchen_qual</th>\n",
       "      <th>garage_cars</th>\n",
       "    </tr>\n",
       "  </thead>\n",
       "  <tbody>\n",
       "    <tr>\n",
       "      <th>0</th>\n",
       "      <td>6</td>\n",
       "      <td>Gd</td>\n",
       "      <td>Gd</td>\n",
       "      <td>2.0</td>\n",
       "    </tr>\n",
       "    <tr>\n",
       "      <th>1</th>\n",
       "      <td>7</td>\n",
       "      <td>Gd</td>\n",
       "      <td>Gd</td>\n",
       "      <td>2.0</td>\n",
       "    </tr>\n",
       "    <tr>\n",
       "      <th>2</th>\n",
       "      <td>5</td>\n",
       "      <td>TA</td>\n",
       "      <td>Gd</td>\n",
       "      <td>1.0</td>\n",
       "    </tr>\n",
       "    <tr>\n",
       "      <th>3</th>\n",
       "      <td>5</td>\n",
       "      <td>TA</td>\n",
       "      <td>TA</td>\n",
       "      <td>2.0</td>\n",
       "    </tr>\n",
       "    <tr>\n",
       "      <th>4</th>\n",
       "      <td>6</td>\n",
       "      <td>TA</td>\n",
       "      <td>TA</td>\n",
       "      <td>2.0</td>\n",
       "    </tr>\n",
       "  </tbody>\n",
       "</table>\n",
       "</div>"
      ],
      "text/plain": [
       "   overall_qual exter_qual kitchen_qual  garage_cars\n",
       "0             6         Gd           Gd          2.0\n",
       "1             7         Gd           Gd          2.0\n",
       "2             5         TA           Gd          1.0\n",
       "3             5         TA           TA          2.0\n",
       "4             6         TA           TA          2.0"
      ]
     },
     "execution_count": 7,
     "metadata": {},
     "output_type": "execute_result"
    }
   ],
   "source": [
    "train_m.head()"
   ]
  },
  {
   "cell_type": "code",
   "execution_count": 8,
   "id": "9df8aa8c-5987-429a-8a78-231739549fef",
   "metadata": {},
   "outputs": [],
   "source": [
    "X = train_m\n",
    "y = train_d['saleprice']\n"
   ]
  },
  {
   "cell_type": "code",
   "execution_count": 9,
   "id": "b77dfc1a-575a-445e-a287-1d778635a4e9",
   "metadata": {},
   "outputs": [
    {
     "data": {
      "text/html": [
       "<div>\n",
       "<style scoped>\n",
       "    .dataframe tbody tr th:only-of-type {\n",
       "        vertical-align: middle;\n",
       "    }\n",
       "\n",
       "    .dataframe tbody tr th {\n",
       "        vertical-align: top;\n",
       "    }\n",
       "\n",
       "    .dataframe thead th {\n",
       "        text-align: right;\n",
       "    }\n",
       "</style>\n",
       "<table border=\"1\" class=\"dataframe\">\n",
       "  <thead>\n",
       "    <tr style=\"text-align: right;\">\n",
       "      <th></th>\n",
       "      <th>overall_qual</th>\n",
       "      <th>garage_cars</th>\n",
       "      <th>exter_qual_Fa</th>\n",
       "      <th>exter_qual_Gd</th>\n",
       "      <th>exter_qual_TA</th>\n",
       "      <th>kitchen_qual_Fa</th>\n",
       "      <th>kitchen_qual_Gd</th>\n",
       "      <th>kitchen_qual_TA</th>\n",
       "    </tr>\n",
       "  </thead>\n",
       "  <tbody>\n",
       "    <tr>\n",
       "      <th>0</th>\n",
       "      <td>6</td>\n",
       "      <td>2.0</td>\n",
       "      <td>0</td>\n",
       "      <td>1</td>\n",
       "      <td>0</td>\n",
       "      <td>0</td>\n",
       "      <td>1</td>\n",
       "      <td>0</td>\n",
       "    </tr>\n",
       "    <tr>\n",
       "      <th>1</th>\n",
       "      <td>7</td>\n",
       "      <td>2.0</td>\n",
       "      <td>0</td>\n",
       "      <td>1</td>\n",
       "      <td>0</td>\n",
       "      <td>0</td>\n",
       "      <td>1</td>\n",
       "      <td>0</td>\n",
       "    </tr>\n",
       "    <tr>\n",
       "      <th>2</th>\n",
       "      <td>5</td>\n",
       "      <td>1.0</td>\n",
       "      <td>0</td>\n",
       "      <td>0</td>\n",
       "      <td>1</td>\n",
       "      <td>0</td>\n",
       "      <td>1</td>\n",
       "      <td>0</td>\n",
       "    </tr>\n",
       "    <tr>\n",
       "      <th>3</th>\n",
       "      <td>5</td>\n",
       "      <td>2.0</td>\n",
       "      <td>0</td>\n",
       "      <td>0</td>\n",
       "      <td>1</td>\n",
       "      <td>0</td>\n",
       "      <td>0</td>\n",
       "      <td>1</td>\n",
       "    </tr>\n",
       "    <tr>\n",
       "      <th>4</th>\n",
       "      <td>6</td>\n",
       "      <td>2.0</td>\n",
       "      <td>0</td>\n",
       "      <td>0</td>\n",
       "      <td>1</td>\n",
       "      <td>0</td>\n",
       "      <td>0</td>\n",
       "      <td>1</td>\n",
       "    </tr>\n",
       "  </tbody>\n",
       "</table>\n",
       "</div>"
      ],
      "text/plain": [
       "   overall_qual  garage_cars  exter_qual_Fa  exter_qual_Gd  exter_qual_TA  \\\n",
       "0             6          2.0              0              1              0   \n",
       "1             7          2.0              0              1              0   \n",
       "2             5          1.0              0              0              1   \n",
       "3             5          2.0              0              0              1   \n",
       "4             6          2.0              0              0              1   \n",
       "\n",
       "   kitchen_qual_Fa  kitchen_qual_Gd  kitchen_qual_TA  \n",
       "0                0                1                0  \n",
       "1                0                1                0  \n",
       "2                0                1                0  \n",
       "3                0                0                1  \n",
       "4                0                0                1  "
      ]
     },
     "execution_count": 9,
     "metadata": {},
     "output_type": "execute_result"
    }
   ],
   "source": [
    "# Dummifying categorical variables\n",
    "X_dummy = pd.get_dummies(X, columns = ['exter_qual', 'kitchen_qual'], drop_first = True)\n",
    "X_dummy.head()"
   ]
  },
  {
   "cell_type": "markdown",
   "id": "5ca5485c-5c39-480c-a7a0-21955e4ae19d",
   "metadata": {},
   "source": [
    "Train/Test split splits the data into a training set (70% in this case) and a testing set (30% of data). This allows you to see how well your model performs on unseen data."
   ]
  },
  {
   "cell_type": "code",
   "execution_count": 10,
   "id": "3aa3847f-50a3-4646-a678-e16290d75f71",
   "metadata": {},
   "outputs": [
    {
     "data": {
      "text/html": [
       "<div>\n",
       "<style scoped>\n",
       "    .dataframe tbody tr th:only-of-type {\n",
       "        vertical-align: middle;\n",
       "    }\n",
       "\n",
       "    .dataframe tbody tr th {\n",
       "        vertical-align: top;\n",
       "    }\n",
       "\n",
       "    .dataframe thead th {\n",
       "        text-align: right;\n",
       "    }\n",
       "</style>\n",
       "<table border=\"1\" class=\"dataframe\">\n",
       "  <thead>\n",
       "    <tr style=\"text-align: right;\">\n",
       "      <th></th>\n",
       "      <th>overall_qual</th>\n",
       "      <th>garage_cars</th>\n",
       "      <th>exter_qual_Fa</th>\n",
       "      <th>exter_qual_Gd</th>\n",
       "      <th>exter_qual_TA</th>\n",
       "      <th>kitchen_qual_Fa</th>\n",
       "      <th>kitchen_qual_Gd</th>\n",
       "      <th>kitchen_qual_TA</th>\n",
       "    </tr>\n",
       "  </thead>\n",
       "  <tbody>\n",
       "    <tr>\n",
       "      <th>1304</th>\n",
       "      <td>6</td>\n",
       "      <td>2.0</td>\n",
       "      <td>0</td>\n",
       "      <td>0</td>\n",
       "      <td>1</td>\n",
       "      <td>0</td>\n",
       "      <td>0</td>\n",
       "      <td>1</td>\n",
       "    </tr>\n",
       "    <tr>\n",
       "      <th>774</th>\n",
       "      <td>4</td>\n",
       "      <td>1.0</td>\n",
       "      <td>0</td>\n",
       "      <td>0</td>\n",
       "      <td>1</td>\n",
       "      <td>0</td>\n",
       "      <td>0</td>\n",
       "      <td>1</td>\n",
       "    </tr>\n",
       "    <tr>\n",
       "      <th>1814</th>\n",
       "      <td>5</td>\n",
       "      <td>2.0</td>\n",
       "      <td>0</td>\n",
       "      <td>0</td>\n",
       "      <td>1</td>\n",
       "      <td>0</td>\n",
       "      <td>0</td>\n",
       "      <td>1</td>\n",
       "    </tr>\n",
       "    <tr>\n",
       "      <th>613</th>\n",
       "      <td>7</td>\n",
       "      <td>2.0</td>\n",
       "      <td>0</td>\n",
       "      <td>1</td>\n",
       "      <td>0</td>\n",
       "      <td>0</td>\n",
       "      <td>1</td>\n",
       "      <td>0</td>\n",
       "    </tr>\n",
       "    <tr>\n",
       "      <th>1537</th>\n",
       "      <td>8</td>\n",
       "      <td>2.0</td>\n",
       "      <td>0</td>\n",
       "      <td>1</td>\n",
       "      <td>0</td>\n",
       "      <td>0</td>\n",
       "      <td>1</td>\n",
       "      <td>0</td>\n",
       "    </tr>\n",
       "  </tbody>\n",
       "</table>\n",
       "</div>"
      ],
      "text/plain": [
       "      overall_qual  garage_cars  exter_qual_Fa  exter_qual_Gd  exter_qual_TA  \\\n",
       "1304             6          2.0              0              0              1   \n",
       "774              4          1.0              0              0              1   \n",
       "1814             5          2.0              0              0              1   \n",
       "613              7          2.0              0              1              0   \n",
       "1537             8          2.0              0              1              0   \n",
       "\n",
       "      kitchen_qual_Fa  kitchen_qual_Gd  kitchen_qual_TA  \n",
       "1304                0                0                1  \n",
       "774                 0                0                1  \n",
       "1814                0                0                1  \n",
       "613                 0                1                0  \n",
       "1537                0                1                0  "
      ]
     },
     "execution_count": 10,
     "metadata": {},
     "output_type": "execute_result"
    }
   ],
   "source": [
    "# Train/Test split\n",
    "X_train, X_test, y_train, y_test = train_test_split(X_dummy, y, train_size=.7, random_state=42)\n",
    "\n",
    "X_train.head()"
   ]
  },
  {
   "cell_type": "markdown",
   "id": "63c8febd-88d1-4789-afd5-05e7fe75bd03",
   "metadata": {},
   "source": [
    "## MLR model:"
   ]
  },
  {
   "cell_type": "code",
   "execution_count": 11,
   "id": "af75f099-f39c-48b0-803b-1d64b16eb955",
   "metadata": {
    "tags": []
   },
   "outputs": [],
   "source": [
    "# Instantiate model\n",
    "lr = LinearRegression()"
   ]
  },
  {
   "cell_type": "markdown",
   "id": "dc984423-aac5-452b-b09e-27f604efaa98",
   "metadata": {},
   "source": [
    "Cross validation allows you to see how well your model performs on unseen data several times. This prevents a good or bad score due to randomness from occurring and gives you more evidence on whether your model is good."
   ]
  },
  {
   "cell_type": "code",
   "execution_count": 17,
   "id": "1e31d140-7bed-4116-b95d-4e1c8a35c7cd",
   "metadata": {},
   "outputs": [
    {
     "data": {
      "text/plain": [
       "0.7509669938891705"
      ]
     },
     "execution_count": 17,
     "metadata": {},
     "output_type": "execute_result"
    }
   ],
   "source": [
    "# Training Cross Val\n",
    "cross_val_score(lr, X_train, y_train).mean()"
   ]
  },
  {
   "cell_type": "code",
   "execution_count": 18,
   "id": "1cf3bc3e-eddc-4814-9969-3300c9fee71f",
   "metadata": {},
   "outputs": [
    {
     "data": {
      "text/plain": [
       "0.7154717073991084"
      ]
     },
     "execution_count": 18,
     "metadata": {},
     "output_type": "execute_result"
    }
   ],
   "source": [
    "# Testing Cross Val\n",
    "cross_val_score(lr, X_test, y_test).mean()"
   ]
  },
  {
   "cell_type": "code",
   "execution_count": 14,
   "id": "298306d7-ab96-4578-ab39-84b9ceea76b2",
   "metadata": {},
   "outputs": [
    {
     "data": {
      "text/plain": [
       "LinearRegression()"
      ]
     },
     "execution_count": 14,
     "metadata": {},
     "output_type": "execute_result"
    }
   ],
   "source": [
    "# Fit the model on training data\n",
    "lr.fit(X_train, y_train)"
   ]
  },
  {
   "cell_type": "markdown",
   "id": "6185f2b6-a4da-4d4f-b421-8a6bc97e9a8e",
   "metadata": {},
   "source": [
    "R-squared metric is the percentage of the variability in the target that can be explained by the x-variables in the mode. (relative to a model with no predictors)"
   ]
  },
  {
   "cell_type": "code",
   "execution_count": 15,
   "id": "6dbfa5a4-78ec-4f89-bfe5-2dda1fa7601a",
   "metadata": {},
   "outputs": [
    {
     "data": {
      "text/plain": [
       "0.7565949026066711"
      ]
     },
     "execution_count": 15,
     "metadata": {},
     "output_type": "execute_result"
    }
   ],
   "source": [
    "# Training score (R2)\n",
    "lr.score(X_train, y_train)"
   ]
  },
  {
   "cell_type": "code",
   "execution_count": 16,
   "id": "45de744f-037f-456c-a552-458d605f81ee",
   "metadata": {},
   "outputs": [
    {
     "data": {
      "text/plain": [
       "0.7346582781814429"
      ]
     },
     "execution_count": 16,
     "metadata": {},
     "output_type": "execute_result"
    }
   ],
   "source": [
    "# Testing score (R2)\n",
    "lr.score(X_test, y_test)"
   ]
  },
  {
   "cell_type": "markdown",
   "id": "d0bd5a5c-b2f2-457b-82fd-eab1cc91fea1",
   "metadata": {},
   "source": [
    "We can observe that aproximately 74% of the variablity in \"saleprice\" can be explained by the predictive features of the model."
   ]
  },
  {
   "cell_type": "markdown",
   "id": "f0b05304-6afd-4cc1-9bcb-b6c6f7b72b86",
   "metadata": {},
   "source": [
    "#### Observing slight high-variance:\n",
    "Variance is a measure of how overfit or complicated your model is. In other words, variance is how bad your model is at generalizing to new data. High variance means a model does not perform well on new data and should be simplified. This can be achieved by using fewer features or regularizing."
   ]
  },
  {
   "cell_type": "markdown",
   "id": "66aac9e9-7e70-4573-bcc7-37a46c50d99e",
   "metadata": {},
   "source": [
    "#### Let's check the residuals! (errors)"
   ]
  },
  {
   "cell_type": "code",
   "execution_count": 19,
   "id": "b0590fea-47a4-4abd-88f7-80a8f01cf169",
   "metadata": {},
   "outputs": [],
   "source": [
    "# Let's create predictions!\n",
    "train_preds = lr.predict(X_train)\n",
    "test_preds = lr.predict(X_test)"
   ]
  },
  {
   "cell_type": "code",
   "execution_count": 20,
   "id": "82e43433-a09c-46c1-9f6d-eb2785e1339e",
   "metadata": {},
   "outputs": [
    {
     "data": {
      "text/plain": [
       "1487916853.3105998"
      ]
     },
     "execution_count": 20,
     "metadata": {},
     "output_type": "execute_result"
    }
   ],
   "source": [
    "# MSE for training\n",
    "mean_squared_error(y_true=y_train, y_pred=train_preds)"
   ]
  },
  {
   "cell_type": "code",
   "execution_count": 21,
   "id": "c4ee6317-3943-4cf0-9b0c-d641ec7a4023",
   "metadata": {},
   "outputs": [
    {
     "data": {
      "text/plain": [
       "1722838964.1476092"
      ]
     },
     "execution_count": 21,
     "metadata": {},
     "output_type": "execute_result"
    }
   ],
   "source": [
    "# MSE for testing\n",
    "mean_squared_error(y_true=y_test, y_pred=test_preds)"
   ]
  },
  {
   "cell_type": "markdown",
   "id": "eb0d3327-49fc-4bfa-a271-81c70dc3c7af",
   "metadata": {},
   "source": [
    "Mean Squared Error (MSE): The average of the squared residuals. Represents average distance squared from the predicted value."
   ]
  },
  {
   "cell_type": "markdown",
   "id": "9b855a54-4b60-47ac-a4fa-75a5086d0343",
   "metadata": {},
   "source": [
    "#### MSE metric can corroborate the slight high-variance due to having reduced MSE score on the training data than the testing one.\n",
    "(performs better on training than testing)"
   ]
  },
  {
   "cell_type": "code",
   "execution_count": 22,
   "id": "9a445dac-b997-4b7a-9f81-f37268d685f4",
   "metadata": {},
   "outputs": [
    {
     "data": {
      "text/plain": [
       "38573.52529015983"
      ]
     },
     "execution_count": 22,
     "metadata": {},
     "output_type": "execute_result"
    }
   ],
   "source": [
    "# RMSE for training\n",
    "mean_squared_error(y_true=y_train, y_pred=train_preds, squared=False)"
   ]
  },
  {
   "cell_type": "code",
   "execution_count": 23,
   "id": "a375bdb3-c7de-444d-8a1c-c28de0cf89a0",
   "metadata": {},
   "outputs": [
    {
     "data": {
      "text/plain": [
       "41507.095347032046"
      ]
     },
     "execution_count": 23,
     "metadata": {},
     "output_type": "execute_result"
    }
   ],
   "source": [
    "# RMSE for testing\n",
    "mean_squared_error(y_true=y_test, y_pred=test_preds, squared=False)"
   ]
  },
  {
   "cell_type": "markdown",
   "id": "092f3c5e-62f9-405b-96ae-b6c524a9ef0b",
   "metadata": {},
   "source": [
    "Root Mean Square Error (RMSE) is the standard deviation of the residuals (prediction errors)."
   ]
  },
  {
   "cell_type": "code",
   "execution_count": 50,
   "id": "eb666fb4-a747-47b9-8349-c900fb3f307d",
   "metadata": {},
   "outputs": [
    {
     "data": {
      "text/plain": [
       "array([ 32173.54109947,  20049.35532036,  -6583.97344456, -25267.4801769 ,\n",
       "       -32217.8477829 ,  -8141.61330394, -26391.06457195, -33716.59525882])"
      ]
     },
     "execution_count": 50,
     "metadata": {},
     "output_type": "execute_result"
    }
   ],
   "source": [
    "# Look at the coefficients\n",
    "lr.coef_"
   ]
  },
  {
   "cell_type": "code",
   "execution_count": 24,
   "id": "b7e200e9-6853-46cc-81cd-d1ef277a9ba0",
   "metadata": {},
   "outputs": [],
   "source": [
    "features = X_train.columns"
   ]
  },
  {
   "cell_type": "code",
   "execution_count": 25,
   "id": "c51ec345-4dfa-4654-b726-1622219d8628",
   "metadata": {},
   "outputs": [
    {
     "data": {
      "text/plain": [
       "[('overall_qual', 23736.392471885098),\n",
       " ('garage_cars', 25815.39280486709),\n",
       " ('exter_qual_Fa', -83185.32354839018),\n",
       " ('exter_qual_Gd', -53544.272518240476),\n",
       " ('exter_qual_TA', -67226.25791182737),\n",
       " ('kitchen_qual_Fa', -56114.233366460256),\n",
       " ('kitchen_qual_Gd', -49387.4638431895),\n",
       " ('kitchen_qual_TA', -61103.32168626527)]"
      ]
     },
     "execution_count": 25,
     "metadata": {},
     "output_type": "execute_result"
    }
   ],
   "source": [
    "# Zip the coefficients and features together \n",
    "list(zip(features, lr.coef_))"
   ]
  },
  {
   "cell_type": "code",
   "execution_count": 26,
   "id": "8d3c3381-0727-43a1-8d5d-e47e36540cb2",
   "metadata": {},
   "outputs": [
    {
     "data": {
      "text/html": [
       "<div>\n",
       "<style scoped>\n",
       "    .dataframe tbody tr th:only-of-type {\n",
       "        vertical-align: middle;\n",
       "    }\n",
       "\n",
       "    .dataframe tbody tr th {\n",
       "        vertical-align: top;\n",
       "    }\n",
       "\n",
       "    .dataframe thead th {\n",
       "        text-align: right;\n",
       "    }\n",
       "</style>\n",
       "<table border=\"1\" class=\"dataframe\">\n",
       "  <thead>\n",
       "    <tr style=\"text-align: right;\">\n",
       "      <th></th>\n",
       "      <th>Feature</th>\n",
       "      <th>Coefficient</th>\n",
       "    </tr>\n",
       "  </thead>\n",
       "  <tbody>\n",
       "    <tr>\n",
       "      <th>1</th>\n",
       "      <td>garage_cars</td>\n",
       "      <td>25815.392805</td>\n",
       "    </tr>\n",
       "    <tr>\n",
       "      <th>0</th>\n",
       "      <td>overall_qual</td>\n",
       "      <td>23736.392472</td>\n",
       "    </tr>\n",
       "    <tr>\n",
       "      <th>6</th>\n",
       "      <td>kitchen_qual_Gd</td>\n",
       "      <td>-49387.463843</td>\n",
       "    </tr>\n",
       "    <tr>\n",
       "      <th>3</th>\n",
       "      <td>exter_qual_Gd</td>\n",
       "      <td>-53544.272518</td>\n",
       "    </tr>\n",
       "    <tr>\n",
       "      <th>5</th>\n",
       "      <td>kitchen_qual_Fa</td>\n",
       "      <td>-56114.233366</td>\n",
       "    </tr>\n",
       "    <tr>\n",
       "      <th>7</th>\n",
       "      <td>kitchen_qual_TA</td>\n",
       "      <td>-61103.321686</td>\n",
       "    </tr>\n",
       "    <tr>\n",
       "      <th>4</th>\n",
       "      <td>exter_qual_TA</td>\n",
       "      <td>-67226.257912</td>\n",
       "    </tr>\n",
       "    <tr>\n",
       "      <th>2</th>\n",
       "      <td>exter_qual_Fa</td>\n",
       "      <td>-83185.323548</td>\n",
       "    </tr>\n",
       "  </tbody>\n",
       "</table>\n",
       "</div>"
      ],
      "text/plain": [
       "           Feature   Coefficient\n",
       "1      garage_cars  25815.392805\n",
       "0     overall_qual  23736.392472\n",
       "6  kitchen_qual_Gd -49387.463843\n",
       "3    exter_qual_Gd -53544.272518\n",
       "5  kitchen_qual_Fa -56114.233366\n",
       "7  kitchen_qual_TA -61103.321686\n",
       "4    exter_qual_TA -67226.257912\n",
       "2    exter_qual_Fa -83185.323548"
      ]
     },
     "execution_count": 26,
     "metadata": {},
     "output_type": "execute_result"
    }
   ],
   "source": [
    "# Put it into a dataframe\n",
    "pd.DataFrame(list(zip(features, lr.coef_)), columns=['Feature', 'Coefficient']).sort_values(by='Coefficient', ascending=False)"
   ]
  },
  {
   "cell_type": "markdown",
   "id": "5d751eba-c529-4e7f-a123-af9d9d4dc3bb",
   "metadata": {},
   "source": [
    "### What do coeficient tell us?\n",
    "-Holding all else constant, for every one unit increase in \"overall_qual\", we expect \"saleprice\" to increase by $23736.39.\n",
    "\n",
    "-Holding all else constant, for every one unit increase in \"kitchen_qual_FA\", we expect \"saleprice\" to decrease by $56114.23 relative to \"kitchen_qual_EX\"."
   ]
  },
  {
   "cell_type": "markdown",
   "id": "0fcc2b60-98ab-4a43-9b62-3fb83fa07014",
   "metadata": {},
   "source": [
    "### Linear regression model assumptions:\n",
    "\n",
    "- Linearity: $Y$ must have an approximately linear relationship with each $X$ variable.\n",
    "- Independence of Errors: Errors (residuals) $\\varepsilon_i$ and $\\varepsilon_j$ must be independent of one another for any $i \\ne j$.\n",
    "- Normality: The errors (residuals) follow a Normal distribution with mean 0.\n",
    "- Equality of Variances: The errors (residuals) should have a roughly consistent pattern, regardless of the value of the $X$ variables. (There should be no discernable relationship between the $X$ variable and the residuals.)\n",
    "- Independence of Predictors (almost always violated at least a little!): The independent variables $X_i$ and $X_j$ must be independent of one another for any $i \\ne j$."
   ]
  },
  {
   "cell_type": "code",
   "execution_count": 27,
   "id": "682d934d-3d08-4470-b756-73b4bc375e44",
   "metadata": {},
   "outputs": [],
   "source": [
    "# turning X_scaled np.array into dataframe to run plots\n",
    "X_train_df = pd.DataFrame(X_train, columns = X_train.columns)\n",
    "\n",
    "#code from https://stackoverflow.com/questions/35723472/how-to-use-sklearn-fit-transform-with-pandas-and-return-dataframe-instead-of-num"
   ]
  },
  {
   "cell_type": "code",
   "execution_count": 28,
   "id": "42f4e7c5-7a1a-4a7d-a243-8fc2b9d50229",
   "metadata": {},
   "outputs": [
    {
     "data": {
      "image/png": "[encoded data removed]",
      "text/plain": [
       "<Figure size 540x540 with 12 Axes>"
      ]
     },
     "metadata": {
      "needs_background": "light"
     },
     "output_type": "display_data"
    }
   ],
   "source": [
    "# Linearity:\n",
    "sns.pairplot(pd.merge(X_train_df[['overall_qual', 'garage_cars']], y_train, left_index = True, right_index = True));"
   ]
  },
  {
   "cell_type": "code",
   "execution_count": 29,
   "id": "61730e74-732c-42db-a5ea-45885b3a1cf1",
   "metadata": {},
   "outputs": [],
   "source": [
    "# Independence of Errors:\n",
    "# True by assumption"
   ]
  },
  {
   "cell_type": "code",
   "execution_count": 61,
   "id": "b8572e19-cf66-4c34-a3d0-0b32d3ea1eba",
   "metadata": {},
   "outputs": [
    {
     "data": {
      "text/plain": [
       "(591,)"
      ]
     },
     "execution_count": 61,
     "metadata": {},
     "output_type": "execute_result"
    }
   ],
   "source": [
    "test_preds.shape"
   ]
  },
  {
   "cell_type": "code",
   "execution_count": 59,
   "id": "957c284e-7095-4469-9b7d-034993a7e249",
   "metadata": {},
   "outputs": [
    {
     "data": {
      "text/plain": [
       "(1378,)"
      ]
     },
     "execution_count": 59,
     "metadata": {},
     "output_type": "execute_result"
    }
   ],
   "source": [
    "train_preds.shape"
   ]
  },
  {
   "cell_type": "code",
   "execution_count": 63,
   "id": "3d73c0ab-29ad-4a3c-abe3-b272a902d2d6",
   "metadata": {},
   "outputs": [
    {
     "data": {
      "text/plain": [
       "(1378,)"
      ]
     },
     "execution_count": 63,
     "metadata": {},
     "output_type": "execute_result"
    }
   ],
   "source": [
    "y_train.shape"
   ]
  },
  {
   "cell_type": "code",
   "execution_count": 30,
   "id": "d3b12d54-aec6-4372-a629-645d6e46ea0c",
   "metadata": {},
   "outputs": [
    {
     "data": {
      "image/png": "[encoded data removed]",
      "text/plain": [
       "<Figure size 432x288 with 1 Axes>"
      ]
     },
     "metadata": {
      "needs_background": "light"
     },
     "output_type": "display_data"
    }
   ],
   "source": [
    "# Normality:\n",
    "resids = y_train - train_preds \n",
    "plt.hist(resids, bins=50);"
   ]
  },
  {
   "cell_type": "code",
   "execution_count": 31,
   "id": "44fe5483-b981-465f-ae68-2da9f28ce0cc",
   "metadata": {},
   "outputs": [
    {
     "data": {
      "image/png": "[encoded data removed]",
      "text/plain": [
       "<Figure size 432x288 with 1 Axes>"
      ]
     },
     "metadata": {
      "needs_background": "light"
     },
     "output_type": "display_data"
    }
   ],
   "source": [
    "# Equality of Variances:\n",
    "plt.scatter(train_preds, resids, s=1)\n",
    "plt.axhline(0, color=\"orange\");"
   ]
  },
  {
   "cell_type": "code",
   "execution_count": 32,
   "id": "2f082d74-67d6-40e9-b870-72e593ff4f7f",
   "metadata": {},
   "outputs": [
    {
     "name": "stderr",
     "output_type": "stream",
     "text": [
      "<ipython-input-32-00d94105660e>:2: RuntimeWarning: invalid value encountered in log\n",
      "  plt.scatter(np.log(train_preds), resids, s=1)\n"
     ]
    },
    {
     "data": {
      "image/png": "[encoded data removed]",
      "text/plain": [
       "<Figure size 432x288 with 1 Axes>"
      ]
     },
     "metadata": {
      "needs_background": "light"
     },
     "output_type": "display_data"
    }
   ],
   "source": [
    "# Lets try a log transformation to see if the hint of heteroscedasitity disappears\n",
    "plt.scatter(np.log(train_preds), resids, s=1)\n",
    "plt.axhline(0, color=\"orange\");"
   ]
  },
  {
   "cell_type": "markdown",
   "id": "82f59320-b14a-4749-8f46-52f84e9d17ad",
   "metadata": {},
   "source": [
    "Log transformation makes heteroscedasitity worse!"
   ]
  },
  {
   "cell_type": "code",
   "execution_count": 33,
   "id": "d6897702-2d94-408d-b290-a5b13153cb74",
   "metadata": {},
   "outputs": [
    {
     "data": {
      "text/html": [
       "<div>\n",
       "<style scoped>\n",
       "    .dataframe tbody tr th:only-of-type {\n",
       "        vertical-align: middle;\n",
       "    }\n",
       "\n",
       "    .dataframe tbody tr th {\n",
       "        vertical-align: top;\n",
       "    }\n",
       "\n",
       "    .dataframe thead th {\n",
       "        text-align: right;\n",
       "    }\n",
       "</style>\n",
       "<table border=\"1\" class=\"dataframe\">\n",
       "  <thead>\n",
       "    <tr style=\"text-align: right;\">\n",
       "      <th></th>\n",
       "      <th>overall_qual</th>\n",
       "      <th>garage_cars</th>\n",
       "      <th>exter_qual_Fa</th>\n",
       "      <th>exter_qual_Gd</th>\n",
       "      <th>exter_qual_TA</th>\n",
       "      <th>kitchen_qual_Fa</th>\n",
       "      <th>kitchen_qual_Gd</th>\n",
       "      <th>kitchen_qual_TA</th>\n",
       "    </tr>\n",
       "  </thead>\n",
       "  <tbody>\n",
       "    <tr>\n",
       "      <th>overall_qual</th>\n",
       "      <td>1.000000</td>\n",
       "      <td>0.597680</td>\n",
       "      <td>-0.123628</td>\n",
       "      <td>0.527310</td>\n",
       "      <td>-0.663044</td>\n",
       "      <td>-0.185946</td>\n",
       "      <td>0.411273</td>\n",
       "      <td>-0.569250</td>\n",
       "    </tr>\n",
       "    <tr>\n",
       "      <th>garage_cars</th>\n",
       "      <td>0.597680</td>\n",
       "      <td>1.000000</td>\n",
       "      <td>-0.099199</td>\n",
       "      <td>0.399725</td>\n",
       "      <td>-0.472712</td>\n",
       "      <td>-0.175824</td>\n",
       "      <td>0.307924</td>\n",
       "      <td>-0.393000</td>\n",
       "    </tr>\n",
       "    <tr>\n",
       "      <th>exter_qual_Fa</th>\n",
       "      <td>-0.123628</td>\n",
       "      <td>-0.099199</td>\n",
       "      <td>1.000000</td>\n",
       "      <td>-0.069774</td>\n",
       "      <td>-0.122446</td>\n",
       "      <td>0.184312</td>\n",
       "      <td>-0.064732</td>\n",
       "      <td>0.005243</td>\n",
       "    </tr>\n",
       "    <tr>\n",
       "      <th>exter_qual_Gd</th>\n",
       "      <td>0.527310</td>\n",
       "      <td>0.399725</td>\n",
       "      <td>-0.069774</td>\n",
       "      <td>1.000000</td>\n",
       "      <td>-0.895753</td>\n",
       "      <td>-0.110241</td>\n",
       "      <td>0.652209</td>\n",
       "      <td>-0.629823</td>\n",
       "    </tr>\n",
       "    <tr>\n",
       "      <th>exter_qual_TA</th>\n",
       "      <td>-0.663044</td>\n",
       "      <td>-0.472712</td>\n",
       "      <td>-0.122446</td>\n",
       "      <td>-0.895753</td>\n",
       "      <td>1.000000</td>\n",
       "      <td>0.083504</td>\n",
       "      <td>-0.583791</td>\n",
       "      <td>0.697060</td>\n",
       "    </tr>\n",
       "    <tr>\n",
       "      <th>kitchen_qual_Fa</th>\n",
       "      <td>-0.185946</td>\n",
       "      <td>-0.175824</td>\n",
       "      <td>0.184312</td>\n",
       "      <td>-0.110241</td>\n",
       "      <td>0.083504</td>\n",
       "      <td>1.000000</td>\n",
       "      <td>-0.126485</td>\n",
       "      <td>-0.157935</td>\n",
       "    </tr>\n",
       "    <tr>\n",
       "      <th>kitchen_qual_Gd</th>\n",
       "      <td>0.411273</td>\n",
       "      <td>0.307924</td>\n",
       "      <td>-0.064732</td>\n",
       "      <td>0.652209</td>\n",
       "      <td>-0.583791</td>\n",
       "      <td>-0.126485</td>\n",
       "      <td>1.000000</td>\n",
       "      <td>-0.839005</td>\n",
       "    </tr>\n",
       "    <tr>\n",
       "      <th>kitchen_qual_TA</th>\n",
       "      <td>-0.569250</td>\n",
       "      <td>-0.393000</td>\n",
       "      <td>0.005243</td>\n",
       "      <td>-0.629823</td>\n",
       "      <td>0.697060</td>\n",
       "      <td>-0.157935</td>\n",
       "      <td>-0.839005</td>\n",
       "      <td>1.000000</td>\n",
       "    </tr>\n",
       "  </tbody>\n",
       "</table>\n",
       "</div>"
      ],
      "text/plain": [
       "                 overall_qual  garage_cars  exter_qual_Fa  exter_qual_Gd  \\\n",
       "overall_qual         1.000000     0.597680      -0.123628       0.527310   \n",
       "garage_cars          0.597680     1.000000      -0.099199       0.399725   \n",
       "exter_qual_Fa       -0.123628    -0.099199       1.000000      -0.069774   \n",
       "exter_qual_Gd        0.527310     0.399725      -0.069774       1.000000   \n",
       "exter_qual_TA       -0.663044    -0.472712      -0.122446      -0.895753   \n",
       "kitchen_qual_Fa     -0.185946    -0.175824       0.184312      -0.110241   \n",
       "kitchen_qual_Gd      0.411273     0.307924      -0.064732       0.652209   \n",
       "kitchen_qual_TA     -0.569250    -0.393000       0.005243      -0.629823   \n",
       "\n",
       "                 exter_qual_TA  kitchen_qual_Fa  kitchen_qual_Gd  \\\n",
       "overall_qual         -0.663044        -0.185946         0.411273   \n",
       "garage_cars          -0.472712        -0.175824         0.307924   \n",
       "exter_qual_Fa        -0.122446         0.184312        -0.064732   \n",
       "exter_qual_Gd        -0.895753        -0.110241         0.652209   \n",
       "exter_qual_TA         1.000000         0.083504        -0.583791   \n",
       "kitchen_qual_Fa       0.083504         1.000000        -0.126485   \n",
       "kitchen_qual_Gd      -0.583791        -0.126485         1.000000   \n",
       "kitchen_qual_TA       0.697060        -0.157935        -0.839005   \n",
       "\n",
       "                 kitchen_qual_TA  \n",
       "overall_qual           -0.569250  \n",
       "garage_cars            -0.393000  \n",
       "exter_qual_Fa           0.005243  \n",
       "exter_qual_Gd          -0.629823  \n",
       "exter_qual_TA           0.697060  \n",
       "kitchen_qual_Fa        -0.157935  \n",
       "kitchen_qual_Gd        -0.839005  \n",
       "kitchen_qual_TA         1.000000  "
      ]
     },
     "execution_count": 33,
     "metadata": {},
     "output_type": "execute_result"
    }
   ],
   "source": [
    "# Independence of Predictors:\n",
    "X_train_df.corr()"
   ]
  },
  {
   "cell_type": "markdown",
   "id": "f7479c9b-d530-4bc3-a727-f7c01682edc8",
   "metadata": {},
   "source": [
    "Nothing seems too correlated to be removed."
   ]
  },
  {
   "cell_type": "code",
   "execution_count": 35,
   "id": "42bbb07c-930b-4ccf-9221-eec610364d12",
   "metadata": {},
   "outputs": [
    {
     "data": {
      "image/png": "[encoded data removed]",
      "text/plain": [
       "<Figure size 720x720 with 2 Axes>"
      ]
     },
     "metadata": {
      "needs_background": "light"
     },
     "output_type": "display_data"
    }
   ],
   "source": [
    "mask = np.zeros_like(X_train_df.corr())\n",
    "mask[np.triu_indices_from(mask)] = True\n",
    "\n",
    "plt.figure(figsize=(10, 10))\n",
    "sns.heatmap(\n",
    "    X_train_df.corr(),\n",
    "    cmap='coolwarm',\n",
    "    annot=True,\n",
    "    mask = mask\n",
    ");"
   ]
  },
  {
   "cell_type": "markdown",
   "id": "4d8c16d2-8f46-4c5f-a7b2-77c925fb7a83",
   "metadata": {},
   "source": [
    "## Ridge model:"
   ]
  },
  {
   "cell_type": "code",
   "execution_count": 42,
   "id": "4cc3f864-793d-4ab5-bb65-c1187d37dbd6",
   "metadata": {},
   "outputs": [],
   "source": [
    "# Ridge regressor lives here:\n",
    "from sklearn.linear_model import Ridge, RidgeCV"
   ]
  },
  {
   "cell_type": "markdown",
   "id": "b3f2ba46-0644-4b31-bd02-9274e0c78837",
   "metadata": {},
   "source": [
    "Standarizing removes the mean and scales each feature/variable to unit variance. This operation is performed feature-wise in an independent way. StandardScaler can be influenced by outliers (if they exist in the dataset) since it involves the estimation of the empirical mean and standard deviation of each feature.\n",
    "\n",
    "\"fit_transform()\" is used on the training data so that we can scale the training data and also learn the scaling parameters of that data. These learned parameters are then used to scale our test data."
   ]
  },
  {
   "cell_type": "code",
   "execution_count": 43,
   "id": "e2a9a370-6cb7-40f0-9db3-488026edb9ae",
   "metadata": {},
   "outputs": [],
   "source": [
    "sc = StandardScaler()\n",
    "Z_train = sc.fit_transform(X_train)\n",
    "Z_test = sc.transform(X_test)"
   ]
  },
  {
   "cell_type": "code",
   "execution_count": 44,
   "id": "e8c5f60e-5f2c-4c67-a549-95430f592d8b",
   "metadata": {},
   "outputs": [
    {
     "name": "stdout",
     "output_type": "stream",
     "text": [
      "Ridge Training R-Squared: 0.7564103768227897\n",
      "Ridge Testing R-Squared: 0.7344208776905439\n"
     ]
    }
   ],
   "source": [
    "#Instantiate\n",
    "ridge_model = Ridge(alpha=10)\n",
    "\n",
    "#Fit\n",
    "ridge_model.fit(Z_train, y_train)\n",
    "\n",
    "# Evaluate model using R2.\n",
    "print(f\"Ridge Training R-Squared: {ridge_model.score(Z_train, y_train)}\")\n",
    "print(f\"Ridge Testing R-Squared: {ridge_model.score(Z_test, y_test)}\")"
   ]
  },
  {
   "cell_type": "code",
   "execution_count": 45,
   "id": "83ce4d33-5ccb-48f4-9814-6ec82d7b396d",
   "metadata": {},
   "outputs": [
    {
     "data": {
      "text/plain": [
       "12.91549665014884"
      ]
     },
     "execution_count": 45,
     "metadata": {},
     "output_type": "execute_result"
    }
   ],
   "source": [
    "# optimal alpha:\n",
    "\n",
    "# Set up a list of ridge alphas to check.\n",
    "# np.logspace generates 100 values equally between 0 and 5,\n",
    "# then converts them to alphas between 10^0 and 10^5.\n",
    "r_alphas = np.logspace(0, 5, 100)\n",
    "\n",
    "# Cross-validate over our list of ridge alphas.\n",
    "ridge_cv = RidgeCV(alphas = r_alphas, scoring='r2', cv=5)\n",
    "\n",
    "# Fit model using best ridge alpha!\n",
    "ridge_cv.fit(Z_train, y_train)\n",
    "\n",
    "# Here is the optimal value of alpha\n",
    "ridge_cv.alpha_"
   ]
  },
  {
   "cell_type": "code",
   "execution_count": 46,
   "id": "18a82145-b907-45b2-a205-860bcf9fbc7a",
   "metadata": {},
   "outputs": [
    {
     "name": "stdout",
     "output_type": "stream",
     "text": [
      "Train score: 0.7562986073243841\n",
      "Test score: 0.7342853598304995\n"
     ]
    }
   ],
   "source": [
    "ridge_opt = Ridge(alpha=ridge_cv.alpha_)\n",
    "ridge_opt.fit(Z_train, y_train)\n",
    "\n",
    "print(f\"Train score: {ridge_opt.score(Z_train, y_train)}\")\n",
    "print(f\"Test score: {ridge_opt.score(Z_test, y_test)}\")"
   ]
  },
  {
   "cell_type": "code",
   "execution_count": 47,
   "id": "1f0b4001-9607-4b3c-9762-5ad16c300c1a",
   "metadata": {},
   "outputs": [
    {
     "data": {
      "text/plain": [
       "array([ 33433.62106765,  19633.38944786,  -7409.88689607, -22797.00301278,\n",
       "       -30041.02698578,  -7966.57861235, -23075.34859826, -29182.51843258])"
      ]
     },
     "execution_count": 47,
     "metadata": {},
     "output_type": "execute_result"
    }
   ],
   "source": [
    "ridge_opt.coef_"
   ]
  },
  {
   "cell_type": "markdown",
   "id": "535d6332-42b2-4b80-bc84-b4a1d1bf7f31",
   "metadata": {},
   "source": [
    "### Lasso:"
   ]
  },
  {
   "cell_type": "code",
   "execution_count": 77,
   "id": "2f64289b-86a8-4a46-bf71-efe4db1c483c",
   "metadata": {},
   "outputs": [],
   "source": [
    "# Imports similar to Ridge\n",
    "from sklearn.linear_model import Lasso, LassoCV"
   ]
  },
  {
   "cell_type": "code",
   "execution_count": 78,
   "id": "c9987f05-7e55-449b-b05b-db45b5c84cc9",
   "metadata": {},
   "outputs": [],
   "source": [
    "# Set up a list of Lasso alphas to check.\n",
    "l_alphas = np.logspace(-3, 0, 100)\n",
    "\n",
    "# Cross-validate over our list of Lasso alphas.\n",
    "lasso_cv = LassoCV(alphas=l_alphas, cv=5, n_jobs=2, max_iter=50_000)\n",
    "\n",
    "# Fit model using best ridge alpha!\n",
    "lasso_cv.fit(Z_train, y_train);"
   ]
  },
  {
   "cell_type": "code",
   "execution_count": 79,
   "id": "f5389210-0699-4aed-9ac2-b53d0e3e49cc",
   "metadata": {},
   "outputs": [
    {
     "data": {
      "text/plain": [
       "0.001"
      ]
     },
     "execution_count": 79,
     "metadata": {},
     "output_type": "execute_result"
    }
   ],
   "source": [
    "# Here is the optimal value of alpha\n",
    "lasso_cv.alpha_"
   ]
  },
  {
   "cell_type": "code",
   "execution_count": 80,
   "id": "8a684db0-8f01-467d-8866-b718c88fe18e",
   "metadata": {},
   "outputs": [
    {
     "name": "stdout",
     "output_type": "stream",
     "text": [
      "LASSO Training R-Squared: 0.7483374575441439 \n",
      "LASSO Testing R-Squared: 0.7234559449077447 \n"
     ]
    }
   ],
   "source": [
    "print(f\"LASSO Training R-Squared: {lasso_cv.score(Z_train, y_train)} \")\n",
    "print(f\"LASSO Testing R-Squared: {lasso_cv.score(Z_test, y_test)} \")"
   ]
  },
  {
   "cell_type": "code",
   "execution_count": 81,
   "id": "f1d7f1cf-d6b6-42e6-950c-da4dfc3cfc31",
   "metadata": {},
   "outputs": [
    {
     "name": "stdout",
     "output_type": "stream",
     "text": [
      "====== MLR =======\n",
      "0.7483374575441504\n",
      "0.7234559313974515\n",
      "\n",
      "===== Ridge ======\n",
      "0.7481362432556091\n",
      "0.7255260041188147\n",
      "\n",
      "===== Lasso ======\n",
      "0.7483374575441439\n",
      "0.7234559449077447\n"
     ]
    }
   ],
   "source": [
    "# Reminders\n",
    "print(\" MLR \".center(18, \"=\"))\n",
    "print(lr.score(Z_train, y_train))\n",
    "print(lr.score(Z_test, y_test))\n",
    "print()\n",
    "print(\" Ridge \".center(18, \"=\"))\n",
    "print(ridge_cv.score(Z_train, y_train))\n",
    "print(ridge_cv.score(Z_test, y_test))\n",
    "print()\n",
    "print(\" Lasso \".center(18, \"=\"))\n",
    "print(lasso_cv.score(Z_train, y_train))\n",
    "print(lasso_cv.score(Z_test, y_test))\n"
   ]
  },
  {
   "cell_type": "code",
   "execution_count": 83,
   "id": "62c4ffdb-dae2-46d8-8eac-e9513484e67d",
   "metadata": {},
   "outputs": [
    {
     "name": "stdout",
     "output_type": "stream",
     "text": [
      "MLR difference = 0.024881526146698918\n",
      "Ridge difference = 0.022610239136794275\n",
      "Lasso difference = 0.02488151263639926\n"
     ]
    }
   ],
   "source": [
    "print('MLR difference =', 0.7483374575441504 - 0.7234559313974515)\n",
    "print('Ridge difference =', 0.748136243255609 - 0.7255260041188147)\n",
    "print('Lasso difference =', 0.7483374575441439 - 0.7234559449077447)"
   ]
  },
  {
   "cell_type": "code",
   "execution_count": null,
   "id": "7306fd4b-ed78-4a7f-97df-64cddfc098a5",
   "metadata": {},
   "outputs": [],
   "source": []
  },
  {
   "cell_type": "markdown",
   "id": "de96606f-8df1-41b5-b3ab-e1e6eabf627d",
   "metadata": {},
   "source": [
    "#### Ridge is the best model option because it's the most accurate regarding a train/test ratio."
   ]
  },
  {
   "cell_type": "markdown",
   "id": "7ebcb264-3e9d-4099-b4eb-f8cfdcc3f03f",
   "metadata": {},
   "source": []
  },
  {
   "cell_type": "markdown",
   "id": "98e06f9a-6e56-43ed-b7f4-2a40ab8a7f52",
   "metadata": {},
   "source": [
    "# Creating Kaggle test csv"
   ]
  },
  {
   "cell_type": "code",
   "execution_count": 84,
   "id": "9ae568a5-69a7-439e-8669-58e4d1842554",
   "metadata": {},
   "outputs": [],
   "source": [
    "kaggle_sub_data = pd.read_csv('../datasets/test.csv')"
   ]
  },
  {
   "cell_type": "code",
   "execution_count": 85,
   "id": "7e2feeb3-0fb7-4c31-9442-aff92cc76410",
   "metadata": {},
   "outputs": [],
   "source": [
    "#tenemos que cambiar las columns del kaggle\n",
    "kaggle_sub_data.columns = [column.replace(' ', '_').lower() for column in kaggle_sub_data.columns]"
   ]
  },
  {
   "cell_type": "code",
   "execution_count": 87,
   "id": "4dbded98-152b-4737-bdbd-b559d34102c3",
   "metadata": {},
   "outputs": [],
   "source": [
    "kaggle_sub_data_dummy = pd.get_dummies(kaggle_sub_data, columns = ['exter_qual', 'kitchen_qual'], drop_first = True)"
   ]
  },
  {
   "cell_type": "code",
   "execution_count": 88,
   "id": "eb7577ca-f506-4924-b2e0-fa364b89a667",
   "metadata": {},
   "outputs": [],
   "source": [
    "#generate predictions\n",
    "\n",
    "kaggle_preds = ridge_opt.predict(kaggle_sub_data_dummy[X_train.columns])"
   ]
  },
  {
   "cell_type": "code",
   "execution_count": 89,
   "id": "70c1026b-73c1-407c-9b64-4139d564dfa3",
   "metadata": {},
   "outputs": [
    {
     "data": {
      "text/html": [
       "<div>\n",
       "<style scoped>\n",
       "    .dataframe tbody tr th:only-of-type {\n",
       "        vertical-align: middle;\n",
       "    }\n",
       "\n",
       "    .dataframe tbody tr th {\n",
       "        vertical-align: top;\n",
       "    }\n",
       "\n",
       "    .dataframe thead th {\n",
       "        text-align: right;\n",
       "    }\n",
       "</style>\n",
       "<table border=\"1\" class=\"dataframe\">\n",
       "  <thead>\n",
       "    <tr style=\"text-align: right;\">\n",
       "      <th></th>\n",
       "      <th>id</th>\n",
       "      <th>pid</th>\n",
       "      <th>ms_subclass</th>\n",
       "      <th>ms_zoning</th>\n",
       "      <th>lot_frontage</th>\n",
       "      <th>lot_area</th>\n",
       "      <th>street</th>\n",
       "      <th>alley</th>\n",
       "      <th>lot_shape</th>\n",
       "      <th>land_contour</th>\n",
       "      <th>...</th>\n",
       "      <th>mo_sold</th>\n",
       "      <th>yr_sold</th>\n",
       "      <th>sale_type</th>\n",
       "      <th>exter_qual_Fa</th>\n",
       "      <th>exter_qual_Gd</th>\n",
       "      <th>exter_qual_TA</th>\n",
       "      <th>kitchen_qual_Fa</th>\n",
       "      <th>kitchen_qual_Gd</th>\n",
       "      <th>kitchen_qual_Po</th>\n",
       "      <th>kitchen_qual_TA</th>\n",
       "    </tr>\n",
       "  </thead>\n",
       "  <tbody>\n",
       "    <tr>\n",
       "      <th>0</th>\n",
       "      <td>2658</td>\n",
       "      <td>902301120</td>\n",
       "      <td>190</td>\n",
       "      <td>RM</td>\n",
       "      <td>69.0</td>\n",
       "      <td>9142</td>\n",
       "      <td>Pave</td>\n",
       "      <td>Grvl</td>\n",
       "      <td>Reg</td>\n",
       "      <td>Lvl</td>\n",
       "      <td>...</td>\n",
       "      <td>4</td>\n",
       "      <td>2006</td>\n",
       "      <td>WD</td>\n",
       "      <td>0</td>\n",
       "      <td>0</td>\n",
       "      <td>1</td>\n",
       "      <td>1</td>\n",
       "      <td>0</td>\n",
       "      <td>0</td>\n",
       "      <td>0</td>\n",
       "    </tr>\n",
       "    <tr>\n",
       "      <th>1</th>\n",
       "      <td>2718</td>\n",
       "      <td>905108090</td>\n",
       "      <td>90</td>\n",
       "      <td>RL</td>\n",
       "      <td>NaN</td>\n",
       "      <td>9662</td>\n",
       "      <td>Pave</td>\n",
       "      <td>NaN</td>\n",
       "      <td>IR1</td>\n",
       "      <td>Lvl</td>\n",
       "      <td>...</td>\n",
       "      <td>8</td>\n",
       "      <td>2006</td>\n",
       "      <td>WD</td>\n",
       "      <td>0</td>\n",
       "      <td>0</td>\n",
       "      <td>1</td>\n",
       "      <td>0</td>\n",
       "      <td>0</td>\n",
       "      <td>0</td>\n",
       "      <td>1</td>\n",
       "    </tr>\n",
       "    <tr>\n",
       "      <th>2</th>\n",
       "      <td>2414</td>\n",
       "      <td>528218130</td>\n",
       "      <td>60</td>\n",
       "      <td>RL</td>\n",
       "      <td>58.0</td>\n",
       "      <td>17104</td>\n",
       "      <td>Pave</td>\n",
       "      <td>NaN</td>\n",
       "      <td>IR1</td>\n",
       "      <td>Lvl</td>\n",
       "      <td>...</td>\n",
       "      <td>9</td>\n",
       "      <td>2006</td>\n",
       "      <td>New</td>\n",
       "      <td>0</td>\n",
       "      <td>1</td>\n",
       "      <td>0</td>\n",
       "      <td>0</td>\n",
       "      <td>1</td>\n",
       "      <td>0</td>\n",
       "      <td>0</td>\n",
       "    </tr>\n",
       "    <tr>\n",
       "      <th>3</th>\n",
       "      <td>1989</td>\n",
       "      <td>902207150</td>\n",
       "      <td>30</td>\n",
       "      <td>RM</td>\n",
       "      <td>60.0</td>\n",
       "      <td>8520</td>\n",
       "      <td>Pave</td>\n",
       "      <td>NaN</td>\n",
       "      <td>Reg</td>\n",
       "      <td>Lvl</td>\n",
       "      <td>...</td>\n",
       "      <td>7</td>\n",
       "      <td>2007</td>\n",
       "      <td>WD</td>\n",
       "      <td>0</td>\n",
       "      <td>1</td>\n",
       "      <td>0</td>\n",
       "      <td>0</td>\n",
       "      <td>0</td>\n",
       "      <td>0</td>\n",
       "      <td>1</td>\n",
       "    </tr>\n",
       "    <tr>\n",
       "      <th>4</th>\n",
       "      <td>625</td>\n",
       "      <td>535105100</td>\n",
       "      <td>20</td>\n",
       "      <td>RL</td>\n",
       "      <td>NaN</td>\n",
       "      <td>9500</td>\n",
       "      <td>Pave</td>\n",
       "      <td>NaN</td>\n",
       "      <td>IR1</td>\n",
       "      <td>Lvl</td>\n",
       "      <td>...</td>\n",
       "      <td>7</td>\n",
       "      <td>2009</td>\n",
       "      <td>WD</td>\n",
       "      <td>0</td>\n",
       "      <td>0</td>\n",
       "      <td>1</td>\n",
       "      <td>0</td>\n",
       "      <td>0</td>\n",
       "      <td>0</td>\n",
       "      <td>1</td>\n",
       "    </tr>\n",
       "    <tr>\n",
       "      <th>...</th>\n",
       "      <td>...</td>\n",
       "      <td>...</td>\n",
       "      <td>...</td>\n",
       "      <td>...</td>\n",
       "      <td>...</td>\n",
       "      <td>...</td>\n",
       "      <td>...</td>\n",
       "      <td>...</td>\n",
       "      <td>...</td>\n",
       "      <td>...</td>\n",
       "      <td>...</td>\n",
       "      <td>...</td>\n",
       "      <td>...</td>\n",
       "      <td>...</td>\n",
       "      <td>...</td>\n",
       "      <td>...</td>\n",
       "      <td>...</td>\n",
       "      <td>...</td>\n",
       "      <td>...</td>\n",
       "      <td>...</td>\n",
       "      <td>...</td>\n",
       "    </tr>\n",
       "    <tr>\n",
       "      <th>873</th>\n",
       "      <td>1662</td>\n",
       "      <td>527377110</td>\n",
       "      <td>60</td>\n",
       "      <td>RL</td>\n",
       "      <td>80.0</td>\n",
       "      <td>8000</td>\n",
       "      <td>Pave</td>\n",
       "      <td>NaN</td>\n",
       "      <td>Reg</td>\n",
       "      <td>Lvl</td>\n",
       "      <td>...</td>\n",
       "      <td>11</td>\n",
       "      <td>2007</td>\n",
       "      <td>WD</td>\n",
       "      <td>0</td>\n",
       "      <td>0</td>\n",
       "      <td>1</td>\n",
       "      <td>0</td>\n",
       "      <td>0</td>\n",
       "      <td>0</td>\n",
       "      <td>1</td>\n",
       "    </tr>\n",
       "    <tr>\n",
       "      <th>874</th>\n",
       "      <td>1234</td>\n",
       "      <td>535126140</td>\n",
       "      <td>60</td>\n",
       "      <td>RL</td>\n",
       "      <td>90.0</td>\n",
       "      <td>14670</td>\n",
       "      <td>Pave</td>\n",
       "      <td>NaN</td>\n",
       "      <td>Reg</td>\n",
       "      <td>Lvl</td>\n",
       "      <td>...</td>\n",
       "      <td>8</td>\n",
       "      <td>2008</td>\n",
       "      <td>WD</td>\n",
       "      <td>0</td>\n",
       "      <td>1</td>\n",
       "      <td>0</td>\n",
       "      <td>0</td>\n",
       "      <td>1</td>\n",
       "      <td>0</td>\n",
       "      <td>0</td>\n",
       "    </tr>\n",
       "    <tr>\n",
       "      <th>875</th>\n",
       "      <td>1373</td>\n",
       "      <td>904100040</td>\n",
       "      <td>20</td>\n",
       "      <td>RL</td>\n",
       "      <td>55.0</td>\n",
       "      <td>8250</td>\n",
       "      <td>Pave</td>\n",
       "      <td>NaN</td>\n",
       "      <td>Reg</td>\n",
       "      <td>Lvl</td>\n",
       "      <td>...</td>\n",
       "      <td>8</td>\n",
       "      <td>2008</td>\n",
       "      <td>WD</td>\n",
       "      <td>0</td>\n",
       "      <td>0</td>\n",
       "      <td>1</td>\n",
       "      <td>0</td>\n",
       "      <td>0</td>\n",
       "      <td>0</td>\n",
       "      <td>1</td>\n",
       "    </tr>\n",
       "    <tr>\n",
       "      <th>876</th>\n",
       "      <td>1672</td>\n",
       "      <td>527425140</td>\n",
       "      <td>20</td>\n",
       "      <td>RL</td>\n",
       "      <td>60.0</td>\n",
       "      <td>9000</td>\n",
       "      <td>Pave</td>\n",
       "      <td>NaN</td>\n",
       "      <td>Reg</td>\n",
       "      <td>Lvl</td>\n",
       "      <td>...</td>\n",
       "      <td>5</td>\n",
       "      <td>2007</td>\n",
       "      <td>WD</td>\n",
       "      <td>0</td>\n",
       "      <td>0</td>\n",
       "      <td>1</td>\n",
       "      <td>0</td>\n",
       "      <td>0</td>\n",
       "      <td>0</td>\n",
       "      <td>1</td>\n",
       "    </tr>\n",
       "    <tr>\n",
       "      <th>877</th>\n",
       "      <td>1939</td>\n",
       "      <td>535327160</td>\n",
       "      <td>20</td>\n",
       "      <td>RL</td>\n",
       "      <td>70.0</td>\n",
       "      <td>8400</td>\n",
       "      <td>Pave</td>\n",
       "      <td>NaN</td>\n",
       "      <td>Reg</td>\n",
       "      <td>Lvl</td>\n",
       "      <td>...</td>\n",
       "      <td>3</td>\n",
       "      <td>2007</td>\n",
       "      <td>WD</td>\n",
       "      <td>0</td>\n",
       "      <td>0</td>\n",
       "      <td>1</td>\n",
       "      <td>0</td>\n",
       "      <td>0</td>\n",
       "      <td>0</td>\n",
       "      <td>1</td>\n",
       "    </tr>\n",
       "  </tbody>\n",
       "</table>\n",
       "<p>878 rows × 85 columns</p>\n",
       "</div>"
      ],
      "text/plain": [
       "       id        pid  ms_subclass ms_zoning  lot_frontage  lot_area street  \\\n",
       "0    2658  902301120          190        RM          69.0      9142   Pave   \n",
       "1    2718  905108090           90        RL           NaN      9662   Pave   \n",
       "2    2414  528218130           60        RL          58.0     17104   Pave   \n",
       "3    1989  902207150           30        RM          60.0      8520   Pave   \n",
       "4     625  535105100           20        RL           NaN      9500   Pave   \n",
       "..    ...        ...          ...       ...           ...       ...    ...   \n",
       "873  1662  527377110           60        RL          80.0      8000   Pave   \n",
       "874  1234  535126140           60        RL          90.0     14670   Pave   \n",
       "875  1373  904100040           20        RL          55.0      8250   Pave   \n",
       "876  1672  527425140           20        RL          60.0      9000   Pave   \n",
       "877  1939  535327160           20        RL          70.0      8400   Pave   \n",
       "\n",
       "    alley lot_shape land_contour  ... mo_sold yr_sold sale_type exter_qual_Fa  \\\n",
       "0    Grvl       Reg          Lvl  ...       4    2006       WD              0   \n",
       "1     NaN       IR1          Lvl  ...       8    2006       WD              0   \n",
       "2     NaN       IR1          Lvl  ...       9    2006       New             0   \n",
       "3     NaN       Reg          Lvl  ...       7    2007       WD              0   \n",
       "4     NaN       IR1          Lvl  ...       7    2009       WD              0   \n",
       "..    ...       ...          ...  ...     ...     ...       ...           ...   \n",
       "873   NaN       Reg          Lvl  ...      11    2007       WD              0   \n",
       "874   NaN       Reg          Lvl  ...       8    2008       WD              0   \n",
       "875   NaN       Reg          Lvl  ...       8    2008       WD              0   \n",
       "876   NaN       Reg          Lvl  ...       5    2007       WD              0   \n",
       "877   NaN       Reg          Lvl  ...       3    2007       WD              0   \n",
       "\n",
       "    exter_qual_Gd exter_qual_TA kitchen_qual_Fa kitchen_qual_Gd  \\\n",
       "0               0             1               1               0   \n",
       "1               0             1               0               0   \n",
       "2               1             0               0               1   \n",
       "3               1             0               0               0   \n",
       "4               0             1               0               0   \n",
       "..            ...           ...             ...             ...   \n",
       "873             0             1               0               0   \n",
       "874             1             0               0               1   \n",
       "875             0             1               0               0   \n",
       "876             0             1               0               0   \n",
       "877             0             1               0               0   \n",
       "\n",
       "     kitchen_qual_Po  kitchen_qual_TA  \n",
       "0                  0                0  \n",
       "1                  0                1  \n",
       "2                  0                0  \n",
       "3                  0                1  \n",
       "4                  0                1  \n",
       "..               ...              ...  \n",
       "873                0                1  \n",
       "874                0                0  \n",
       "875                0                1  \n",
       "876                0                1  \n",
       "877                0                1  \n",
       "\n",
       "[878 rows x 85 columns]"
      ]
     },
     "execution_count": 89,
     "metadata": {},
     "output_type": "execute_result"
    }
   ],
   "source": [
    "kaggle_sub_data_dummy\n",
    "#we are missing our saleprice"
   ]
  },
  {
   "cell_type": "code",
   "execution_count": 90,
   "id": "ddf3e51b-e8b2-4f26-b3c3-4060e305b03a",
   "metadata": {},
   "outputs": [],
   "source": [
    "# we need to add saleprice\n",
    "\n",
    "kaggle_sub_data_dummy['saleprice'] = kaggle_preds"
   ]
  },
  {
   "cell_type": "code",
   "execution_count": 91,
   "id": "6f42eeb1-40c2-45ba-b25c-ea8d05c3f231",
   "metadata": {},
   "outputs": [
    {
     "data": {
      "text/html": [
       "<div>\n",
       "<style scoped>\n",
       "    .dataframe tbody tr th:only-of-type {\n",
       "        vertical-align: middle;\n",
       "    }\n",
       "\n",
       "    .dataframe tbody tr th {\n",
       "        vertical-align: top;\n",
       "    }\n",
       "\n",
       "    .dataframe thead th {\n",
       "        text-align: right;\n",
       "    }\n",
       "</style>\n",
       "<table border=\"1\" class=\"dataframe\">\n",
       "  <thead>\n",
       "    <tr style=\"text-align: right;\">\n",
       "      <th></th>\n",
       "      <th>id</th>\n",
       "      <th>saleprice</th>\n",
       "    </tr>\n",
       "  </thead>\n",
       "  <tbody>\n",
       "    <tr>\n",
       "      <th>0</th>\n",
       "      <td>2658</td>\n",
       "      <td>360715.361205</td>\n",
       "    </tr>\n",
       "    <tr>\n",
       "      <th>1</th>\n",
       "      <td>2718</td>\n",
       "      <td>323431.297286</td>\n",
       "    </tr>\n",
       "    <tr>\n",
       "      <th>2</th>\n",
       "      <td>2414</td>\n",
       "      <td>402759.862132</td>\n",
       "    </tr>\n",
       "    <tr>\n",
       "      <th>3</th>\n",
       "      <td>1989</td>\n",
       "      <td>330244.640032</td>\n",
       "    </tr>\n",
       "    <tr>\n",
       "      <th>4</th>\n",
       "      <td>625</td>\n",
       "      <td>356141.474065</td>\n",
       "    </tr>\n",
       "    <tr>\n",
       "      <th>...</th>\n",
       "      <td>...</td>\n",
       "      <td>...</td>\n",
       "    </tr>\n",
       "    <tr>\n",
       "      <th>873</th>\n",
       "      <td>1662</td>\n",
       "      <td>356141.474065</td>\n",
       "    </tr>\n",
       "    <tr>\n",
       "      <th>874</th>\n",
       "      <td>1234</td>\n",
       "      <td>370049.685352</td>\n",
       "    </tr>\n",
       "    <tr>\n",
       "      <th>875</th>\n",
       "      <td>1373</td>\n",
       "      <td>303328.381478</td>\n",
       "    </tr>\n",
       "    <tr>\n",
       "      <th>876</th>\n",
       "      <td>1672</td>\n",
       "      <td>290721.120506</td>\n",
       "    </tr>\n",
       "    <tr>\n",
       "      <th>877</th>\n",
       "      <td>1939</td>\n",
       "      <td>303328.381478</td>\n",
       "    </tr>\n",
       "  </tbody>\n",
       "</table>\n",
       "<p>878 rows × 2 columns</p>\n",
       "</div>"
      ],
      "text/plain": [
       "       id      saleprice\n",
       "0    2658  360715.361205\n",
       "1    2718  323431.297286\n",
       "2    2414  402759.862132\n",
       "3    1989  330244.640032\n",
       "4     625  356141.474065\n",
       "..    ...            ...\n",
       "873  1662  356141.474065\n",
       "874  1234  370049.685352\n",
       "875  1373  303328.381478\n",
       "876  1672  290721.120506\n",
       "877  1939  303328.381478\n",
       "\n",
       "[878 rows x 2 columns]"
      ]
     },
     "execution_count": 91,
     "metadata": {},
     "output_type": "execute_result"
    }
   ],
   "source": [
    "# solo quiero id y salerice para kaggle\n",
    "kaggle_sub_data_dummy[['id', 'saleprice']]"
   ]
  },
  {
   "cell_type": "code",
   "execution_count": 94,
   "id": "0b876eef-1ba1-4c3a-b86b-072389dae892",
   "metadata": {},
   "outputs": [],
   "source": [
    "# ahora lo paso a un csv\n",
    "kaggle_sub_data_dummy[['id', 'saleprice']].to_csv('../datasets/kaggle_1stModel_sub.csv', index = False)"
   ]
  }
 ],
 "metadata": {
  "kernelspec": {
   "display_name": "Python 3",
   "language": "python",
   "name": "python3"
  },
  "language_info": {
   "codemirror_mode": {
    "name": "ipython",
    "version": 3
   },
   "file_extension": ".py",
   "mimetype": "text/x-python",
   "name": "python",
   "nbconvert_exporter": "python",
   "pygments_lexer": "ipython3",
   "version": "3.8.8"
  }
 },
 "nbformat": 4,
 "nbformat_minor": 5
}
