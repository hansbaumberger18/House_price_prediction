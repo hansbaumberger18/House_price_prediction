{
 "cells": [
  {
   "cell_type": "markdown",
   "id": "6ce38523-e223-4159-a140-466fd49aed1a",
   "metadata": {
    "tags": []
   },
   "source": [
    "### Features: overall_qual, total_bsmt_sf, gr_liv_area, garage_area, neighborhood, exter_qual, foundation, bsmt_qual, kitchen_qual"
   ]
  },
  {
   "cell_type": "markdown",
   "id": "1a8cca07-e675-43eb-a245-58f132052339",
   "metadata": {},
   "source": [
    "These predictive features are purely based on statistical correlation and learnings from the prior model where room for accuracy was observed."
   ]
  },
  {
   "cell_type": "code",
   "execution_count": 7,
   "id": "91956c20-b45f-4c05-83e7-55809e9d4bbf",
   "metadata": {},
   "outputs": [],
   "source": [
    "import pandas as pd\n",
    "import numpy as np\n",
    "import matplotlib.pyplot as plt\n",
    "import seaborn as sns\n",
    "\n",
    "from sklearn.linear_model import LinearRegression\n",
    "from sklearn.model_selection import train_test_split, cross_val_score\n",
    "from sklearn.metrics import r2_score, mean_squared_error\n",
    "from sklearn.preprocessing import StandardScaler, PolynomialFeatures"
   ]
  },
  {
   "cell_type": "markdown",
   "id": "613c9862-b4b0-4c82-bfaf-08833afc83f2",
   "metadata": {},
   "source": [
    "## Get cleaned data"
   ]
  },
  {
   "cell_type": "code",
   "execution_count": 8,
   "id": "b03a299f-0a78-477a-bec3-35a811c4475d",
   "metadata": {},
   "outputs": [],
   "source": [
    "train_d = pd.read_csv('../datasets/train-data-clean-imputed-1.1.csv')"
   ]
  },
  {
   "cell_type": "code",
   "execution_count": 9,
   "id": "7e357957-8fb6-4d99-bd4e-d64eaaa8b337",
   "metadata": {},
   "outputs": [
    {
     "data": {
      "text/plain": [
       "(1967, 67)"
      ]
     },
     "execution_count": 9,
     "metadata": {},
     "output_type": "execute_result"
    }
   ],
   "source": [
    "train_d.shape"
   ]
  },
  {
   "cell_type": "code",
   "execution_count": 10,
   "id": "c96d5805-d1f5-4ca9-8d3e-ec9aa0be96b2",
   "metadata": {},
   "outputs": [
    {
     "data": {
      "text/html": [
       "<div>\n",
       "<style scoped>\n",
       "    .dataframe tbody tr th:only-of-type {\n",
       "        vertical-align: middle;\n",
       "    }\n",
       "\n",
       "    .dataframe tbody tr th {\n",
       "        vertical-align: top;\n",
       "    }\n",
       "\n",
       "    .dataframe thead th {\n",
       "        text-align: right;\n",
       "    }\n",
       "</style>\n",
       "<table border=\"1\" class=\"dataframe\">\n",
       "  <thead>\n",
       "    <tr style=\"text-align: right;\">\n",
       "      <th></th>\n",
       "      <th>id</th>\n",
       "      <th>pid</th>\n",
       "      <th>ms_subclass</th>\n",
       "      <th>lot_area</th>\n",
       "      <th>overall_qual</th>\n",
       "      <th>overall_cond</th>\n",
       "      <th>year_built</th>\n",
       "      <th>year_remod/add</th>\n",
       "      <th>mas_vnr_area</th>\n",
       "      <th>bsmtfin_sf_1</th>\n",
       "      <th>...</th>\n",
       "      <th>bsmt_exposure</th>\n",
       "      <th>bsmtfin_type_1</th>\n",
       "      <th>bsmtfin_type_2</th>\n",
       "      <th>heating</th>\n",
       "      <th>heating_qc</th>\n",
       "      <th>electrical</th>\n",
       "      <th>kitchen_qual</th>\n",
       "      <th>functional</th>\n",
       "      <th>paved_drive</th>\n",
       "      <th>sale_type</th>\n",
       "    </tr>\n",
       "  </thead>\n",
       "  <tbody>\n",
       "    <tr>\n",
       "      <th>0</th>\n",
       "      <td>109</td>\n",
       "      <td>533352170</td>\n",
       "      <td>60</td>\n",
       "      <td>13517</td>\n",
       "      <td>6</td>\n",
       "      <td>8</td>\n",
       "      <td>1976</td>\n",
       "      <td>2005</td>\n",
       "      <td>289.0</td>\n",
       "      <td>533.0</td>\n",
       "      <td>...</td>\n",
       "      <td>No</td>\n",
       "      <td>GLQ</td>\n",
       "      <td>Unf</td>\n",
       "      <td>GasA</td>\n",
       "      <td>Ex</td>\n",
       "      <td>SBrkr</td>\n",
       "      <td>Gd</td>\n",
       "      <td>Typ</td>\n",
       "      <td>Y</td>\n",
       "      <td>WD</td>\n",
       "    </tr>\n",
       "    <tr>\n",
       "      <th>1</th>\n",
       "      <td>544</td>\n",
       "      <td>531379050</td>\n",
       "      <td>60</td>\n",
       "      <td>11492</td>\n",
       "      <td>7</td>\n",
       "      <td>5</td>\n",
       "      <td>1996</td>\n",
       "      <td>1997</td>\n",
       "      <td>132.0</td>\n",
       "      <td>637.0</td>\n",
       "      <td>...</td>\n",
       "      <td>No</td>\n",
       "      <td>GLQ</td>\n",
       "      <td>Unf</td>\n",
       "      <td>GasA</td>\n",
       "      <td>Ex</td>\n",
       "      <td>SBrkr</td>\n",
       "      <td>Gd</td>\n",
       "      <td>Typ</td>\n",
       "      <td>Y</td>\n",
       "      <td>WD</td>\n",
       "    </tr>\n",
       "    <tr>\n",
       "      <th>2</th>\n",
       "      <td>153</td>\n",
       "      <td>535304180</td>\n",
       "      <td>20</td>\n",
       "      <td>7922</td>\n",
       "      <td>5</td>\n",
       "      <td>7</td>\n",
       "      <td>1953</td>\n",
       "      <td>2007</td>\n",
       "      <td>0.0</td>\n",
       "      <td>731.0</td>\n",
       "      <td>...</td>\n",
       "      <td>No</td>\n",
       "      <td>GLQ</td>\n",
       "      <td>Unf</td>\n",
       "      <td>GasA</td>\n",
       "      <td>TA</td>\n",
       "      <td>SBrkr</td>\n",
       "      <td>Gd</td>\n",
       "      <td>Typ</td>\n",
       "      <td>Y</td>\n",
       "      <td>WD</td>\n",
       "    </tr>\n",
       "    <tr>\n",
       "      <th>3</th>\n",
       "      <td>318</td>\n",
       "      <td>916386060</td>\n",
       "      <td>60</td>\n",
       "      <td>9802</td>\n",
       "      <td>5</td>\n",
       "      <td>5</td>\n",
       "      <td>2006</td>\n",
       "      <td>2007</td>\n",
       "      <td>0.0</td>\n",
       "      <td>0.0</td>\n",
       "      <td>...</td>\n",
       "      <td>No</td>\n",
       "      <td>Unf</td>\n",
       "      <td>Unf</td>\n",
       "      <td>GasA</td>\n",
       "      <td>Gd</td>\n",
       "      <td>SBrkr</td>\n",
       "      <td>TA</td>\n",
       "      <td>Typ</td>\n",
       "      <td>Y</td>\n",
       "      <td>WD</td>\n",
       "    </tr>\n",
       "    <tr>\n",
       "      <th>4</th>\n",
       "      <td>255</td>\n",
       "      <td>906425045</td>\n",
       "      <td>50</td>\n",
       "      <td>14235</td>\n",
       "      <td>6</td>\n",
       "      <td>8</td>\n",
       "      <td>1900</td>\n",
       "      <td>1993</td>\n",
       "      <td>0.0</td>\n",
       "      <td>0.0</td>\n",
       "      <td>...</td>\n",
       "      <td>No</td>\n",
       "      <td>Unf</td>\n",
       "      <td>Unf</td>\n",
       "      <td>GasA</td>\n",
       "      <td>TA</td>\n",
       "      <td>SBrkr</td>\n",
       "      <td>TA</td>\n",
       "      <td>Typ</td>\n",
       "      <td>N</td>\n",
       "      <td>WD</td>\n",
       "    </tr>\n",
       "  </tbody>\n",
       "</table>\n",
       "<p>5 rows × 67 columns</p>\n",
       "</div>"
      ],
      "text/plain": [
       "    id        pid  ms_subclass  lot_area  overall_qual  overall_cond  \\\n",
       "0  109  533352170           60     13517             6             8   \n",
       "1  544  531379050           60     11492             7             5   \n",
       "2  153  535304180           20      7922             5             7   \n",
       "3  318  916386060           60      9802             5             5   \n",
       "4  255  906425045           50     14235             6             8   \n",
       "\n",
       "   year_built  year_remod/add  mas_vnr_area  bsmtfin_sf_1  ...  bsmt_exposure  \\\n",
       "0        1976            2005         289.0         533.0  ...             No   \n",
       "1        1996            1997         132.0         637.0  ...             No   \n",
       "2        1953            2007           0.0         731.0  ...             No   \n",
       "3        2006            2007           0.0           0.0  ...             No   \n",
       "4        1900            1993           0.0           0.0  ...             No   \n",
       "\n",
       "   bsmtfin_type_1  bsmtfin_type_2  heating  heating_qc  electrical  \\\n",
       "0             GLQ             Unf     GasA          Ex       SBrkr   \n",
       "1             GLQ             Unf     GasA          Ex       SBrkr   \n",
       "2             GLQ             Unf     GasA          TA       SBrkr   \n",
       "3             Unf             Unf     GasA          Gd       SBrkr   \n",
       "4             Unf             Unf     GasA          TA       SBrkr   \n",
       "\n",
       "   kitchen_qual  functional  paved_drive  sale_type  \n",
       "0            Gd         Typ            Y        WD   \n",
       "1            Gd         Typ            Y        WD   \n",
       "2            Gd         Typ            Y        WD   \n",
       "3            TA         Typ            Y        WD   \n",
       "4            TA         Typ            N        WD   \n",
       "\n",
       "[5 rows x 67 columns]"
      ]
     },
     "execution_count": 10,
     "metadata": {},
     "output_type": "execute_result"
    }
   ],
   "source": [
    "train_d.head()"
   ]
  },
  {
   "cell_type": "code",
   "execution_count": 11,
   "id": "cf1f16ae-999f-4c92-b582-72ac4365e533",
   "metadata": {},
   "outputs": [
    {
     "data": {
      "text/plain": [
       "Index(['id', 'pid', 'ms_subclass', 'lot_area', 'overall_qual', 'overall_cond',\n",
       "       'year_built', 'year_remod/add', 'mas_vnr_area', 'bsmtfin_sf_1',\n",
       "       'bsmtfin_sf_2', 'bsmt_unf_sf', 'total_bsmt_sf', '1st_flr_sf',\n",
       "       '2nd_flr_sf', 'low_qual_fin_sf', 'gr_liv_area', 'bsmt_full_bath',\n",
       "       'bsmt_half_bath', 'full_bath', 'half_bath', 'bedroom_abvgr',\n",
       "       'kitchen_abvgr', 'totrms_abvgrd', 'fireplaces', 'garage_cars',\n",
       "       'garage_area', 'wood_deck_sf', 'open_porch_sf', 'enclosed_porch',\n",
       "       '3ssn_porch', 'screen_porch', 'pool_area', 'misc_val', 'mo_sold',\n",
       "       'yr_sold', 'saleprice', 'ms_zoning', 'lot_shape', 'land_contour',\n",
       "       'lot_config', 'land_slope', 'neighborhood', 'condition_1',\n",
       "       'condition_2', 'bldg_type', 'house_style', 'roof_style', 'roof_matl',\n",
       "       'exterior_1st', 'exterior_2nd', 'mas_vnr_type', 'exter_qual',\n",
       "       'exter_cond', 'foundation', 'bsmt_qual', 'bsmt_cond', 'bsmt_exposure',\n",
       "       'bsmtfin_type_1', 'bsmtfin_type_2', 'heating', 'heating_qc',\n",
       "       'electrical', 'kitchen_qual', 'functional', 'paved_drive', 'sale_type'],\n",
       "      dtype='object')"
      ]
     },
     "execution_count": 11,
     "metadata": {},
     "output_type": "execute_result"
    }
   ],
   "source": [
    "train_d.columns"
   ]
  },
  {
   "cell_type": "markdown",
   "id": "6bf067f5-5e46-4f12-95f4-0b17a853cb9b",
   "metadata": {},
   "source": [
    "## Model developement:"
   ]
  },
  {
   "cell_type": "markdown",
   "id": "0e29f047-e5e9-48e7-a115-2478a4fb5ddf",
   "metadata": {},
   "source": [
    "### Matrixes"
   ]
  },
  {
   "cell_type": "code",
   "execution_count": 12,
   "id": "8013b5d8-ac88-4303-bdca-88213d3577e4",
   "metadata": {},
   "outputs": [],
   "source": [
    "train_m = train_d[['overall_qual', 'total_bsmt_sf', 'gr_liv_area', 'garage_area', 'neighborhood', 'exter_qual', 'foundation', 'bsmt_qual', 'kitchen_qual']].copy()"
   ]
  },
  {
   "cell_type": "code",
   "execution_count": 13,
   "id": "2a6cb5e7-563c-4740-be4d-4a7d496002ce",
   "metadata": {},
   "outputs": [
    {
     "data": {
      "text/html": [
       "<div>\n",
       "<style scoped>\n",
       "    .dataframe tbody tr th:only-of-type {\n",
       "        vertical-align: middle;\n",
       "    }\n",
       "\n",
       "    .dataframe tbody tr th {\n",
       "        vertical-align: top;\n",
       "    }\n",
       "\n",
       "    .dataframe thead th {\n",
       "        text-align: right;\n",
       "    }\n",
       "</style>\n",
       "<table border=\"1\" class=\"dataframe\">\n",
       "  <thead>\n",
       "    <tr style=\"text-align: right;\">\n",
       "      <th></th>\n",
       "      <th>overall_qual</th>\n",
       "      <th>total_bsmt_sf</th>\n",
       "      <th>gr_liv_area</th>\n",
       "      <th>garage_area</th>\n",
       "      <th>neighborhood</th>\n",
       "      <th>exter_qual</th>\n",
       "      <th>foundation</th>\n",
       "      <th>bsmt_qual</th>\n",
       "      <th>kitchen_qual</th>\n",
       "    </tr>\n",
       "  </thead>\n",
       "  <tbody>\n",
       "    <tr>\n",
       "      <th>0</th>\n",
       "      <td>6</td>\n",
       "      <td>725.0</td>\n",
       "      <td>1479</td>\n",
       "      <td>475.0</td>\n",
       "      <td>Sawyer</td>\n",
       "      <td>Gd</td>\n",
       "      <td>CBlock</td>\n",
       "      <td>TA</td>\n",
       "      <td>Gd</td>\n",
       "    </tr>\n",
       "    <tr>\n",
       "      <th>1</th>\n",
       "      <td>7</td>\n",
       "      <td>913.0</td>\n",
       "      <td>2122</td>\n",
       "      <td>559.0</td>\n",
       "      <td>SawyerW</td>\n",
       "      <td>Gd</td>\n",
       "      <td>PConc</td>\n",
       "      <td>Gd</td>\n",
       "      <td>Gd</td>\n",
       "    </tr>\n",
       "    <tr>\n",
       "      <th>2</th>\n",
       "      <td>5</td>\n",
       "      <td>1057.0</td>\n",
       "      <td>1057</td>\n",
       "      <td>246.0</td>\n",
       "      <td>NAmes</td>\n",
       "      <td>TA</td>\n",
       "      <td>CBlock</td>\n",
       "      <td>TA</td>\n",
       "      <td>Gd</td>\n",
       "    </tr>\n",
       "    <tr>\n",
       "      <th>3</th>\n",
       "      <td>5</td>\n",
       "      <td>384.0</td>\n",
       "      <td>1444</td>\n",
       "      <td>400.0</td>\n",
       "      <td>Timber</td>\n",
       "      <td>TA</td>\n",
       "      <td>PConc</td>\n",
       "      <td>Gd</td>\n",
       "      <td>TA</td>\n",
       "    </tr>\n",
       "    <tr>\n",
       "      <th>4</th>\n",
       "      <td>6</td>\n",
       "      <td>676.0</td>\n",
       "      <td>1445</td>\n",
       "      <td>484.0</td>\n",
       "      <td>SawyerW</td>\n",
       "      <td>TA</td>\n",
       "      <td>PConc</td>\n",
       "      <td>Fa</td>\n",
       "      <td>TA</td>\n",
       "    </tr>\n",
       "  </tbody>\n",
       "</table>\n",
       "</div>"
      ],
      "text/plain": [
       "   overall_qual  total_bsmt_sf  gr_liv_area  garage_area neighborhood  \\\n",
       "0             6          725.0         1479        475.0       Sawyer   \n",
       "1             7          913.0         2122        559.0      SawyerW   \n",
       "2             5         1057.0         1057        246.0        NAmes   \n",
       "3             5          384.0         1444        400.0       Timber   \n",
       "4             6          676.0         1445        484.0      SawyerW   \n",
       "\n",
       "  exter_qual foundation bsmt_qual kitchen_qual  \n",
       "0         Gd     CBlock        TA           Gd  \n",
       "1         Gd      PConc        Gd           Gd  \n",
       "2         TA     CBlock        TA           Gd  \n",
       "3         TA      PConc        Gd           TA  \n",
       "4         TA      PConc        Fa           TA  "
      ]
     },
     "execution_count": 13,
     "metadata": {},
     "output_type": "execute_result"
    }
   ],
   "source": [
    "train_m.head()"
   ]
  },
  {
   "cell_type": "code",
   "execution_count": 14,
   "id": "9df8aa8c-5987-429a-8a78-231739549fef",
   "metadata": {},
   "outputs": [],
   "source": [
    "X = train_m\n",
    "y = train_d['saleprice']\n"
   ]
  },
  {
   "cell_type": "code",
   "execution_count": 15,
   "id": "b77dfc1a-575a-445e-a287-1d778635a4e9",
   "metadata": {},
   "outputs": [
    {
     "data": {
      "text/html": [
       "<div>\n",
       "<style scoped>\n",
       "    .dataframe tbody tr th:only-of-type {\n",
       "        vertical-align: middle;\n",
       "    }\n",
       "\n",
       "    .dataframe tbody tr th {\n",
       "        vertical-align: top;\n",
       "    }\n",
       "\n",
       "    .dataframe thead th {\n",
       "        text-align: right;\n",
       "    }\n",
       "</style>\n",
       "<table border=\"1\" class=\"dataframe\">\n",
       "  <thead>\n",
       "    <tr style=\"text-align: right;\">\n",
       "      <th></th>\n",
       "      <th>overall_qual</th>\n",
       "      <th>total_bsmt_sf</th>\n",
       "      <th>gr_liv_area</th>\n",
       "      <th>garage_area</th>\n",
       "      <th>neighborhood_Blueste</th>\n",
       "      <th>neighborhood_BrDale</th>\n",
       "      <th>neighborhood_BrkSide</th>\n",
       "      <th>neighborhood_ClearCr</th>\n",
       "      <th>neighborhood_CollgCr</th>\n",
       "      <th>neighborhood_Crawfor</th>\n",
       "      <th>...</th>\n",
       "      <th>foundation_PConc</th>\n",
       "      <th>foundation_Stone</th>\n",
       "      <th>foundation_Wood</th>\n",
       "      <th>bsmt_qual_Fa</th>\n",
       "      <th>bsmt_qual_Gd</th>\n",
       "      <th>bsmt_qual_Po</th>\n",
       "      <th>bsmt_qual_TA</th>\n",
       "      <th>kitchen_qual_Fa</th>\n",
       "      <th>kitchen_qual_Gd</th>\n",
       "      <th>kitchen_qual_TA</th>\n",
       "    </tr>\n",
       "  </thead>\n",
       "  <tbody>\n",
       "    <tr>\n",
       "      <th>0</th>\n",
       "      <td>6</td>\n",
       "      <td>725.0</td>\n",
       "      <td>1479</td>\n",
       "      <td>475.0</td>\n",
       "      <td>0</td>\n",
       "      <td>0</td>\n",
       "      <td>0</td>\n",
       "      <td>0</td>\n",
       "      <td>0</td>\n",
       "      <td>0</td>\n",
       "      <td>...</td>\n",
       "      <td>0</td>\n",
       "      <td>0</td>\n",
       "      <td>0</td>\n",
       "      <td>0</td>\n",
       "      <td>0</td>\n",
       "      <td>0</td>\n",
       "      <td>1</td>\n",
       "      <td>0</td>\n",
       "      <td>1</td>\n",
       "      <td>0</td>\n",
       "    </tr>\n",
       "    <tr>\n",
       "      <th>1</th>\n",
       "      <td>7</td>\n",
       "      <td>913.0</td>\n",
       "      <td>2122</td>\n",
       "      <td>559.0</td>\n",
       "      <td>0</td>\n",
       "      <td>0</td>\n",
       "      <td>0</td>\n",
       "      <td>0</td>\n",
       "      <td>0</td>\n",
       "      <td>0</td>\n",
       "      <td>...</td>\n",
       "      <td>1</td>\n",
       "      <td>0</td>\n",
       "      <td>0</td>\n",
       "      <td>0</td>\n",
       "      <td>1</td>\n",
       "      <td>0</td>\n",
       "      <td>0</td>\n",
       "      <td>0</td>\n",
       "      <td>1</td>\n",
       "      <td>0</td>\n",
       "    </tr>\n",
       "    <tr>\n",
       "      <th>2</th>\n",
       "      <td>5</td>\n",
       "      <td>1057.0</td>\n",
       "      <td>1057</td>\n",
       "      <td>246.0</td>\n",
       "      <td>0</td>\n",
       "      <td>0</td>\n",
       "      <td>0</td>\n",
       "      <td>0</td>\n",
       "      <td>0</td>\n",
       "      <td>0</td>\n",
       "      <td>...</td>\n",
       "      <td>0</td>\n",
       "      <td>0</td>\n",
       "      <td>0</td>\n",
       "      <td>0</td>\n",
       "      <td>0</td>\n",
       "      <td>0</td>\n",
       "      <td>1</td>\n",
       "      <td>0</td>\n",
       "      <td>1</td>\n",
       "      <td>0</td>\n",
       "    </tr>\n",
       "    <tr>\n",
       "      <th>3</th>\n",
       "      <td>5</td>\n",
       "      <td>384.0</td>\n",
       "      <td>1444</td>\n",
       "      <td>400.0</td>\n",
       "      <td>0</td>\n",
       "      <td>0</td>\n",
       "      <td>0</td>\n",
       "      <td>0</td>\n",
       "      <td>0</td>\n",
       "      <td>0</td>\n",
       "      <td>...</td>\n",
       "      <td>1</td>\n",
       "      <td>0</td>\n",
       "      <td>0</td>\n",
       "      <td>0</td>\n",
       "      <td>1</td>\n",
       "      <td>0</td>\n",
       "      <td>0</td>\n",
       "      <td>0</td>\n",
       "      <td>0</td>\n",
       "      <td>1</td>\n",
       "    </tr>\n",
       "    <tr>\n",
       "      <th>4</th>\n",
       "      <td>6</td>\n",
       "      <td>676.0</td>\n",
       "      <td>1445</td>\n",
       "      <td>484.0</td>\n",
       "      <td>0</td>\n",
       "      <td>0</td>\n",
       "      <td>0</td>\n",
       "      <td>0</td>\n",
       "      <td>0</td>\n",
       "      <td>0</td>\n",
       "      <td>...</td>\n",
       "      <td>1</td>\n",
       "      <td>0</td>\n",
       "      <td>0</td>\n",
       "      <td>1</td>\n",
       "      <td>0</td>\n",
       "      <td>0</td>\n",
       "      <td>0</td>\n",
       "      <td>0</td>\n",
       "      <td>0</td>\n",
       "      <td>1</td>\n",
       "    </tr>\n",
       "  </tbody>\n",
       "</table>\n",
       "<p>5 rows × 45 columns</p>\n",
       "</div>"
      ],
      "text/plain": [
       "   overall_qual  total_bsmt_sf  gr_liv_area  garage_area  \\\n",
       "0             6          725.0         1479        475.0   \n",
       "1             7          913.0         2122        559.0   \n",
       "2             5         1057.0         1057        246.0   \n",
       "3             5          384.0         1444        400.0   \n",
       "4             6          676.0         1445        484.0   \n",
       "\n",
       "   neighborhood_Blueste  neighborhood_BrDale  neighborhood_BrkSide  \\\n",
       "0                     0                    0                     0   \n",
       "1                     0                    0                     0   \n",
       "2                     0                    0                     0   \n",
       "3                     0                    0                     0   \n",
       "4                     0                    0                     0   \n",
       "\n",
       "   neighborhood_ClearCr  neighborhood_CollgCr  neighborhood_Crawfor  ...  \\\n",
       "0                     0                     0                     0  ...   \n",
       "1                     0                     0                     0  ...   \n",
       "2                     0                     0                     0  ...   \n",
       "3                     0                     0                     0  ...   \n",
       "4                     0                     0                     0  ...   \n",
       "\n",
       "   foundation_PConc  foundation_Stone  foundation_Wood  bsmt_qual_Fa  \\\n",
       "0                 0                 0                0             0   \n",
       "1                 1                 0                0             0   \n",
       "2                 0                 0                0             0   \n",
       "3                 1                 0                0             0   \n",
       "4                 1                 0                0             1   \n",
       "\n",
       "   bsmt_qual_Gd  bsmt_qual_Po  bsmt_qual_TA  kitchen_qual_Fa  kitchen_qual_Gd  \\\n",
       "0             0             0             1                0                1   \n",
       "1             1             0             0                0                1   \n",
       "2             0             0             1                0                1   \n",
       "3             1             0             0                0                0   \n",
       "4             0             0             0                0                0   \n",
       "\n",
       "   kitchen_qual_TA  \n",
       "0                0  \n",
       "1                0  \n",
       "2                0  \n",
       "3                1  \n",
       "4                1  \n",
       "\n",
       "[5 rows x 45 columns]"
      ]
     },
     "execution_count": 15,
     "metadata": {},
     "output_type": "execute_result"
    }
   ],
   "source": [
    "# Dummifying categorical variables\n",
    "X_dummy = pd.get_dummies(X, columns = ['neighborhood', 'exter_qual', 'foundation', 'bsmt_qual', 'kitchen_qual'], drop_first = True)\n",
    "X_dummy.head()"
   ]
  },
  {
   "cell_type": "markdown",
   "id": "fd837c68-4bed-47d3-a6fe-ed0a752ed820",
   "metadata": {},
   "source": [
    "Train/Test split splits the data into a training set (70% in this case) and a testing set (30% of data). This allows you to see how well your model performs on unseen data."
   ]
  },
  {
   "cell_type": "code",
   "execution_count": 16,
   "id": "3aa3847f-50a3-4646-a678-e16290d75f71",
   "metadata": {},
   "outputs": [
    {
     "data": {
      "text/html": [
       "<div>\n",
       "<style scoped>\n",
       "    .dataframe tbody tr th:only-of-type {\n",
       "        vertical-align: middle;\n",
       "    }\n",
       "\n",
       "    .dataframe tbody tr th {\n",
       "        vertical-align: top;\n",
       "    }\n",
       "\n",
       "    .dataframe thead th {\n",
       "        text-align: right;\n",
       "    }\n",
       "</style>\n",
       "<table border=\"1\" class=\"dataframe\">\n",
       "  <thead>\n",
       "    <tr style=\"text-align: right;\">\n",
       "      <th></th>\n",
       "      <th>overall_qual</th>\n",
       "      <th>total_bsmt_sf</th>\n",
       "      <th>gr_liv_area</th>\n",
       "      <th>garage_area</th>\n",
       "      <th>neighborhood_Blueste</th>\n",
       "      <th>neighborhood_BrDale</th>\n",
       "      <th>neighborhood_BrkSide</th>\n",
       "      <th>neighborhood_ClearCr</th>\n",
       "      <th>neighborhood_CollgCr</th>\n",
       "      <th>neighborhood_Crawfor</th>\n",
       "      <th>...</th>\n",
       "      <th>foundation_PConc</th>\n",
       "      <th>foundation_Stone</th>\n",
       "      <th>foundation_Wood</th>\n",
       "      <th>bsmt_qual_Fa</th>\n",
       "      <th>bsmt_qual_Gd</th>\n",
       "      <th>bsmt_qual_Po</th>\n",
       "      <th>bsmt_qual_TA</th>\n",
       "      <th>kitchen_qual_Fa</th>\n",
       "      <th>kitchen_qual_Gd</th>\n",
       "      <th>kitchen_qual_TA</th>\n",
       "    </tr>\n",
       "  </thead>\n",
       "  <tbody>\n",
       "    <tr>\n",
       "      <th>1304</th>\n",
       "      <td>6</td>\n",
       "      <td>1362.0</td>\n",
       "      <td>1362</td>\n",
       "      <td>504.0</td>\n",
       "      <td>0</td>\n",
       "      <td>0</td>\n",
       "      <td>0</td>\n",
       "      <td>0</td>\n",
       "      <td>0</td>\n",
       "      <td>0</td>\n",
       "      <td>...</td>\n",
       "      <td>0</td>\n",
       "      <td>0</td>\n",
       "      <td>0</td>\n",
       "      <td>0</td>\n",
       "      <td>0</td>\n",
       "      <td>0</td>\n",
       "      <td>1</td>\n",
       "      <td>0</td>\n",
       "      <td>0</td>\n",
       "      <td>1</td>\n",
       "    </tr>\n",
       "    <tr>\n",
       "      <th>774</th>\n",
       "      <td>4</td>\n",
       "      <td>572.0</td>\n",
       "      <td>572</td>\n",
       "      <td>200.0</td>\n",
       "      <td>0</td>\n",
       "      <td>0</td>\n",
       "      <td>0</td>\n",
       "      <td>0</td>\n",
       "      <td>0</td>\n",
       "      <td>0</td>\n",
       "      <td>...</td>\n",
       "      <td>0</td>\n",
       "      <td>0</td>\n",
       "      <td>0</td>\n",
       "      <td>0</td>\n",
       "      <td>0</td>\n",
       "      <td>0</td>\n",
       "      <td>1</td>\n",
       "      <td>0</td>\n",
       "      <td>0</td>\n",
       "      <td>1</td>\n",
       "    </tr>\n",
       "    <tr>\n",
       "      <th>1814</th>\n",
       "      <td>5</td>\n",
       "      <td>1214.0</td>\n",
       "      <td>1214</td>\n",
       "      <td>461.0</td>\n",
       "      <td>0</td>\n",
       "      <td>0</td>\n",
       "      <td>0</td>\n",
       "      <td>0</td>\n",
       "      <td>0</td>\n",
       "      <td>0</td>\n",
       "      <td>...</td>\n",
       "      <td>0</td>\n",
       "      <td>0</td>\n",
       "      <td>0</td>\n",
       "      <td>0</td>\n",
       "      <td>0</td>\n",
       "      <td>0</td>\n",
       "      <td>1</td>\n",
       "      <td>0</td>\n",
       "      <td>0</td>\n",
       "      <td>1</td>\n",
       "    </tr>\n",
       "    <tr>\n",
       "      <th>613</th>\n",
       "      <td>7</td>\n",
       "      <td>798.0</td>\n",
       "      <td>1954</td>\n",
       "      <td>431.0</td>\n",
       "      <td>0</td>\n",
       "      <td>0</td>\n",
       "      <td>0</td>\n",
       "      <td>0</td>\n",
       "      <td>0</td>\n",
       "      <td>1</td>\n",
       "      <td>...</td>\n",
       "      <td>0</td>\n",
       "      <td>0</td>\n",
       "      <td>0</td>\n",
       "      <td>0</td>\n",
       "      <td>0</td>\n",
       "      <td>0</td>\n",
       "      <td>1</td>\n",
       "      <td>0</td>\n",
       "      <td>1</td>\n",
       "      <td>0</td>\n",
       "    </tr>\n",
       "    <tr>\n",
       "      <th>1537</th>\n",
       "      <td>8</td>\n",
       "      <td>1141.0</td>\n",
       "      <td>2263</td>\n",
       "      <td>420.0</td>\n",
       "      <td>0</td>\n",
       "      <td>0</td>\n",
       "      <td>0</td>\n",
       "      <td>0</td>\n",
       "      <td>0</td>\n",
       "      <td>0</td>\n",
       "      <td>...</td>\n",
       "      <td>1</td>\n",
       "      <td>0</td>\n",
       "      <td>0</td>\n",
       "      <td>0</td>\n",
       "      <td>1</td>\n",
       "      <td>0</td>\n",
       "      <td>0</td>\n",
       "      <td>0</td>\n",
       "      <td>1</td>\n",
       "      <td>0</td>\n",
       "    </tr>\n",
       "  </tbody>\n",
       "</table>\n",
       "<p>5 rows × 45 columns</p>\n",
       "</div>"
      ],
      "text/plain": [
       "      overall_qual  total_bsmt_sf  gr_liv_area  garage_area  \\\n",
       "1304             6         1362.0         1362        504.0   \n",
       "774              4          572.0          572        200.0   \n",
       "1814             5         1214.0         1214        461.0   \n",
       "613              7          798.0         1954        431.0   \n",
       "1537             8         1141.0         2263        420.0   \n",
       "\n",
       "      neighborhood_Blueste  neighborhood_BrDale  neighborhood_BrkSide  \\\n",
       "1304                     0                    0                     0   \n",
       "774                      0                    0                     0   \n",
       "1814                     0                    0                     0   \n",
       "613                      0                    0                     0   \n",
       "1537                     0                    0                     0   \n",
       "\n",
       "      neighborhood_ClearCr  neighborhood_CollgCr  neighborhood_Crawfor  ...  \\\n",
       "1304                     0                     0                     0  ...   \n",
       "774                      0                     0                     0  ...   \n",
       "1814                     0                     0                     0  ...   \n",
       "613                      0                     0                     1  ...   \n",
       "1537                     0                     0                     0  ...   \n",
       "\n",
       "      foundation_PConc  foundation_Stone  foundation_Wood  bsmt_qual_Fa  \\\n",
       "1304                 0                 0                0             0   \n",
       "774                  0                 0                0             0   \n",
       "1814                 0                 0                0             0   \n",
       "613                  0                 0                0             0   \n",
       "1537                 1                 0                0             0   \n",
       "\n",
       "      bsmt_qual_Gd  bsmt_qual_Po  bsmt_qual_TA  kitchen_qual_Fa  \\\n",
       "1304             0             0             1                0   \n",
       "774              0             0             1                0   \n",
       "1814             0             0             1                0   \n",
       "613              0             0             1                0   \n",
       "1537             1             0             0                0   \n",
       "\n",
       "      kitchen_qual_Gd  kitchen_qual_TA  \n",
       "1304                0                1  \n",
       "774                 0                1  \n",
       "1814                0                1  \n",
       "613                 1                0  \n",
       "1537                1                0  \n",
       "\n",
       "[5 rows x 45 columns]"
      ]
     },
     "execution_count": 16,
     "metadata": {},
     "output_type": "execute_result"
    }
   ],
   "source": [
    "# Train/Test split\n",
    "X_train, X_test, y_train, y_test = train_test_split(X_dummy, y, train_size=.7, random_state=42)\n",
    "\n",
    "X_train.head()"
   ]
  },
  {
   "cell_type": "markdown",
   "id": "67dde641-6a69-438a-b83e-76c89dab3471",
   "metadata": {},
   "source": [
    "## MLR model 1.1: "
   ]
  },
  {
   "cell_type": "code",
   "execution_count": 17,
   "id": "af75f099-f39c-48b0-803b-1d64b16eb955",
   "metadata": {},
   "outputs": [],
   "source": [
    "# Instantiate model\n",
    "lr = LinearRegression()"
   ]
  },
  {
   "cell_type": "markdown",
   "id": "2b0b003d-abcb-49d4-97f3-da071e8d1041",
   "metadata": {},
   "source": [
    "Cross validation allows you to see how well your model performs on unseen data several times. This prevents a good or bad score due to randomness from occurring and gives you more evidence on whether your model is good."
   ]
  },
  {
   "cell_type": "code",
   "execution_count": 18,
   "id": "1e31d140-7bed-4116-b95d-4e1c8a35c7cd",
   "metadata": {},
   "outputs": [
    {
     "data": {
      "text/plain": [
       "0.8806541974866479"
      ]
     },
     "execution_count": 18,
     "metadata": {},
     "output_type": "execute_result"
    }
   ],
   "source": [
    "# Training Cross Val\n",
    "cross_val_score(lr, X_train, y_train).mean()"
   ]
  },
  {
   "cell_type": "code",
   "execution_count": 19,
   "id": "1cf3bc3e-eddc-4814-9969-3300c9fee71f",
   "metadata": {},
   "outputs": [
    {
     "data": {
      "text/plain": [
       "0.8441812706968432"
      ]
     },
     "execution_count": 19,
     "metadata": {},
     "output_type": "execute_result"
    }
   ],
   "source": [
    "# Testing Cross Val\n",
    "cross_val_score(lr, X_test, y_test).mean()"
   ]
  },
  {
   "cell_type": "code",
   "execution_count": 20,
   "id": "298306d7-ab96-4578-ab39-84b9ceea76b2",
   "metadata": {},
   "outputs": [
    {
     "data": {
      "text/plain": [
       "LinearRegression()"
      ]
     },
     "execution_count": 20,
     "metadata": {},
     "output_type": "execute_result"
    }
   ],
   "source": [
    "# Fit the model on training data\n",
    "lr.fit(X_train, y_train)"
   ]
  },
  {
   "cell_type": "markdown",
   "id": "3716a06b-3e86-425d-919a-ed7dbe732ec2",
   "metadata": {},
   "source": [
    "R-squared metric is the percentage of the variability in the target that can be explained by the x-variables in the mode. (relative to a model with no predictors)"
   ]
  },
  {
   "cell_type": "code",
   "execution_count": 21,
   "id": "6dbfa5a4-78ec-4f89-bfe5-2dda1fa7601a",
   "metadata": {
    "tags": []
   },
   "outputs": [
    {
     "data": {
      "text/plain": [
       "0.8901453671638222"
      ]
     },
     "execution_count": 21,
     "metadata": {},
     "output_type": "execute_result"
    }
   ],
   "source": [
    "# Training score (R2)\n",
    "lr.score(X_train, y_train)"
   ]
  },
  {
   "cell_type": "code",
   "execution_count": 22,
   "id": "45de744f-037f-456c-a552-458d605f81ee",
   "metadata": {},
   "outputs": [
    {
     "data": {
      "text/plain": [
       "0.8654334420021894"
      ]
     },
     "execution_count": 22,
     "metadata": {},
     "output_type": "execute_result"
    }
   ],
   "source": [
    "# Testing score (R2)\n",
    "lr.score(X_test, y_test)"
   ]
  },
  {
   "cell_type": "markdown",
   "id": "3343d2cf-60b4-4874-b97a-17a0a841f5f4",
   "metadata": {},
   "source": [
    "We can observe that aproximately 88% of the variablity in \"saleprice\" can be explained by the predictive features of the model. Much better than the prior model."
   ]
  },
  {
   "cell_type": "markdown",
   "id": "b3899152-0e73-497c-867f-dc5a3843260b",
   "metadata": {},
   "source": [
    "#### Observing slight high-variance:\n",
    "Variance is a measure of how overfit or complicated your model is. In other words, variance is how bad your model is at generalizing to new data. High variance means a model does not perform well on new data and should be simplified. This can be achieved by using fewer features or regularizing."
   ]
  },
  {
   "cell_type": "markdown",
   "id": "66aac9e9-7e70-4573-bcc7-37a46c50d99e",
   "metadata": {},
   "source": [
    "#### Let's check the residuals! (errors)"
   ]
  },
  {
   "cell_type": "code",
   "execution_count": 23,
   "id": "b0590fea-47a4-4abd-88f7-80a8f01cf169",
   "metadata": {},
   "outputs": [],
   "source": [
    "# Let's create predictions!\n",
    "train_preds = lr.predict(X_train)\n",
    "test_preds = lr.predict(X_test)"
   ]
  },
  {
   "cell_type": "code",
   "execution_count": 24,
   "id": "82e43433-a09c-46c1-9f6d-eb2785e1339e",
   "metadata": {},
   "outputs": [
    {
     "data": {
      "text/plain": [
       "671533017.8441725"
      ]
     },
     "execution_count": 24,
     "metadata": {},
     "output_type": "execute_result"
    }
   ],
   "source": [
    "# MSE for training\n",
    "mean_squared_error(y_true=y_train, y_pred=train_preds)"
   ]
  },
  {
   "cell_type": "code",
   "execution_count": 25,
   "id": "c4ee6317-3943-4cf0-9b0c-d641ec7a4023",
   "metadata": {},
   "outputs": [
    {
     "data": {
      "text/plain": [
       "873728065.8350023"
      ]
     },
     "execution_count": 25,
     "metadata": {},
     "output_type": "execute_result"
    }
   ],
   "source": [
    "# MSE for testing\n",
    "mean_squared_error(y_true=y_test, y_pred=test_preds)"
   ]
  },
  {
   "cell_type": "markdown",
   "id": "ec37e131-5bd9-4a64-a43e-08f86037183b",
   "metadata": {},
   "source": [
    "Mean Squared Error (MSE): The average of the squared residuals. Represents average distance squared from the predicted value."
   ]
  },
  {
   "cell_type": "markdown",
   "id": "bc5e04ec-2b53-4466-9ac3-836a4e925a99",
   "metadata": {},
   "source": [
    "#### MSE metric can corroborate the slight high-variance due to having reduced MSE score on the training data than the testing one.\n",
    "(performs better on training than testing)"
   ]
  },
  {
   "cell_type": "code",
   "execution_count": 26,
   "id": "9a445dac-b997-4b7a-9f81-f37268d685f4",
   "metadata": {},
   "outputs": [
    {
     "data": {
      "text/plain": [
       "25913.95411441821"
      ]
     },
     "execution_count": 26,
     "metadata": {},
     "output_type": "execute_result"
    }
   ],
   "source": [
    "# RMSE for training\n",
    "mean_squared_error(y_true=y_train, y_pred=train_preds, squared=False)"
   ]
  },
  {
   "cell_type": "code",
   "execution_count": 27,
   "id": "a375bdb3-c7de-444d-8a1c-c28de0cf89a0",
   "metadata": {},
   "outputs": [
    {
     "data": {
      "text/plain": [
       "29558.891485219847"
      ]
     },
     "execution_count": 27,
     "metadata": {},
     "output_type": "execute_result"
    }
   ],
   "source": [
    "# RMSE for testing\n",
    "mean_squared_error(y_true=y_test, y_pred=test_preds, squared=False)"
   ]
  },
  {
   "cell_type": "markdown",
   "id": "5922901e-9611-45d7-b902-aba6a7e01e67",
   "metadata": {},
   "source": [
    "Root Mean Square Error (RMSE) is the standard deviation of the residuals (prediction errors)."
   ]
  },
  {
   "cell_type": "code",
   "execution_count": 28,
   "id": "eb666fb4-a747-47b9-8349-c900fb3f307d",
   "metadata": {
    "tags": []
   },
   "outputs": [
    {
     "data": {
      "text/plain": [
       "array([ 1.10170922e+04,  3.37306924e+01,  4.74522223e+01,  4.32121088e+01,\n",
       "       -1.27976571e+04, -1.01501377e+04,  4.05739701e+03,  3.07622572e+04,\n",
       "        8.21195857e+03,  2.38139027e+04, -6.66225098e+03,  1.23649302e+04,\n",
       "       -2.07863400e+04,  1.33207410e+05, -1.12661569e+04, -3.00133252e-10,\n",
       "       -6.79592986e+03,  7.49101677e+03,  2.19214638e+03, -9.45311120e+03,\n",
       "       -7.83824542e+02,  4.01190518e+04,  2.13696449e+04, -1.41247771e+04,\n",
       "       -4.66255036e+03,  7.08827714e+03, -1.42129543e+03,  7.83959709e+03,\n",
       "        3.85837081e+04,  1.10755438e+04,  1.88556349e+04, -4.55756614e+04,\n",
       "       -3.28648186e+04, -3.57969008e+04,  7.74502509e+03,  1.09178807e+04,\n",
       "        8.18188275e+03,  3.08192047e+04, -2.86906921e+04, -2.81860591e+04,\n",
       "        0.00000000e+00, -3.11303704e+04, -4.58550073e+04, -3.29039370e+04,\n",
       "       -4.11968531e+04])"
      ]
     },
     "execution_count": 28,
     "metadata": {},
     "output_type": "execute_result"
    }
   ],
   "source": [
    "# Look at the coefficients\n",
    "lr.coef_"
   ]
  },
  {
   "cell_type": "code",
   "execution_count": 29,
   "id": "b7e200e9-6853-46cc-81cd-d1ef277a9ba0",
   "metadata": {},
   "outputs": [],
   "source": [
    "features = X_dummy.columns"
   ]
  },
  {
   "cell_type": "code",
   "execution_count": 30,
   "id": "c51ec345-4dfa-4654-b726-1622219d8628",
   "metadata": {},
   "outputs": [
    {
     "data": {
      "text/plain": [
       "[('overall_qual', 11017.092242047122),\n",
       " ('total_bsmt_sf', 33.73069239465733),\n",
       " ('gr_liv_area', 47.45222232816152),\n",
       " ('garage_area', 43.2121088363184),\n",
       " ('neighborhood_Blueste', -12797.657075473875),\n",
       " ('neighborhood_BrDale', -10150.13767266246),\n",
       " ('neighborhood_BrkSide', 4057.397014641325),\n",
       " ('neighborhood_ClearCr', 30762.257183675687),\n",
       " ('neighborhood_CollgCr', 8211.958566631301),\n",
       " ('neighborhood_Crawfor', 23813.90266207358),\n",
       " ('neighborhood_Edwards', -6662.250980532123),\n",
       " ('neighborhood_Gilbert', 12364.930230366044),\n",
       " ('neighborhood_Greens', -20786.339995559418),\n",
       " ('neighborhood_GrnHill', 133207.40970203694),\n",
       " ('neighborhood_IDOTRR', -11266.156867841817),\n",
       " ('neighborhood_Landmrk', -3.001332515850663e-10),\n",
       " ('neighborhood_MeadowV', -6795.929864597372),\n",
       " ('neighborhood_Mitchel', 7491.016774522555),\n",
       " ('neighborhood_NAmes', 2192.1463813631954),\n",
       " ('neighborhood_NPkVill', -9453.111198327748),\n",
       " ('neighborhood_NWAmes', -783.8245417623837),\n",
       " ('neighborhood_NoRidge', 40119.051765173586),\n",
       " ('neighborhood_NridgHt', 21369.644882770575),\n",
       " ('neighborhood_OldTown', -14124.777061965902),\n",
       " ('neighborhood_SWISU', -4662.550364745131),\n",
       " ('neighborhood_Sawyer', 7088.2771384268235),\n",
       " ('neighborhood_SawyerW', -1421.2954337804788),\n",
       " ('neighborhood_Somerst', 7839.59708893409),\n",
       " ('neighborhood_StoneBr', 38583.70812322297),\n",
       " ('neighborhood_Timber', 11075.543790522004),\n",
       " ('neighborhood_Veenker', 18855.634909134125),\n",
       " ('exter_qual_Fa', -45575.661422344325),\n",
       " ('exter_qual_Gd', -32864.81863495312),\n",
       " ('exter_qual_TA', -35796.900820233735),\n",
       " ('foundation_CBlock', 7745.025087319389),\n",
       " ('foundation_PConc', 10917.880717870588),\n",
       " ('foundation_Stone', 8181.882754698352),\n",
       " ('foundation_Wood', 30819.20471940565),\n",
       " ('bsmt_qual_Fa', -28690.69213976143),\n",
       " ('bsmt_qual_Gd', -28186.059092382267),\n",
       " ('bsmt_qual_Po', 0.0),\n",
       " ('bsmt_qual_TA', -31130.370423583314),\n",
       " ('kitchen_qual_Fa', -45855.00726802548),\n",
       " ('kitchen_qual_Gd', -32903.937048820626),\n",
       " ('kitchen_qual_TA', -41196.85311437003)]"
      ]
     },
     "execution_count": 30,
     "metadata": {},
     "output_type": "execute_result"
    }
   ],
   "source": [
    "# Zip the coefficients and features together \n",
    "list(zip(features, lr.coef_))"
   ]
  },
  {
   "cell_type": "code",
   "execution_count": 31,
   "id": "8d3c3381-0727-43a1-8d5d-e47e36540cb2",
   "metadata": {},
   "outputs": [
    {
     "data": {
      "text/html": [
       "<div>\n",
       "<style scoped>\n",
       "    .dataframe tbody tr th:only-of-type {\n",
       "        vertical-align: middle;\n",
       "    }\n",
       "\n",
       "    .dataframe tbody tr th {\n",
       "        vertical-align: top;\n",
       "    }\n",
       "\n",
       "    .dataframe thead th {\n",
       "        text-align: right;\n",
       "    }\n",
       "</style>\n",
       "<table border=\"1\" class=\"dataframe\">\n",
       "  <thead>\n",
       "    <tr style=\"text-align: right;\">\n",
       "      <th></th>\n",
       "      <th>Feature</th>\n",
       "      <th>Coefficient</th>\n",
       "    </tr>\n",
       "  </thead>\n",
       "  <tbody>\n",
       "    <tr>\n",
       "      <th>13</th>\n",
       "      <td>neighborhood_GrnHill</td>\n",
       "      <td>1.332074e+05</td>\n",
       "    </tr>\n",
       "    <tr>\n",
       "      <th>21</th>\n",
       "      <td>neighborhood_NoRidge</td>\n",
       "      <td>4.011905e+04</td>\n",
       "    </tr>\n",
       "    <tr>\n",
       "      <th>28</th>\n",
       "      <td>neighborhood_StoneBr</td>\n",
       "      <td>3.858371e+04</td>\n",
       "    </tr>\n",
       "    <tr>\n",
       "      <th>37</th>\n",
       "      <td>foundation_Wood</td>\n",
       "      <td>3.081920e+04</td>\n",
       "    </tr>\n",
       "    <tr>\n",
       "      <th>7</th>\n",
       "      <td>neighborhood_ClearCr</td>\n",
       "      <td>3.076226e+04</td>\n",
       "    </tr>\n",
       "    <tr>\n",
       "      <th>9</th>\n",
       "      <td>neighborhood_Crawfor</td>\n",
       "      <td>2.381390e+04</td>\n",
       "    </tr>\n",
       "    <tr>\n",
       "      <th>22</th>\n",
       "      <td>neighborhood_NridgHt</td>\n",
       "      <td>2.136964e+04</td>\n",
       "    </tr>\n",
       "    <tr>\n",
       "      <th>30</th>\n",
       "      <td>neighborhood_Veenker</td>\n",
       "      <td>1.885563e+04</td>\n",
       "    </tr>\n",
       "    <tr>\n",
       "      <th>11</th>\n",
       "      <td>neighborhood_Gilbert</td>\n",
       "      <td>1.236493e+04</td>\n",
       "    </tr>\n",
       "    <tr>\n",
       "      <th>29</th>\n",
       "      <td>neighborhood_Timber</td>\n",
       "      <td>1.107554e+04</td>\n",
       "    </tr>\n",
       "    <tr>\n",
       "      <th>0</th>\n",
       "      <td>overall_qual</td>\n",
       "      <td>1.101709e+04</td>\n",
       "    </tr>\n",
       "    <tr>\n",
       "      <th>35</th>\n",
       "      <td>foundation_PConc</td>\n",
       "      <td>1.091788e+04</td>\n",
       "    </tr>\n",
       "    <tr>\n",
       "      <th>8</th>\n",
       "      <td>neighborhood_CollgCr</td>\n",
       "      <td>8.211959e+03</td>\n",
       "    </tr>\n",
       "    <tr>\n",
       "      <th>36</th>\n",
       "      <td>foundation_Stone</td>\n",
       "      <td>8.181883e+03</td>\n",
       "    </tr>\n",
       "    <tr>\n",
       "      <th>27</th>\n",
       "      <td>neighborhood_Somerst</td>\n",
       "      <td>7.839597e+03</td>\n",
       "    </tr>\n",
       "    <tr>\n",
       "      <th>34</th>\n",
       "      <td>foundation_CBlock</td>\n",
       "      <td>7.745025e+03</td>\n",
       "    </tr>\n",
       "    <tr>\n",
       "      <th>17</th>\n",
       "      <td>neighborhood_Mitchel</td>\n",
       "      <td>7.491017e+03</td>\n",
       "    </tr>\n",
       "    <tr>\n",
       "      <th>25</th>\n",
       "      <td>neighborhood_Sawyer</td>\n",
       "      <td>7.088277e+03</td>\n",
       "    </tr>\n",
       "    <tr>\n",
       "      <th>6</th>\n",
       "      <td>neighborhood_BrkSide</td>\n",
       "      <td>4.057397e+03</td>\n",
       "    </tr>\n",
       "    <tr>\n",
       "      <th>18</th>\n",
       "      <td>neighborhood_NAmes</td>\n",
       "      <td>2.192146e+03</td>\n",
       "    </tr>\n",
       "    <tr>\n",
       "      <th>2</th>\n",
       "      <td>gr_liv_area</td>\n",
       "      <td>4.745222e+01</td>\n",
       "    </tr>\n",
       "    <tr>\n",
       "      <th>3</th>\n",
       "      <td>garage_area</td>\n",
       "      <td>4.321211e+01</td>\n",
       "    </tr>\n",
       "    <tr>\n",
       "      <th>1</th>\n",
       "      <td>total_bsmt_sf</td>\n",
       "      <td>3.373069e+01</td>\n",
       "    </tr>\n",
       "    <tr>\n",
       "      <th>40</th>\n",
       "      <td>bsmt_qual_Po</td>\n",
       "      <td>0.000000e+00</td>\n",
       "    </tr>\n",
       "    <tr>\n",
       "      <th>15</th>\n",
       "      <td>neighborhood_Landmrk</td>\n",
       "      <td>-3.001333e-10</td>\n",
       "    </tr>\n",
       "    <tr>\n",
       "      <th>20</th>\n",
       "      <td>neighborhood_NWAmes</td>\n",
       "      <td>-7.838245e+02</td>\n",
       "    </tr>\n",
       "    <tr>\n",
       "      <th>26</th>\n",
       "      <td>neighborhood_SawyerW</td>\n",
       "      <td>-1.421295e+03</td>\n",
       "    </tr>\n",
       "    <tr>\n",
       "      <th>24</th>\n",
       "      <td>neighborhood_SWISU</td>\n",
       "      <td>-4.662550e+03</td>\n",
       "    </tr>\n",
       "    <tr>\n",
       "      <th>10</th>\n",
       "      <td>neighborhood_Edwards</td>\n",
       "      <td>-6.662251e+03</td>\n",
       "    </tr>\n",
       "    <tr>\n",
       "      <th>16</th>\n",
       "      <td>neighborhood_MeadowV</td>\n",
       "      <td>-6.795930e+03</td>\n",
       "    </tr>\n",
       "    <tr>\n",
       "      <th>19</th>\n",
       "      <td>neighborhood_NPkVill</td>\n",
       "      <td>-9.453111e+03</td>\n",
       "    </tr>\n",
       "    <tr>\n",
       "      <th>5</th>\n",
       "      <td>neighborhood_BrDale</td>\n",
       "      <td>-1.015014e+04</td>\n",
       "    </tr>\n",
       "    <tr>\n",
       "      <th>14</th>\n",
       "      <td>neighborhood_IDOTRR</td>\n",
       "      <td>-1.126616e+04</td>\n",
       "    </tr>\n",
       "    <tr>\n",
       "      <th>4</th>\n",
       "      <td>neighborhood_Blueste</td>\n",
       "      <td>-1.279766e+04</td>\n",
       "    </tr>\n",
       "    <tr>\n",
       "      <th>23</th>\n",
       "      <td>neighborhood_OldTown</td>\n",
       "      <td>-1.412478e+04</td>\n",
       "    </tr>\n",
       "    <tr>\n",
       "      <th>12</th>\n",
       "      <td>neighborhood_Greens</td>\n",
       "      <td>-2.078634e+04</td>\n",
       "    </tr>\n",
       "    <tr>\n",
       "      <th>39</th>\n",
       "      <td>bsmt_qual_Gd</td>\n",
       "      <td>-2.818606e+04</td>\n",
       "    </tr>\n",
       "    <tr>\n",
       "      <th>38</th>\n",
       "      <td>bsmt_qual_Fa</td>\n",
       "      <td>-2.869069e+04</td>\n",
       "    </tr>\n",
       "    <tr>\n",
       "      <th>41</th>\n",
       "      <td>bsmt_qual_TA</td>\n",
       "      <td>-3.113037e+04</td>\n",
       "    </tr>\n",
       "    <tr>\n",
       "      <th>32</th>\n",
       "      <td>exter_qual_Gd</td>\n",
       "      <td>-3.286482e+04</td>\n",
       "    </tr>\n",
       "    <tr>\n",
       "      <th>43</th>\n",
       "      <td>kitchen_qual_Gd</td>\n",
       "      <td>-3.290394e+04</td>\n",
       "    </tr>\n",
       "    <tr>\n",
       "      <th>33</th>\n",
       "      <td>exter_qual_TA</td>\n",
       "      <td>-3.579690e+04</td>\n",
       "    </tr>\n",
       "    <tr>\n",
       "      <th>44</th>\n",
       "      <td>kitchen_qual_TA</td>\n",
       "      <td>-4.119685e+04</td>\n",
       "    </tr>\n",
       "    <tr>\n",
       "      <th>31</th>\n",
       "      <td>exter_qual_Fa</td>\n",
       "      <td>-4.557566e+04</td>\n",
       "    </tr>\n",
       "    <tr>\n",
       "      <th>42</th>\n",
       "      <td>kitchen_qual_Fa</td>\n",
       "      <td>-4.585501e+04</td>\n",
       "    </tr>\n",
       "  </tbody>\n",
       "</table>\n",
       "</div>"
      ],
      "text/plain": [
       "                 Feature   Coefficient\n",
       "13  neighborhood_GrnHill  1.332074e+05\n",
       "21  neighborhood_NoRidge  4.011905e+04\n",
       "28  neighborhood_StoneBr  3.858371e+04\n",
       "37       foundation_Wood  3.081920e+04\n",
       "7   neighborhood_ClearCr  3.076226e+04\n",
       "9   neighborhood_Crawfor  2.381390e+04\n",
       "22  neighborhood_NridgHt  2.136964e+04\n",
       "30  neighborhood_Veenker  1.885563e+04\n",
       "11  neighborhood_Gilbert  1.236493e+04\n",
       "29   neighborhood_Timber  1.107554e+04\n",
       "0           overall_qual  1.101709e+04\n",
       "35      foundation_PConc  1.091788e+04\n",
       "8   neighborhood_CollgCr  8.211959e+03\n",
       "36      foundation_Stone  8.181883e+03\n",
       "27  neighborhood_Somerst  7.839597e+03\n",
       "34     foundation_CBlock  7.745025e+03\n",
       "17  neighborhood_Mitchel  7.491017e+03\n",
       "25   neighborhood_Sawyer  7.088277e+03\n",
       "6   neighborhood_BrkSide  4.057397e+03\n",
       "18    neighborhood_NAmes  2.192146e+03\n",
       "2            gr_liv_area  4.745222e+01\n",
       "3            garage_area  4.321211e+01\n",
       "1          total_bsmt_sf  3.373069e+01\n",
       "40          bsmt_qual_Po  0.000000e+00\n",
       "15  neighborhood_Landmrk -3.001333e-10\n",
       "20   neighborhood_NWAmes -7.838245e+02\n",
       "26  neighborhood_SawyerW -1.421295e+03\n",
       "24    neighborhood_SWISU -4.662550e+03\n",
       "10  neighborhood_Edwards -6.662251e+03\n",
       "16  neighborhood_MeadowV -6.795930e+03\n",
       "19  neighborhood_NPkVill -9.453111e+03\n",
       "5    neighborhood_BrDale -1.015014e+04\n",
       "14   neighborhood_IDOTRR -1.126616e+04\n",
       "4   neighborhood_Blueste -1.279766e+04\n",
       "23  neighborhood_OldTown -1.412478e+04\n",
       "12   neighborhood_Greens -2.078634e+04\n",
       "39          bsmt_qual_Gd -2.818606e+04\n",
       "38          bsmt_qual_Fa -2.869069e+04\n",
       "41          bsmt_qual_TA -3.113037e+04\n",
       "32         exter_qual_Gd -3.286482e+04\n",
       "43       kitchen_qual_Gd -3.290394e+04\n",
       "33         exter_qual_TA -3.579690e+04\n",
       "44       kitchen_qual_TA -4.119685e+04\n",
       "31         exter_qual_Fa -4.557566e+04\n",
       "42       kitchen_qual_Fa -4.585501e+04"
      ]
     },
     "execution_count": 31,
     "metadata": {},
     "output_type": "execute_result"
    }
   ],
   "source": [
    "# Put it into a dataframe\n",
    "pd.DataFrame(list(zip(features, lr.coef_)), columns=['Feature', 'Coefficient']).sort_values(by='Coefficient', ascending=False)"
   ]
  },
  {
   "cell_type": "markdown",
   "id": "ad051e5d-45f7-42de-8b14-d316e1eb6f54",
   "metadata": {},
   "source": [
    "### What do coeficient tell us?\n",
    "-Holding all else constant, for every one unit increase in \"overall_qual\", we expect \"saleprice\" to increase by $1.101709e+04.\n",
    "\n",
    "-Holding all else constant, for every one unit increase in \"kitchen_qual_Fa\", we expect \"saleprice\" to decrease by $4.585501e+04 relative to \"kitchen_qual_EX\"."
   ]
  },
  {
   "cell_type": "markdown",
   "id": "b7265044-de05-422f-b8b4-fe7d7a8ad895",
   "metadata": {},
   "source": [
    "### Linear regression model assumptions:\n",
    "\n",
    "- Linearity: $Y$ must have an approximately linear relationship with each $X$ variable.\n",
    "- Independence of Errors: Errors (residuals) $\\varepsilon_i$ and $\\varepsilon_j$ must be independent of one another for any $i \\ne j$.\n",
    "- Normality: The errors (residuals) follow a Normal distribution with mean 0.\n",
    "- Equality of Variances: The errors (residuals) should have a roughly consistent pattern, regardless of the value of the $X$ variables. (There should be no discernable relationship between the $X$ variable and the residuals.)\n",
    "- Independence of Predictors (almost always violated at least a little!): The independent variables $X_i$ and $X_j$ must be independent of one another for any $i \\ne j$."
   ]
  },
  {
   "cell_type": "code",
   "execution_count": 32,
   "id": "682d934d-3d08-4470-b756-73b4bc375e44",
   "metadata": {},
   "outputs": [],
   "source": [
    "# turning X_train np.array into dataframe to run plots\n",
    "X_train_df = pd.DataFrame(X_train, columns = X_train.columns)\n",
    "\n",
    "#code from https://stackoverflow.com/questions/35723472/how-to-use-sklearn-fit-transform-with-pandas-and-return-dataframe-instead-of-num"
   ]
  },
  {
   "cell_type": "code",
   "execution_count": 33,
   "id": "e7d22981-421a-49ae-9825-9acb63f165bb",
   "metadata": {
    "tags": []
   },
   "outputs": [
    {
     "data": {
      "image/png": "[encoded data removed]",
      "text/plain": [
       "<Figure size 900x900 with 30 Axes>"
      ]
     },
     "metadata": {
      "needs_background": "light"
     },
     "output_type": "display_data"
    }
   ],
   "source": [
    "# Linearity:\n",
    "sns.pairplot(pd.merge(X_train_df[['overall_qual', 'total_bsmt_sf', 'gr_liv_area', 'garage_area']], y_train, left_index = True, right_index = True));"
   ]
  },
  {
   "cell_type": "code",
   "execution_count": 34,
   "id": "61730e74-732c-42db-a5ea-45885b3a1cf1",
   "metadata": {},
   "outputs": [],
   "source": [
    "# Independence of Errors:\n",
    "# True by assumption"
   ]
  },
  {
   "cell_type": "code",
   "execution_count": 35,
   "id": "b8572e19-cf66-4c34-a3d0-0b32d3ea1eba",
   "metadata": {},
   "outputs": [
    {
     "data": {
      "text/plain": [
       "(591,)"
      ]
     },
     "execution_count": 35,
     "metadata": {},
     "output_type": "execute_result"
    }
   ],
   "source": [
    "test_preds.shape"
   ]
  },
  {
   "cell_type": "code",
   "execution_count": 36,
   "id": "957c284e-7095-4469-9b7d-034993a7e249",
   "metadata": {},
   "outputs": [
    {
     "data": {
      "text/plain": [
       "(1376,)"
      ]
     },
     "execution_count": 36,
     "metadata": {},
     "output_type": "execute_result"
    }
   ],
   "source": [
    "train_preds.shape"
   ]
  },
  {
   "cell_type": "code",
   "execution_count": 37,
   "id": "3d73c0ab-29ad-4a3c-abe3-b272a902d2d6",
   "metadata": {},
   "outputs": [
    {
     "data": {
      "text/plain": [
       "(1376,)"
      ]
     },
     "execution_count": 37,
     "metadata": {},
     "output_type": "execute_result"
    }
   ],
   "source": [
    "y_train.shape"
   ]
  },
  {
   "cell_type": "code",
   "execution_count": 38,
   "id": "d3b12d54-aec6-4372-a629-645d6e46ea0c",
   "metadata": {},
   "outputs": [
    {
     "data": {
      "image/png": "[encoded data removed]",
      "text/plain": [
       "<Figure size 432x288 with 1 Axes>"
      ]
     },
     "metadata": {
      "needs_background": "light"
     },
     "output_type": "display_data"
    }
   ],
   "source": [
    "# Normality:\n",
    "resids = y_train - train_preds \n",
    "plt.hist(resids, bins=50);"
   ]
  },
  {
   "cell_type": "code",
   "execution_count": 39,
   "id": "44fe5483-b981-465f-ae68-2da9f28ce0cc",
   "metadata": {},
   "outputs": [
    {
     "data": {
      "image/png": "[encoded data removed]",
      "text/plain": [
       "<Figure size 432x288 with 1 Axes>"
      ]
     },
     "metadata": {
      "needs_background": "light"
     },
     "output_type": "display_data"
    }
   ],
   "source": [
    "# Equality of Variances:\n",
    "plt.scatter(train_preds, resids, s=1)\n",
    "plt.axhline(0, color=\"orange\");"
   ]
  },
  {
   "cell_type": "code",
   "execution_count": 40,
   "id": "2f082d74-67d6-40e9-b870-72e593ff4f7f",
   "metadata": {},
   "outputs": [
    {
     "data": {
      "image/png": "[encoded data removed]",
      "text/plain": [
       "<Figure size 432x288 with 1 Axes>"
      ]
     },
     "metadata": {
      "needs_background": "light"
     },
     "output_type": "display_data"
    }
   ],
   "source": [
    "# Lets try a log transformation to see if the hint of heteroscedasitity disappears\n",
    "plt.scatter(np.log(train_preds), resids, s=1)\n",
    "plt.axhline(0, color=\"orange\");"
   ]
  },
  {
   "cell_type": "markdown",
   "id": "ff28f3f7-338a-4b01-a59c-29d92fb53feb",
   "metadata": {},
   "source": [
    "Log transformation makes heteroscedasitity worse!"
   ]
  },
  {
   "cell_type": "code",
   "execution_count": 41,
   "id": "0c876025-246b-4fb3-b642-bd3d4aa5fd4b",
   "metadata": {},
   "outputs": [
    {
     "data": {
      "text/html": [
       "<div>\n",
       "<style scoped>\n",
       "    .dataframe tbody tr th:only-of-type {\n",
       "        vertical-align: middle;\n",
       "    }\n",
       "\n",
       "    .dataframe tbody tr th {\n",
       "        vertical-align: top;\n",
       "    }\n",
       "\n",
       "    .dataframe thead th {\n",
       "        text-align: right;\n",
       "    }\n",
       "</style>\n",
       "<table border=\"1\" class=\"dataframe\">\n",
       "  <thead>\n",
       "    <tr style=\"text-align: right;\">\n",
       "      <th></th>\n",
       "      <th>overall_qual</th>\n",
       "      <th>total_bsmt_sf</th>\n",
       "      <th>gr_liv_area</th>\n",
       "      <th>garage_area</th>\n",
       "    </tr>\n",
       "  </thead>\n",
       "  <tbody>\n",
       "    <tr>\n",
       "      <th>overall_qual</th>\n",
       "      <td>1.000000</td>\n",
       "      <td>0.505618</td>\n",
       "      <td>0.578903</td>\n",
       "      <td>0.579099</td>\n",
       "    </tr>\n",
       "    <tr>\n",
       "      <th>total_bsmt_sf</th>\n",
       "      <td>0.505618</td>\n",
       "      <td>1.000000</td>\n",
       "      <td>0.433566</td>\n",
       "      <td>0.503592</td>\n",
       "    </tr>\n",
       "    <tr>\n",
       "      <th>gr_liv_area</th>\n",
       "      <td>0.578903</td>\n",
       "      <td>0.433566</td>\n",
       "      <td>1.000000</td>\n",
       "      <td>0.488163</td>\n",
       "    </tr>\n",
       "    <tr>\n",
       "      <th>garage_area</th>\n",
       "      <td>0.579099</td>\n",
       "      <td>0.503592</td>\n",
       "      <td>0.488163</td>\n",
       "      <td>1.000000</td>\n",
       "    </tr>\n",
       "  </tbody>\n",
       "</table>\n",
       "</div>"
      ],
      "text/plain": [
       "               overall_qual  total_bsmt_sf  gr_liv_area  garage_area\n",
       "overall_qual       1.000000       0.505618     0.578903     0.579099\n",
       "total_bsmt_sf      0.505618       1.000000     0.433566     0.503592\n",
       "gr_liv_area        0.578903       0.433566     1.000000     0.488163\n",
       "garage_area        0.579099       0.503592     0.488163     1.000000"
      ]
     },
     "execution_count": 41,
     "metadata": {},
     "output_type": "execute_result"
    }
   ],
   "source": [
    "# Independence of Predictors:\n",
    "X_train_df[['overall_qual', 'total_bsmt_sf', 'gr_liv_area', 'garage_area']].corr()"
   ]
  },
  {
   "cell_type": "markdown",
   "id": "3e1cc609-a976-4e78-b9f3-801688daeef5",
   "metadata": {},
   "source": [
    "Nothing seems too correlated to be removed."
   ]
  },
  {
   "cell_type": "code",
   "execution_count": 114,
   "id": "df1f6703-471c-4ab9-a3fc-7ec9b6325939",
   "metadata": {},
   "outputs": [],
   "source": [
    "# code from: https://stackoverflow.com/questions/17778394/list-highest-correlation-pairs-from-a-large-correlation-matrix-in-pandas\n",
    "# List of highest correlation pairs:\n",
    "\n",
    "def get_redundant_pairs(df):\n",
    "    '''Get diagonal and lower triangular pairs of correlation matrix'''\n",
    "    pairs_to_drop = set()\n",
    "    cols = df.columns\n",
    "    for i in range(0, df.shape[1]):\n",
    "        for j in range(0, i+1):\n",
    "            pairs_to_drop.add((cols[i], cols[j]))\n",
    "    return pairs_to_drop\n",
    "\n",
    "def get_top_abs_correlations(df, n=5):\n",
    "    au_corr = df.corr().abs().unstack()\n",
    "    labels_to_drop = get_redundant_pairs(df)\n",
    "    au_corr = au_corr.drop(labels=labels_to_drop).sort_values(ascending=False)\n",
    "    return au_corr[0:n]"
   ]
  },
  {
   "cell_type": "code",
   "execution_count": 115,
   "id": "7ad900b3-6b65-4824-85d5-65d409bb08a4",
   "metadata": {},
   "outputs": [
    {
     "name": "stdout",
     "output_type": "stream",
     "text": [
      "Top Absolute Correlations\n",
      "exter_qual_Gd      exter_qual_TA       0.895753\n",
      "kitchen_qual_Gd    kitchen_qual_TA     0.839005\n",
      "bsmt_qual_Gd       bsmt_qual_TA        0.792790\n",
      "foundation_CBlock  foundation_PConc    0.791564\n",
      "exter_qual_TA      kitchen_qual_TA     0.697060\n",
      "dtype: float64\n"
     ]
    }
   ],
   "source": [
    "print(\"Top Absolute Correlations\")\n",
    "print(get_top_abs_correlations(X_train_df, 5))"
   ]
  },
  {
   "cell_type": "markdown",
   "id": "d9d1ac5b-52f6-49f8-9394-cf2180618de5",
   "metadata": {},
   "source": [
    "#### Lets drop \"exter_qual_TA\" to see if we can lower the variance of the model."
   ]
  },
  {
   "cell_type": "markdown",
   "id": "bf401768-d16d-498d-a871-2036f7962609",
   "metadata": {},
   "source": [
    "## MLR model 1.2: dropping \"exter_qual_TA\""
   ]
  },
  {
   "cell_type": "code",
   "execution_count": 116,
   "id": "898704e2-42c9-4c1e-87f6-dbe02c0fbe99",
   "metadata": {},
   "outputs": [
    {
     "data": {
      "text/plain": [
       "Index(['overall_qual', 'total_bsmt_sf', 'gr_liv_area', 'garage_area',\n",
       "       'neighborhood_Blueste', 'neighborhood_BrDale', 'neighborhood_BrkSide',\n",
       "       'neighborhood_ClearCr', 'neighborhood_CollgCr', 'neighborhood_Crawfor',\n",
       "       'neighborhood_Edwards', 'neighborhood_Gilbert', 'neighborhood_Greens',\n",
       "       'neighborhood_GrnHill', 'neighborhood_IDOTRR', 'neighborhood_Landmrk',\n",
       "       'neighborhood_MeadowV', 'neighborhood_Mitchel', 'neighborhood_NAmes',\n",
       "       'neighborhood_NPkVill', 'neighborhood_NWAmes', 'neighborhood_NoRidge',\n",
       "       'neighborhood_NridgHt', 'neighborhood_OldTown', 'neighborhood_SWISU',\n",
       "       'neighborhood_Sawyer', 'neighborhood_SawyerW', 'neighborhood_Somerst',\n",
       "       'neighborhood_StoneBr', 'neighborhood_Timber', 'neighborhood_Veenker',\n",
       "       'exter_qual_Fa', 'exter_qual_Gd', 'exter_qual_TA', 'foundation_CBlock',\n",
       "       'foundation_PConc', 'foundation_Stone', 'foundation_Wood',\n",
       "       'bsmt_qual_Fa', 'bsmt_qual_Gd', 'bsmt_qual_Po', 'bsmt_qual_TA',\n",
       "       'kitchen_qual_Fa', 'kitchen_qual_Gd', 'kitchen_qual_TA'],\n",
       "      dtype='object')"
      ]
     },
     "execution_count": 116,
     "metadata": {},
     "output_type": "execute_result"
    }
   ],
   "source": [
    "X_train.columns"
   ]
  },
  {
   "cell_type": "code",
   "execution_count": 117,
   "id": "7ff8685d-9695-4e40-a2f4-466f07dda219",
   "metadata": {},
   "outputs": [],
   "source": [
    "X_train_2 = X_train.drop(columns = ['exter_qual_TA'])"
   ]
  },
  {
   "cell_type": "code",
   "execution_count": 118,
   "id": "fff78032-1459-4686-aecf-f0dae3501173",
   "metadata": {},
   "outputs": [
    {
     "data": {
      "text/html": [
       "<div>\n",
       "<style scoped>\n",
       "    .dataframe tbody tr th:only-of-type {\n",
       "        vertical-align: middle;\n",
       "    }\n",
       "\n",
       "    .dataframe tbody tr th {\n",
       "        vertical-align: top;\n",
       "    }\n",
       "\n",
       "    .dataframe thead th {\n",
       "        text-align: right;\n",
       "    }\n",
       "</style>\n",
       "<table border=\"1\" class=\"dataframe\">\n",
       "  <thead>\n",
       "    <tr style=\"text-align: right;\">\n",
       "      <th></th>\n",
       "      <th>overall_qual</th>\n",
       "      <th>total_bsmt_sf</th>\n",
       "      <th>gr_liv_area</th>\n",
       "      <th>garage_area</th>\n",
       "      <th>neighborhood_Blueste</th>\n",
       "      <th>neighborhood_BrDale</th>\n",
       "      <th>neighborhood_BrkSide</th>\n",
       "      <th>neighborhood_ClearCr</th>\n",
       "      <th>neighborhood_CollgCr</th>\n",
       "      <th>neighborhood_Crawfor</th>\n",
       "      <th>...</th>\n",
       "      <th>foundation_PConc</th>\n",
       "      <th>foundation_Stone</th>\n",
       "      <th>foundation_Wood</th>\n",
       "      <th>bsmt_qual_Fa</th>\n",
       "      <th>bsmt_qual_Gd</th>\n",
       "      <th>bsmt_qual_Po</th>\n",
       "      <th>bsmt_qual_TA</th>\n",
       "      <th>kitchen_qual_Fa</th>\n",
       "      <th>kitchen_qual_Gd</th>\n",
       "      <th>kitchen_qual_TA</th>\n",
       "    </tr>\n",
       "  </thead>\n",
       "  <tbody>\n",
       "    <tr>\n",
       "      <th>1304</th>\n",
       "      <td>6</td>\n",
       "      <td>1362.0</td>\n",
       "      <td>1362</td>\n",
       "      <td>504.0</td>\n",
       "      <td>0</td>\n",
       "      <td>0</td>\n",
       "      <td>0</td>\n",
       "      <td>0</td>\n",
       "      <td>0</td>\n",
       "      <td>0</td>\n",
       "      <td>...</td>\n",
       "      <td>0</td>\n",
       "      <td>0</td>\n",
       "      <td>0</td>\n",
       "      <td>0</td>\n",
       "      <td>0</td>\n",
       "      <td>0</td>\n",
       "      <td>1</td>\n",
       "      <td>0</td>\n",
       "      <td>0</td>\n",
       "      <td>1</td>\n",
       "    </tr>\n",
       "    <tr>\n",
       "      <th>774</th>\n",
       "      <td>4</td>\n",
       "      <td>572.0</td>\n",
       "      <td>572</td>\n",
       "      <td>200.0</td>\n",
       "      <td>0</td>\n",
       "      <td>0</td>\n",
       "      <td>0</td>\n",
       "      <td>0</td>\n",
       "      <td>0</td>\n",
       "      <td>0</td>\n",
       "      <td>...</td>\n",
       "      <td>0</td>\n",
       "      <td>0</td>\n",
       "      <td>0</td>\n",
       "      <td>0</td>\n",
       "      <td>0</td>\n",
       "      <td>0</td>\n",
       "      <td>1</td>\n",
       "      <td>0</td>\n",
       "      <td>0</td>\n",
       "      <td>1</td>\n",
       "    </tr>\n",
       "    <tr>\n",
       "      <th>1814</th>\n",
       "      <td>5</td>\n",
       "      <td>1214.0</td>\n",
       "      <td>1214</td>\n",
       "      <td>461.0</td>\n",
       "      <td>0</td>\n",
       "      <td>0</td>\n",
       "      <td>0</td>\n",
       "      <td>0</td>\n",
       "      <td>0</td>\n",
       "      <td>0</td>\n",
       "      <td>...</td>\n",
       "      <td>0</td>\n",
       "      <td>0</td>\n",
       "      <td>0</td>\n",
       "      <td>0</td>\n",
       "      <td>0</td>\n",
       "      <td>0</td>\n",
       "      <td>1</td>\n",
       "      <td>0</td>\n",
       "      <td>0</td>\n",
       "      <td>1</td>\n",
       "    </tr>\n",
       "    <tr>\n",
       "      <th>613</th>\n",
       "      <td>7</td>\n",
       "      <td>798.0</td>\n",
       "      <td>1954</td>\n",
       "      <td>431.0</td>\n",
       "      <td>0</td>\n",
       "      <td>0</td>\n",
       "      <td>0</td>\n",
       "      <td>0</td>\n",
       "      <td>0</td>\n",
       "      <td>1</td>\n",
       "      <td>...</td>\n",
       "      <td>0</td>\n",
       "      <td>0</td>\n",
       "      <td>0</td>\n",
       "      <td>0</td>\n",
       "      <td>0</td>\n",
       "      <td>0</td>\n",
       "      <td>1</td>\n",
       "      <td>0</td>\n",
       "      <td>1</td>\n",
       "      <td>0</td>\n",
       "    </tr>\n",
       "    <tr>\n",
       "      <th>1537</th>\n",
       "      <td>8</td>\n",
       "      <td>1141.0</td>\n",
       "      <td>2263</td>\n",
       "      <td>420.0</td>\n",
       "      <td>0</td>\n",
       "      <td>0</td>\n",
       "      <td>0</td>\n",
       "      <td>0</td>\n",
       "      <td>0</td>\n",
       "      <td>0</td>\n",
       "      <td>...</td>\n",
       "      <td>1</td>\n",
       "      <td>0</td>\n",
       "      <td>0</td>\n",
       "      <td>0</td>\n",
       "      <td>1</td>\n",
       "      <td>0</td>\n",
       "      <td>0</td>\n",
       "      <td>0</td>\n",
       "      <td>1</td>\n",
       "      <td>0</td>\n",
       "    </tr>\n",
       "  </tbody>\n",
       "</table>\n",
       "<p>5 rows × 44 columns</p>\n",
       "</div>"
      ],
      "text/plain": [
       "      overall_qual  total_bsmt_sf  gr_liv_area  garage_area  \\\n",
       "1304             6         1362.0         1362        504.0   \n",
       "774              4          572.0          572        200.0   \n",
       "1814             5         1214.0         1214        461.0   \n",
       "613              7          798.0         1954        431.0   \n",
       "1537             8         1141.0         2263        420.0   \n",
       "\n",
       "      neighborhood_Blueste  neighborhood_BrDale  neighborhood_BrkSide  \\\n",
       "1304                     0                    0                     0   \n",
       "774                      0                    0                     0   \n",
       "1814                     0                    0                     0   \n",
       "613                      0                    0                     0   \n",
       "1537                     0                    0                     0   \n",
       "\n",
       "      neighborhood_ClearCr  neighborhood_CollgCr  neighborhood_Crawfor  ...  \\\n",
       "1304                     0                     0                     0  ...   \n",
       "774                      0                     0                     0  ...   \n",
       "1814                     0                     0                     0  ...   \n",
       "613                      0                     0                     1  ...   \n",
       "1537                     0                     0                     0  ...   \n",
       "\n",
       "      foundation_PConc  foundation_Stone  foundation_Wood  bsmt_qual_Fa  \\\n",
       "1304                 0                 0                0             0   \n",
       "774                  0                 0                0             0   \n",
       "1814                 0                 0                0             0   \n",
       "613                  0                 0                0             0   \n",
       "1537                 1                 0                0             0   \n",
       "\n",
       "      bsmt_qual_Gd  bsmt_qual_Po  bsmt_qual_TA  kitchen_qual_Fa  \\\n",
       "1304             0             0             1                0   \n",
       "774              0             0             1                0   \n",
       "1814             0             0             1                0   \n",
       "613              0             0             1                0   \n",
       "1537             1             0             0                0   \n",
       "\n",
       "      kitchen_qual_Gd  kitchen_qual_TA  \n",
       "1304                0                1  \n",
       "774                 0                1  \n",
       "1814                0                1  \n",
       "613                 1                0  \n",
       "1537                1                0  \n",
       "\n",
       "[5 rows x 44 columns]"
      ]
     },
     "execution_count": 118,
     "metadata": {},
     "output_type": "execute_result"
    }
   ],
   "source": [
    "X_train_2.head()"
   ]
  },
  {
   "cell_type": "code",
   "execution_count": 119,
   "id": "a3ad32cc-5e91-4b70-af2d-feb62ae095d5",
   "metadata": {},
   "outputs": [
    {
     "data": {
      "text/plain": [
       "(1376, 45)"
      ]
     },
     "execution_count": 119,
     "metadata": {},
     "output_type": "execute_result"
    }
   ],
   "source": [
    "X_train.shape"
   ]
  },
  {
   "cell_type": "code",
   "execution_count": 120,
   "id": "8c1f5b51-d843-4150-bca3-06283e0e0f7f",
   "metadata": {},
   "outputs": [
    {
     "data": {
      "text/plain": [
       "(1376, 44)"
      ]
     },
     "execution_count": 120,
     "metadata": {},
     "output_type": "execute_result"
    }
   ],
   "source": [
    "X_train_2.shape"
   ]
  },
  {
   "cell_type": "code",
   "execution_count": 121,
   "id": "91a49fb8-0192-409b-ae2a-a96bd4e16915",
   "metadata": {},
   "outputs": [],
   "source": [
    "X_test_2 = X_test.drop(columns = ['exter_qual_TA'])"
   ]
  },
  {
   "cell_type": "code",
   "execution_count": 122,
   "id": "1828028a-f07b-4a95-8db0-51e798ad4db9",
   "metadata": {},
   "outputs": [
    {
     "data": {
      "text/plain": [
       "LinearRegression()"
      ]
     },
     "execution_count": 122,
     "metadata": {},
     "output_type": "execute_result"
    }
   ],
   "source": [
    "# Fit the model on training data\n",
    "lr.fit(X_train_2, y_train)"
   ]
  },
  {
   "cell_type": "code",
   "execution_count": 123,
   "id": "d0a65b91-bacb-4775-a57b-0c7ddeb32695",
   "metadata": {},
   "outputs": [
    {
     "data": {
      "text/plain": [
       "0.8869275365859806"
      ]
     },
     "execution_count": 123,
     "metadata": {},
     "output_type": "execute_result"
    }
   ],
   "source": [
    "# Training score (R2)\n",
    "lr.score(X_train_2, y_train)"
   ]
  },
  {
   "cell_type": "code",
   "execution_count": 124,
   "id": "54a34a11-6873-4d2b-b0a4-34ae14a30cc9",
   "metadata": {
    "tags": []
   },
   "outputs": [
    {
     "data": {
      "text/plain": [
       "0.8586125581684878"
      ]
     },
     "execution_count": 124,
     "metadata": {},
     "output_type": "execute_result"
    }
   ],
   "source": [
    "# Testing score (R2)\n",
    "lr.score(X_test_2, y_test)"
   ]
  },
  {
   "cell_type": "code",
   "execution_count": 125,
   "id": "bdcbe5bb-918d-4c2f-b4c4-4a72f4230b8b",
   "metadata": {},
   "outputs": [
    {
     "data": {
      "text/plain": [
       "LinearRegression()"
      ]
     },
     "execution_count": 125,
     "metadata": {},
     "output_type": "execute_result"
    }
   ],
   "source": [
    "lr.fit(X_train, y_train) #Fit as before (MLR model 1.1)"
   ]
  },
  {
   "cell_type": "markdown",
   "id": "d2b41479-58bf-4938-a09e-e297576ab19f",
   "metadata": {},
   "source": [
    "#### Doesn't seem to help fix high variance and accuracy decreases! We will stick with MLR model 1.1."
   ]
  },
  {
   "cell_type": "markdown",
   "id": "4d8c16d2-8f46-4c5f-a7b2-77c925fb7a83",
   "metadata": {},
   "source": [
    "## Ridge model:"
   ]
  },
  {
   "cell_type": "code",
   "execution_count": 44,
   "id": "4cc3f864-793d-4ab5-bb65-c1187d37dbd6",
   "metadata": {
    "tags": []
   },
   "outputs": [],
   "source": [
    "# Ridge regressor lives here:\n",
    "from sklearn.linear_model import Ridge, RidgeCV"
   ]
  },
  {
   "cell_type": "markdown",
   "id": "7ae72dc3-e2e7-416d-afa2-0b8e6117b722",
   "metadata": {},
   "source": [
    "Standarizing removes the mean and scales each feature/variable to unit variance. This operation is performed feature-wise in an independent way. StandardScaler can be influenced by outliers (if they exist in the dataset) since it involves the estimation of the empirical mean and standard deviation of each feature.\n",
    "\n",
    "\"fit_transform()\" is used on the training data so that we can scale the training data and also learn the scaling parameters of that data. These learned parameters are then used to scale our test data."
   ]
  },
  {
   "cell_type": "code",
   "execution_count": 45,
   "id": "2a968da6-9eb0-4504-970f-476896ae27fa",
   "metadata": {},
   "outputs": [],
   "source": [
    "# Instantiate a StandardScaler\n",
    "sc = StandardScaler()\n",
    "Z_train = sc.fit_transform(X_train)\n",
    "Z_test = sc.transform(X_test)"
   ]
  },
  {
   "cell_type": "code",
   "execution_count": 46,
   "id": "e8c5f60e-5f2c-4c67-a549-95430f592d8b",
   "metadata": {},
   "outputs": [
    {
     "name": "stdout",
     "output_type": "stream",
     "text": [
      "Ridge Training R-Squared: 0.8900415462723615\n",
      "Ridge Testing R-Squared: 0.8655136022886891\n"
     ]
    }
   ],
   "source": [
    "#Instantiate\n",
    "ridge_model = Ridge(alpha=10)\n",
    "\n",
    "#Fit\n",
    "ridge_model.fit(Z_train, y_train)\n",
    "\n",
    "# Evaluate model using R2.\n",
    "print(f\"Ridge Training R-Squared: {ridge_model.score(Z_train, y_train)}\")\n",
    "print(f\"Ridge Testing R-Squared: {ridge_model.score(Z_test, y_test)}\")"
   ]
  },
  {
   "cell_type": "code",
   "execution_count": 47,
   "id": "83ce4d33-5ccb-48f4-9814-6ec82d7b396d",
   "metadata": {},
   "outputs": [
    {
     "data": {
      "text/plain": [
       "11.497569953977356"
      ]
     },
     "execution_count": 47,
     "metadata": {},
     "output_type": "execute_result"
    }
   ],
   "source": [
    "# optimal alpha:\n",
    "\n",
    "# Set up a list of ridge alphas to check.\n",
    "# np.logspace generates 100 values equally between 0 and 5,\n",
    "# then converts them to alphas between 10^0 and 10^5.\n",
    "r_alphas = np.logspace(0, 5, 100)\n",
    "\n",
    "# Cross-validate over our list of ridge alphas.\n",
    "ridge_cv = RidgeCV(alphas = r_alphas, scoring='r2', cv=5)\n",
    "\n",
    "# Fit model using best ridge alpha!\n",
    "ridge_cv.fit(Z_train, y_train)\n",
    "\n",
    "# Here is the optimal value of alpha\n",
    "ridge_cv.alpha_"
   ]
  },
  {
   "cell_type": "code",
   "execution_count": 48,
   "id": "18a82145-b907-45b2-a205-860bcf9fbc7a",
   "metadata": {},
   "outputs": [
    {
     "name": "stdout",
     "output_type": "stream",
     "text": [
      "Train score: 0.8900118912118964\n",
      "Test score: 0.8655181086181791\n"
     ]
    }
   ],
   "source": [
    "ridge_opt = Ridge(alpha=ridge_cv.alpha_)\n",
    "ridge_opt.fit(Z_train, y_train)\n",
    "\n",
    "print(f\"Train score: {ridge_opt.score(Z_train, y_train)}\")\n",
    "print(f\"Test score: {ridge_opt.score(Z_test, y_test)}\")"
   ]
  },
  {
   "cell_type": "code",
   "execution_count": 49,
   "id": "18817b15-d462-4b0a-8a6d-71dbdf925ec8",
   "metadata": {},
   "outputs": [
    {
     "data": {
      "text/plain": [
       "array([ 15680.38114297,  13301.6850277 ,  22311.69566128,   9312.47042282,\n",
       "         -836.97108317,  -1419.7133734 ,    151.38682507,   2879.83421946,\n",
       "         1532.79346237,   3814.94176849,  -2362.10552551,   2184.06961387,\n",
       "         -634.92429438,   3483.36251596,  -2347.14981432,      0.        ,\n",
       "        -1083.10665383,    872.34558594,   -329.95492609,  -1102.13100069,\n",
       "         -747.39068049,   5981.31138689,   4649.39652938,  -4709.38389752,\n",
       "         -883.37995846,    927.62593743,   -800.84897824,   1243.47976585,\n",
       "         5011.32268376,   1403.44775641,   1555.80535238,  -4091.01461751,\n",
       "       -14311.83901019, -16069.12866779,   3553.04537827,   5338.13675728,\n",
       "          401.50319807,    807.86514963,  -4628.36906999, -13566.31574071,\n",
       "            0.        , -14803.51594942,  -6499.96354005, -15213.4947026 ,\n",
       "       -19422.88584566])"
      ]
     },
     "execution_count": 49,
     "metadata": {},
     "output_type": "execute_result"
    }
   ],
   "source": [
    "ridge_opt.coef_"
   ]
  },
  {
   "cell_type": "markdown",
   "id": "535d6332-42b2-4b80-bc84-b4a1d1bf7f31",
   "metadata": {},
   "source": [
    "## Lasso model:"
   ]
  },
  {
   "cell_type": "code",
   "execution_count": 131,
   "id": "2f64289b-86a8-4a46-bf71-efe4db1c483c",
   "metadata": {},
   "outputs": [],
   "source": [
    "# Imports similar to Ridge\n",
    "from sklearn.linear_model import Lasso, LassoCV"
   ]
  },
  {
   "cell_type": "code",
   "execution_count": 132,
   "id": "c9987f05-7e55-449b-b05b-db45b5c84cc9",
   "metadata": {},
   "outputs": [],
   "source": [
    "# Set up a list of Lasso alphas to check.\n",
    "l_alphas = np.logspace(-3, 0, 100)\n",
    "\n",
    "# Cross-validate over our list of Lasso alphas.\n",
    "lasso_cv = LassoCV(alphas=l_alphas, cv=5, n_jobs=2, max_iter=50_000)\n",
    "\n",
    "# Fit model using best ridge alpha!\n",
    "lasso_cv.fit(Z_train, y_train);"
   ]
  },
  {
   "cell_type": "code",
   "execution_count": 133,
   "id": "f5389210-0699-4aed-9ac2-b53d0e3e49cc",
   "metadata": {},
   "outputs": [
    {
     "data": {
      "text/plain": [
       "1.0"
      ]
     },
     "execution_count": 133,
     "metadata": {},
     "output_type": "execute_result"
    }
   ],
   "source": [
    "# Here is the optimal value of alpha\n",
    "lasso_cv.alpha_"
   ]
  },
  {
   "cell_type": "code",
   "execution_count": 134,
   "id": "8a684db0-8f01-467d-8866-b718c88fe18e",
   "metadata": {},
   "outputs": [
    {
     "name": "stdout",
     "output_type": "stream",
     "text": [
      "LASSO Training R-Squared: 0.8901453126226011 \n",
      "LASSO Testing R-Squared: 0.865435439382612 \n"
     ]
    }
   ],
   "source": [
    "print(f\"LASSO Training R-Squared: {lasso_cv.score(Z_train, y_train)} \")\n",
    "print(f\"LASSO Testing R-Squared: {lasso_cv.score(Z_test, y_test)} \")"
   ]
  },
  {
   "cell_type": "code",
   "execution_count": 135,
   "id": "994efc41-4a33-4dfa-8880-e9b70cc8b5dd",
   "metadata": {},
   "outputs": [
    {
     "data": {
      "text/plain": [
       "LinearRegression()"
      ]
     },
     "execution_count": 135,
     "metadata": {},
     "output_type": "execute_result"
    }
   ],
   "source": [
    "lr.fit(X_train, y_train)"
   ]
  },
  {
   "cell_type": "code",
   "execution_count": 136,
   "id": "00876570-7e40-4259-ae59-d0b8e7c38141",
   "metadata": {},
   "outputs": [
    {
     "data": {
      "text/plain": [
       "(1376, 45)"
      ]
     },
     "execution_count": 136,
     "metadata": {},
     "output_type": "execute_result"
    }
   ],
   "source": [
    "X_train.shape"
   ]
  },
  {
   "cell_type": "code",
   "execution_count": 137,
   "id": "ed5276a9-1c18-4f46-8f0d-9c0bf432156b",
   "metadata": {},
   "outputs": [
    {
     "data": {
      "text/plain": [
       "(591, 45)"
      ]
     },
     "execution_count": 137,
     "metadata": {},
     "output_type": "execute_result"
    }
   ],
   "source": [
    "X_test.shape"
   ]
  },
  {
   "cell_type": "code",
   "execution_count": 138,
   "id": "a01935f1-dca4-4df5-9f4e-04e58fc7a494",
   "metadata": {
    "tags": []
   },
   "outputs": [
    {
     "name": "stdout",
     "output_type": "stream",
     "text": [
      "====== MLR =======\n",
      "0.8901453671638222\n",
      "0.8654334420021894\n",
      "\n",
      "===== Ridge ======\n",
      "0.8900118912118964\n",
      "0.8655181086181791\n",
      "\n",
      "===== Lasso ======\n",
      "0.8901453126226011\n",
      "0.865435439382612\n"
     ]
    }
   ],
   "source": [
    "print(\" MLR \".center(18, \"=\"))\n",
    "print(lr.score(X_train, y_train))\n",
    "print(lr.score(X_test, y_test))\n",
    "print()\n",
    "print(\" Ridge \".center(18, \"=\"))\n",
    "print(ridge_cv.score(Z_train, y_train))\n",
    "print(ridge_cv.score(Z_test, y_test))\n",
    "print()\n",
    "print(\" Lasso \".center(18, \"=\"))\n",
    "print(lasso_cv.score(Z_train, y_train))\n",
    "print(lasso_cv.score(Z_test, y_test))"
   ]
  },
  {
   "cell_type": "code",
   "execution_count": 139,
   "id": "62c4ffdb-dae2-46d8-8eac-e9513484e67d",
   "metadata": {},
   "outputs": [
    {
     "name": "stdout",
     "output_type": "stream",
     "text": [
      "MLR difference = 0.02471192516163956\n",
      "Ridge difference = 0.02449378259371726\n",
      "Lasso difference = 0.024709873239989077\n"
     ]
    }
   ],
   "source": [
    "print('MLR difference =', 0.8901453671638222 - 0.8654334420021826)\n",
    "print('Ridge difference =', 0.8900118912118964 - 0.8655181086181791)\n",
    "print('Lasso difference =', 0.8901453126226011 - 0.865435439382612)"
   ]
  },
  {
   "cell_type": "code",
   "execution_count": null,
   "id": "cef8795f-36ed-4369-9eef-aefc69ca31c1",
   "metadata": {},
   "outputs": [],
   "source": []
  },
  {
   "cell_type": "markdown",
   "id": "de96606f-8df1-41b5-b3ab-e1e6eabf627d",
   "metadata": {},
   "source": [
    "#### Ridge is the best model option because it's the most accurate regarding a train/test ratio."
   ]
  },
  {
   "cell_type": "markdown",
   "id": "98e06f9a-6e56-43ed-b7f4-2a40ab8a7f52",
   "metadata": {},
   "source": [
    "# Creating Kaggle test csv"
   ]
  },
  {
   "cell_type": "code",
   "execution_count": 140,
   "id": "9ae568a5-69a7-439e-8669-58e4d1842554",
   "metadata": {},
   "outputs": [],
   "source": [
    "kaggle_sub_data = pd.read_csv('../datasets/test.csv')"
   ]
  },
  {
   "cell_type": "code",
   "execution_count": 141,
   "id": "7e2feeb3-0fb7-4c31-9442-aff92cc76410",
   "metadata": {},
   "outputs": [],
   "source": [
    "#tenemos que cambiar las columns del kaggle\n",
    "kaggle_sub_data.columns = [column.replace(' ', '_').lower() for column in kaggle_sub_data.columns]"
   ]
  },
  {
   "cell_type": "code",
   "execution_count": 158,
   "id": "e852bae3-6b68-4209-b13b-289e2ee00cea",
   "metadata": {},
   "outputs": [],
   "source": [
    "kaggle_sub_d = kaggle_sub_data[['overall_qual', 'total_bsmt_sf', 'gr_liv_area', 'garage_area', 'neighborhood', 'exter_qual', 'foundation', 'bsmt_qual', 'kitchen_qual']].copy()"
   ]
  },
  {
   "cell_type": "code",
   "execution_count": 159,
   "id": "4dbded98-152b-4737-bdbd-b559d34102c3",
   "metadata": {
    "tags": []
   },
   "outputs": [],
   "source": [
    "kaggle_sub_data_dummy = pd.get_dummies(kaggle_sub_d, columns = ['neighborhood', 'exter_qual', 'foundation', 'bsmt_qual', 'kitchen_qual'], drop_first = True)"
   ]
  },
  {
   "cell_type": "code",
   "execution_count": 161,
   "id": "c72e1419-dcf6-4a40-bc7d-45c12983cb2f",
   "metadata": {},
   "outputs": [
    {
     "data": {
      "text/html": [
       "<div>\n",
       "<style scoped>\n",
       "    .dataframe tbody tr th:only-of-type {\n",
       "        vertical-align: middle;\n",
       "    }\n",
       "\n",
       "    .dataframe tbody tr th {\n",
       "        vertical-align: top;\n",
       "    }\n",
       "\n",
       "    .dataframe thead th {\n",
       "        text-align: right;\n",
       "    }\n",
       "</style>\n",
       "<table border=\"1\" class=\"dataframe\">\n",
       "  <thead>\n",
       "    <tr style=\"text-align: right;\">\n",
       "      <th></th>\n",
       "      <th>overall_qual</th>\n",
       "      <th>total_bsmt_sf</th>\n",
       "      <th>gr_liv_area</th>\n",
       "      <th>garage_area</th>\n",
       "      <th>neighborhood</th>\n",
       "      <th>exter_qual</th>\n",
       "      <th>foundation</th>\n",
       "      <th>bsmt_qual</th>\n",
       "      <th>kitchen_qual</th>\n",
       "    </tr>\n",
       "  </thead>\n",
       "  <tbody>\n",
       "    <tr>\n",
       "      <th>0</th>\n",
       "      <td>6</td>\n",
       "      <td>1020</td>\n",
       "      <td>1928</td>\n",
       "      <td>440</td>\n",
       "      <td>OldTown</td>\n",
       "      <td>TA</td>\n",
       "      <td>Stone</td>\n",
       "      <td>Fa</td>\n",
       "      <td>Fa</td>\n",
       "    </tr>\n",
       "    <tr>\n",
       "      <th>1</th>\n",
       "      <td>5</td>\n",
       "      <td>1967</td>\n",
       "      <td>1967</td>\n",
       "      <td>580</td>\n",
       "      <td>Sawyer</td>\n",
       "      <td>TA</td>\n",
       "      <td>CBlock</td>\n",
       "      <td>Gd</td>\n",
       "      <td>TA</td>\n",
       "    </tr>\n",
       "    <tr>\n",
       "      <th>2</th>\n",
       "      <td>7</td>\n",
       "      <td>654</td>\n",
       "      <td>1496</td>\n",
       "      <td>426</td>\n",
       "      <td>Gilbert</td>\n",
       "      <td>Gd</td>\n",
       "      <td>PConc</td>\n",
       "      <td>Gd</td>\n",
       "      <td>Gd</td>\n",
       "    </tr>\n",
       "    <tr>\n",
       "      <th>3</th>\n",
       "      <td>5</td>\n",
       "      <td>968</td>\n",
       "      <td>968</td>\n",
       "      <td>480</td>\n",
       "      <td>OldTown</td>\n",
       "      <td>Gd</td>\n",
       "      <td>CBlock</td>\n",
       "      <td>TA</td>\n",
       "      <td>TA</td>\n",
       "    </tr>\n",
       "    <tr>\n",
       "      <th>4</th>\n",
       "      <td>6</td>\n",
       "      <td>1394</td>\n",
       "      <td>1394</td>\n",
       "      <td>514</td>\n",
       "      <td>NAmes</td>\n",
       "      <td>TA</td>\n",
       "      <td>CBlock</td>\n",
       "      <td>Gd</td>\n",
       "      <td>TA</td>\n",
       "    </tr>\n",
       "    <tr>\n",
       "      <th>...</th>\n",
       "      <td>...</td>\n",
       "      <td>...</td>\n",
       "      <td>...</td>\n",
       "      <td>...</td>\n",
       "      <td>...</td>\n",
       "      <td>...</td>\n",
       "      <td>...</td>\n",
       "      <td>...</td>\n",
       "      <td>...</td>\n",
       "    </tr>\n",
       "    <tr>\n",
       "      <th>873</th>\n",
       "      <td>6</td>\n",
       "      <td>1084</td>\n",
       "      <td>1877</td>\n",
       "      <td>488</td>\n",
       "      <td>NWAmes</td>\n",
       "      <td>TA</td>\n",
       "      <td>CBlock</td>\n",
       "      <td>TA</td>\n",
       "      <td>TA</td>\n",
       "    </tr>\n",
       "    <tr>\n",
       "      <th>874</th>\n",
       "      <td>6</td>\n",
       "      <td>1104</td>\n",
       "      <td>1988</td>\n",
       "      <td>480</td>\n",
       "      <td>NAmes</td>\n",
       "      <td>Gd</td>\n",
       "      <td>CBlock</td>\n",
       "      <td>TA</td>\n",
       "      <td>Gd</td>\n",
       "    </tr>\n",
       "    <tr>\n",
       "      <th>875</th>\n",
       "      <td>5</td>\n",
       "      <td>952</td>\n",
       "      <td>1211</td>\n",
       "      <td>322</td>\n",
       "      <td>Sawyer</td>\n",
       "      <td>TA</td>\n",
       "      <td>CBlock</td>\n",
       "      <td>TA</td>\n",
       "      <td>TA</td>\n",
       "    </tr>\n",
       "    <tr>\n",
       "      <th>876</th>\n",
       "      <td>4</td>\n",
       "      <td>864</td>\n",
       "      <td>864</td>\n",
       "      <td>528</td>\n",
       "      <td>NAmes</td>\n",
       "      <td>TA</td>\n",
       "      <td>PConc</td>\n",
       "      <td>TA</td>\n",
       "      <td>TA</td>\n",
       "    </tr>\n",
       "    <tr>\n",
       "      <th>877</th>\n",
       "      <td>5</td>\n",
       "      <td>923</td>\n",
       "      <td>925</td>\n",
       "      <td>390</td>\n",
       "      <td>NAmes</td>\n",
       "      <td>TA</td>\n",
       "      <td>CBlock</td>\n",
       "      <td>TA</td>\n",
       "      <td>TA</td>\n",
       "    </tr>\n",
       "  </tbody>\n",
       "</table>\n",
       "<p>878 rows × 9 columns</p>\n",
       "</div>"
      ],
      "text/plain": [
       "     overall_qual  total_bsmt_sf  gr_liv_area  garage_area neighborhood  \\\n",
       "0               6           1020         1928          440      OldTown   \n",
       "1               5           1967         1967          580       Sawyer   \n",
       "2               7            654         1496          426      Gilbert   \n",
       "3               5            968          968          480      OldTown   \n",
       "4               6           1394         1394          514        NAmes   \n",
       "..            ...            ...          ...          ...          ...   \n",
       "873             6           1084         1877          488       NWAmes   \n",
       "874             6           1104         1988          480        NAmes   \n",
       "875             5            952         1211          322       Sawyer   \n",
       "876             4            864          864          528        NAmes   \n",
       "877             5            923          925          390        NAmes   \n",
       "\n",
       "    exter_qual foundation bsmt_qual kitchen_qual  \n",
       "0           TA      Stone        Fa           Fa  \n",
       "1           TA     CBlock        Gd           TA  \n",
       "2           Gd      PConc        Gd           Gd  \n",
       "3           Gd     CBlock        TA           TA  \n",
       "4           TA     CBlock        Gd           TA  \n",
       "..         ...        ...       ...          ...  \n",
       "873         TA     CBlock        TA           TA  \n",
       "874         Gd     CBlock        TA           Gd  \n",
       "875         TA     CBlock        TA           TA  \n",
       "876         TA      PConc        TA           TA  \n",
       "877         TA     CBlock        TA           TA  \n",
       "\n",
       "[878 rows x 9 columns]"
      ]
     },
     "execution_count": 161,
     "metadata": {},
     "output_type": "execute_result"
    }
   ],
   "source": [
    "kaggle_sub_d"
   ]
  },
  {
   "cell_type": "code",
   "execution_count": 162,
   "id": "ba90ce6b-bbe1-4a94-a53b-f38a6a075d00",
   "metadata": {},
   "outputs": [
    {
     "data": {
      "text/plain": [
       "Index(['overall_qual', 'total_bsmt_sf', 'gr_liv_area', 'garage_area',\n",
       "       'neighborhood_Blueste', 'neighborhood_BrDale', 'neighborhood_BrkSide',\n",
       "       'neighborhood_ClearCr', 'neighborhood_CollgCr', 'neighborhood_Crawfor',\n",
       "       'neighborhood_Edwards', 'neighborhood_Gilbert', 'neighborhood_Greens',\n",
       "       'neighborhood_IDOTRR', 'neighborhood_MeadowV', 'neighborhood_Mitchel',\n",
       "       'neighborhood_NAmes', 'neighborhood_NPkVill', 'neighborhood_NWAmes',\n",
       "       'neighborhood_NoRidge', 'neighborhood_NridgHt', 'neighborhood_OldTown',\n",
       "       'neighborhood_SWISU', 'neighborhood_Sawyer', 'neighborhood_SawyerW',\n",
       "       'neighborhood_Somerst', 'neighborhood_StoneBr', 'neighborhood_Timber',\n",
       "       'neighborhood_Veenker', 'exter_qual_Fa', 'exter_qual_Gd',\n",
       "       'exter_qual_TA', 'foundation_CBlock', 'foundation_PConc',\n",
       "       'foundation_Slab', 'foundation_Stone', 'foundation_Wood',\n",
       "       'bsmt_qual_Fa', 'bsmt_qual_Gd', 'bsmt_qual_Po', 'bsmt_qual_TA',\n",
       "       'kitchen_qual_Fa', 'kitchen_qual_Gd', 'kitchen_qual_Po',\n",
       "       'kitchen_qual_TA'],\n",
       "      dtype='object')"
      ]
     },
     "execution_count": 162,
     "metadata": {},
     "output_type": "execute_result"
    }
   ],
   "source": [
    "kaggle_sub_data_dummy.columns"
   ]
  },
  {
   "cell_type": "code",
   "execution_count": 163,
   "id": "587ee136-f682-4edc-9911-53cbd13ed370",
   "metadata": {},
   "outputs": [],
   "source": [
    "kaggle_preds = ridge_opt.predict(kaggle_sub_data_dummy[kaggle_sub_data_dummy.columns])"
   ]
  },
  {
   "cell_type": "code",
   "execution_count": 164,
   "id": "eb7577ca-f506-4924-b2e0-fa364b89a667",
   "metadata": {
    "tags": []
   },
   "outputs": [],
   "source": [
    "#generate predictions\n",
    "\n",
    "kaggle_preds = ridge_opt.predict(kaggle_sub_data_dummy[kaggle_sub_data_dummy.columns])"
   ]
  },
  {
   "cell_type": "code",
   "execution_count": 165,
   "id": "70c1026b-73c1-407c-9b64-4139d564dfa3",
   "metadata": {},
   "outputs": [
    {
     "data": {
      "text/html": [
       "<div>\n",
       "<style scoped>\n",
       "    .dataframe tbody tr th:only-of-type {\n",
       "        vertical-align: middle;\n",
       "    }\n",
       "\n",
       "    .dataframe tbody tr th {\n",
       "        vertical-align: top;\n",
       "    }\n",
       "\n",
       "    .dataframe thead th {\n",
       "        text-align: right;\n",
       "    }\n",
       "</style>\n",
       "<table border=\"1\" class=\"dataframe\">\n",
       "  <thead>\n",
       "    <tr style=\"text-align: right;\">\n",
       "      <th></th>\n",
       "      <th>overall_qual</th>\n",
       "      <th>total_bsmt_sf</th>\n",
       "      <th>gr_liv_area</th>\n",
       "      <th>garage_area</th>\n",
       "      <th>neighborhood_Blueste</th>\n",
       "      <th>neighborhood_BrDale</th>\n",
       "      <th>neighborhood_BrkSide</th>\n",
       "      <th>neighborhood_ClearCr</th>\n",
       "      <th>neighborhood_CollgCr</th>\n",
       "      <th>neighborhood_Crawfor</th>\n",
       "      <th>...</th>\n",
       "      <th>foundation_Stone</th>\n",
       "      <th>foundation_Wood</th>\n",
       "      <th>bsmt_qual_Fa</th>\n",
       "      <th>bsmt_qual_Gd</th>\n",
       "      <th>bsmt_qual_Po</th>\n",
       "      <th>bsmt_qual_TA</th>\n",
       "      <th>kitchen_qual_Fa</th>\n",
       "      <th>kitchen_qual_Gd</th>\n",
       "      <th>kitchen_qual_Po</th>\n",
       "      <th>kitchen_qual_TA</th>\n",
       "    </tr>\n",
       "  </thead>\n",
       "  <tbody>\n",
       "    <tr>\n",
       "      <th>0</th>\n",
       "      <td>6</td>\n",
       "      <td>1020</td>\n",
       "      <td>1928</td>\n",
       "      <td>440</td>\n",
       "      <td>0</td>\n",
       "      <td>0</td>\n",
       "      <td>0</td>\n",
       "      <td>0</td>\n",
       "      <td>0</td>\n",
       "      <td>0</td>\n",
       "      <td>...</td>\n",
       "      <td>1</td>\n",
       "      <td>0</td>\n",
       "      <td>1</td>\n",
       "      <td>0</td>\n",
       "      <td>0</td>\n",
       "      <td>0</td>\n",
       "      <td>1</td>\n",
       "      <td>0</td>\n",
       "      <td>0</td>\n",
       "      <td>0</td>\n",
       "    </tr>\n",
       "    <tr>\n",
       "      <th>1</th>\n",
       "      <td>5</td>\n",
       "      <td>1967</td>\n",
       "      <td>1967</td>\n",
       "      <td>580</td>\n",
       "      <td>0</td>\n",
       "      <td>0</td>\n",
       "      <td>0</td>\n",
       "      <td>0</td>\n",
       "      <td>0</td>\n",
       "      <td>0</td>\n",
       "      <td>...</td>\n",
       "      <td>0</td>\n",
       "      <td>0</td>\n",
       "      <td>0</td>\n",
       "      <td>1</td>\n",
       "      <td>0</td>\n",
       "      <td>0</td>\n",
       "      <td>0</td>\n",
       "      <td>0</td>\n",
       "      <td>0</td>\n",
       "      <td>1</td>\n",
       "    </tr>\n",
       "    <tr>\n",
       "      <th>2</th>\n",
       "      <td>7</td>\n",
       "      <td>654</td>\n",
       "      <td>1496</td>\n",
       "      <td>426</td>\n",
       "      <td>0</td>\n",
       "      <td>0</td>\n",
       "      <td>0</td>\n",
       "      <td>0</td>\n",
       "      <td>0</td>\n",
       "      <td>0</td>\n",
       "      <td>...</td>\n",
       "      <td>0</td>\n",
       "      <td>0</td>\n",
       "      <td>0</td>\n",
       "      <td>1</td>\n",
       "      <td>0</td>\n",
       "      <td>0</td>\n",
       "      <td>0</td>\n",
       "      <td>1</td>\n",
       "      <td>0</td>\n",
       "      <td>0</td>\n",
       "    </tr>\n",
       "    <tr>\n",
       "      <th>3</th>\n",
       "      <td>5</td>\n",
       "      <td>968</td>\n",
       "      <td>968</td>\n",
       "      <td>480</td>\n",
       "      <td>0</td>\n",
       "      <td>0</td>\n",
       "      <td>0</td>\n",
       "      <td>0</td>\n",
       "      <td>0</td>\n",
       "      <td>0</td>\n",
       "      <td>...</td>\n",
       "      <td>0</td>\n",
       "      <td>0</td>\n",
       "      <td>0</td>\n",
       "      <td>0</td>\n",
       "      <td>0</td>\n",
       "      <td>1</td>\n",
       "      <td>0</td>\n",
       "      <td>0</td>\n",
       "      <td>0</td>\n",
       "      <td>1</td>\n",
       "    </tr>\n",
       "    <tr>\n",
       "      <th>4</th>\n",
       "      <td>6</td>\n",
       "      <td>1394</td>\n",
       "      <td>1394</td>\n",
       "      <td>514</td>\n",
       "      <td>0</td>\n",
       "      <td>0</td>\n",
       "      <td>0</td>\n",
       "      <td>0</td>\n",
       "      <td>0</td>\n",
       "      <td>0</td>\n",
       "      <td>...</td>\n",
       "      <td>0</td>\n",
       "      <td>0</td>\n",
       "      <td>0</td>\n",
       "      <td>1</td>\n",
       "      <td>0</td>\n",
       "      <td>0</td>\n",
       "      <td>0</td>\n",
       "      <td>0</td>\n",
       "      <td>0</td>\n",
       "      <td>1</td>\n",
       "    </tr>\n",
       "    <tr>\n",
       "      <th>...</th>\n",
       "      <td>...</td>\n",
       "      <td>...</td>\n",
       "      <td>...</td>\n",
       "      <td>...</td>\n",
       "      <td>...</td>\n",
       "      <td>...</td>\n",
       "      <td>...</td>\n",
       "      <td>...</td>\n",
       "      <td>...</td>\n",
       "      <td>...</td>\n",
       "      <td>...</td>\n",
       "      <td>...</td>\n",
       "      <td>...</td>\n",
       "      <td>...</td>\n",
       "      <td>...</td>\n",
       "      <td>...</td>\n",
       "      <td>...</td>\n",
       "      <td>...</td>\n",
       "      <td>...</td>\n",
       "      <td>...</td>\n",
       "      <td>...</td>\n",
       "    </tr>\n",
       "    <tr>\n",
       "      <th>873</th>\n",
       "      <td>6</td>\n",
       "      <td>1084</td>\n",
       "      <td>1877</td>\n",
       "      <td>488</td>\n",
       "      <td>0</td>\n",
       "      <td>0</td>\n",
       "      <td>0</td>\n",
       "      <td>0</td>\n",
       "      <td>0</td>\n",
       "      <td>0</td>\n",
       "      <td>...</td>\n",
       "      <td>0</td>\n",
       "      <td>0</td>\n",
       "      <td>0</td>\n",
       "      <td>0</td>\n",
       "      <td>0</td>\n",
       "      <td>1</td>\n",
       "      <td>0</td>\n",
       "      <td>0</td>\n",
       "      <td>0</td>\n",
       "      <td>1</td>\n",
       "    </tr>\n",
       "    <tr>\n",
       "      <th>874</th>\n",
       "      <td>6</td>\n",
       "      <td>1104</td>\n",
       "      <td>1988</td>\n",
       "      <td>480</td>\n",
       "      <td>0</td>\n",
       "      <td>0</td>\n",
       "      <td>0</td>\n",
       "      <td>0</td>\n",
       "      <td>0</td>\n",
       "      <td>0</td>\n",
       "      <td>...</td>\n",
       "      <td>0</td>\n",
       "      <td>0</td>\n",
       "      <td>0</td>\n",
       "      <td>0</td>\n",
       "      <td>0</td>\n",
       "      <td>1</td>\n",
       "      <td>0</td>\n",
       "      <td>1</td>\n",
       "      <td>0</td>\n",
       "      <td>0</td>\n",
       "    </tr>\n",
       "    <tr>\n",
       "      <th>875</th>\n",
       "      <td>5</td>\n",
       "      <td>952</td>\n",
       "      <td>1211</td>\n",
       "      <td>322</td>\n",
       "      <td>0</td>\n",
       "      <td>0</td>\n",
       "      <td>0</td>\n",
       "      <td>0</td>\n",
       "      <td>0</td>\n",
       "      <td>0</td>\n",
       "      <td>...</td>\n",
       "      <td>0</td>\n",
       "      <td>0</td>\n",
       "      <td>0</td>\n",
       "      <td>0</td>\n",
       "      <td>0</td>\n",
       "      <td>1</td>\n",
       "      <td>0</td>\n",
       "      <td>0</td>\n",
       "      <td>0</td>\n",
       "      <td>1</td>\n",
       "    </tr>\n",
       "    <tr>\n",
       "      <th>876</th>\n",
       "      <td>4</td>\n",
       "      <td>864</td>\n",
       "      <td>864</td>\n",
       "      <td>528</td>\n",
       "      <td>0</td>\n",
       "      <td>0</td>\n",
       "      <td>0</td>\n",
       "      <td>0</td>\n",
       "      <td>0</td>\n",
       "      <td>0</td>\n",
       "      <td>...</td>\n",
       "      <td>0</td>\n",
       "      <td>0</td>\n",
       "      <td>0</td>\n",
       "      <td>0</td>\n",
       "      <td>0</td>\n",
       "      <td>1</td>\n",
       "      <td>0</td>\n",
       "      <td>0</td>\n",
       "      <td>0</td>\n",
       "      <td>1</td>\n",
       "    </tr>\n",
       "    <tr>\n",
       "      <th>877</th>\n",
       "      <td>5</td>\n",
       "      <td>923</td>\n",
       "      <td>925</td>\n",
       "      <td>390</td>\n",
       "      <td>0</td>\n",
       "      <td>0</td>\n",
       "      <td>0</td>\n",
       "      <td>0</td>\n",
       "      <td>0</td>\n",
       "      <td>0</td>\n",
       "      <td>...</td>\n",
       "      <td>0</td>\n",
       "      <td>0</td>\n",
       "      <td>0</td>\n",
       "      <td>0</td>\n",
       "      <td>0</td>\n",
       "      <td>1</td>\n",
       "      <td>0</td>\n",
       "      <td>0</td>\n",
       "      <td>0</td>\n",
       "      <td>1</td>\n",
       "    </tr>\n",
       "  </tbody>\n",
       "</table>\n",
       "<p>878 rows × 45 columns</p>\n",
       "</div>"
      ],
      "text/plain": [
       "     overall_qual  total_bsmt_sf  gr_liv_area  garage_area  \\\n",
       "0               6           1020         1928          440   \n",
       "1               5           1967         1967          580   \n",
       "2               7            654         1496          426   \n",
       "3               5            968          968          480   \n",
       "4               6           1394         1394          514   \n",
       "..            ...            ...          ...          ...   \n",
       "873             6           1084         1877          488   \n",
       "874             6           1104         1988          480   \n",
       "875             5            952         1211          322   \n",
       "876             4            864          864          528   \n",
       "877             5            923          925          390   \n",
       "\n",
       "     neighborhood_Blueste  neighborhood_BrDale  neighborhood_BrkSide  \\\n",
       "0                       0                    0                     0   \n",
       "1                       0                    0                     0   \n",
       "2                       0                    0                     0   \n",
       "3                       0                    0                     0   \n",
       "4                       0                    0                     0   \n",
       "..                    ...                  ...                   ...   \n",
       "873                     0                    0                     0   \n",
       "874                     0                    0                     0   \n",
       "875                     0                    0                     0   \n",
       "876                     0                    0                     0   \n",
       "877                     0                    0                     0   \n",
       "\n",
       "     neighborhood_ClearCr  neighborhood_CollgCr  neighborhood_Crawfor  ...  \\\n",
       "0                       0                     0                     0  ...   \n",
       "1                       0                     0                     0  ...   \n",
       "2                       0                     0                     0  ...   \n",
       "3                       0                     0                     0  ...   \n",
       "4                       0                     0                     0  ...   \n",
       "..                    ...                   ...                   ...  ...   \n",
       "873                     0                     0                     0  ...   \n",
       "874                     0                     0                     0  ...   \n",
       "875                     0                     0                     0  ...   \n",
       "876                     0                     0                     0  ...   \n",
       "877                     0                     0                     0  ...   \n",
       "\n",
       "     foundation_Stone  foundation_Wood  bsmt_qual_Fa  bsmt_qual_Gd  \\\n",
       "0                   1                0             1             0   \n",
       "1                   0                0             0             1   \n",
       "2                   0                0             0             1   \n",
       "3                   0                0             0             0   \n",
       "4                   0                0             0             1   \n",
       "..                ...              ...           ...           ...   \n",
       "873                 0                0             0             0   \n",
       "874                 0                0             0             0   \n",
       "875                 0                0             0             0   \n",
       "876                 0                0             0             0   \n",
       "877                 0                0             0             0   \n",
       "\n",
       "     bsmt_qual_Po  bsmt_qual_TA  kitchen_qual_Fa  kitchen_qual_Gd  \\\n",
       "0               0             0                1                0   \n",
       "1               0             0                0                0   \n",
       "2               0             0                0                1   \n",
       "3               0             1                0                0   \n",
       "4               0             0                0                0   \n",
       "..            ...           ...              ...              ...   \n",
       "873             0             1                0                0   \n",
       "874             0             1                0                1   \n",
       "875             0             1                0                0   \n",
       "876             0             1                0                0   \n",
       "877             0             1                0                0   \n",
       "\n",
       "     kitchen_qual_Po  kitchen_qual_TA  \n",
       "0                  0                0  \n",
       "1                  0                1  \n",
       "2                  0                0  \n",
       "3                  0                1  \n",
       "4                  0                1  \n",
       "..               ...              ...  \n",
       "873                0                1  \n",
       "874                0                0  \n",
       "875                0                1  \n",
       "876                0                1  \n",
       "877                0                1  \n",
       "\n",
       "[878 rows x 45 columns]"
      ]
     },
     "execution_count": 165,
     "metadata": {},
     "output_type": "execute_result"
    }
   ],
   "source": [
    "kaggle_sub_data_dummy\n",
    "#we are missing our saleprice"
   ]
  },
  {
   "cell_type": "code",
   "execution_count": 166,
   "id": "ddf3e51b-e8b2-4f26-b3c3-4060e305b03a",
   "metadata": {},
   "outputs": [],
   "source": [
    "# we need to add saleprice\n",
    "\n",
    "kaggle_sub_data_dummy['saleprice'] = kaggle_preds"
   ]
  },
  {
   "cell_type": "code",
   "execution_count": 168,
   "id": "078a3d61-e668-4f2f-aa98-2adf24182473",
   "metadata": {},
   "outputs": [],
   "source": [
    "# we need to id's\n",
    "\n",
    "kaggle_sub_data_dummy['id'] = kaggle_sub_data['id']"
   ]
  },
  {
   "cell_type": "code",
   "execution_count": 169,
   "id": "c3e1dbbc-00ba-4caa-92c2-970753de6833",
   "metadata": {},
   "outputs": [
    {
     "data": {
      "text/html": [
       "<div>\n",
       "<style scoped>\n",
       "    .dataframe tbody tr th:only-of-type {\n",
       "        vertical-align: middle;\n",
       "    }\n",
       "\n",
       "    .dataframe tbody tr th {\n",
       "        vertical-align: top;\n",
       "    }\n",
       "\n",
       "    .dataframe thead th {\n",
       "        text-align: right;\n",
       "    }\n",
       "</style>\n",
       "<table border=\"1\" class=\"dataframe\">\n",
       "  <thead>\n",
       "    <tr style=\"text-align: right;\">\n",
       "      <th></th>\n",
       "      <th>overall_qual</th>\n",
       "      <th>total_bsmt_sf</th>\n",
       "      <th>gr_liv_area</th>\n",
       "      <th>garage_area</th>\n",
       "      <th>neighborhood_Blueste</th>\n",
       "      <th>neighborhood_BrDale</th>\n",
       "      <th>neighborhood_BrkSide</th>\n",
       "      <th>neighborhood_ClearCr</th>\n",
       "      <th>neighborhood_CollgCr</th>\n",
       "      <th>neighborhood_Crawfor</th>\n",
       "      <th>...</th>\n",
       "      <th>bsmt_qual_Fa</th>\n",
       "      <th>bsmt_qual_Gd</th>\n",
       "      <th>bsmt_qual_Po</th>\n",
       "      <th>bsmt_qual_TA</th>\n",
       "      <th>kitchen_qual_Fa</th>\n",
       "      <th>kitchen_qual_Gd</th>\n",
       "      <th>kitchen_qual_Po</th>\n",
       "      <th>kitchen_qual_TA</th>\n",
       "      <th>saleprice</th>\n",
       "      <th>id</th>\n",
       "    </tr>\n",
       "  </thead>\n",
       "  <tbody>\n",
       "    <tr>\n",
       "      <th>0</th>\n",
       "      <td>6</td>\n",
       "      <td>1020</td>\n",
       "      <td>1928</td>\n",
       "      <td>440</td>\n",
       "      <td>0</td>\n",
       "      <td>0</td>\n",
       "      <td>0</td>\n",
       "      <td>0</td>\n",
       "      <td>0</td>\n",
       "      <td>0</td>\n",
       "      <td>...</td>\n",
       "      <td>1</td>\n",
       "      <td>0</td>\n",
       "      <td>0</td>\n",
       "      <td>0</td>\n",
       "      <td>1</td>\n",
       "      <td>0</td>\n",
       "      <td>0</td>\n",
       "      <td>0</td>\n",
       "      <td>6.095063e+07</td>\n",
       "      <td>2658</td>\n",
       "    </tr>\n",
       "    <tr>\n",
       "      <th>1</th>\n",
       "      <td>5</td>\n",
       "      <td>1967</td>\n",
       "      <td>1967</td>\n",
       "      <td>580</td>\n",
       "      <td>0</td>\n",
       "      <td>0</td>\n",
       "      <td>0</td>\n",
       "      <td>0</td>\n",
       "      <td>0</td>\n",
       "      <td>0</td>\n",
       "      <td>...</td>\n",
       "      <td>0</td>\n",
       "      <td>1</td>\n",
       "      <td>0</td>\n",
       "      <td>0</td>\n",
       "      <td>0</td>\n",
       "      <td>0</td>\n",
       "      <td>0</td>\n",
       "      <td>1</td>\n",
       "      <td>7.566515e+07</td>\n",
       "      <td>2718</td>\n",
       "    </tr>\n",
       "    <tr>\n",
       "      <th>2</th>\n",
       "      <td>7</td>\n",
       "      <td>654</td>\n",
       "      <td>1496</td>\n",
       "      <td>426</td>\n",
       "      <td>0</td>\n",
       "      <td>0</td>\n",
       "      <td>0</td>\n",
       "      <td>0</td>\n",
       "      <td>0</td>\n",
       "      <td>0</td>\n",
       "      <td>...</td>\n",
       "      <td>0</td>\n",
       "      <td>1</td>\n",
       "      <td>0</td>\n",
       "      <td>0</td>\n",
       "      <td>0</td>\n",
       "      <td>1</td>\n",
       "      <td>0</td>\n",
       "      <td>0</td>\n",
       "      <td>4.631218e+07</td>\n",
       "      <td>2414</td>\n",
       "    </tr>\n",
       "    <tr>\n",
       "      <th>3</th>\n",
       "      <td>5</td>\n",
       "      <td>968</td>\n",
       "      <td>968</td>\n",
       "      <td>480</td>\n",
       "      <td>0</td>\n",
       "      <td>0</td>\n",
       "      <td>0</td>\n",
       "      <td>0</td>\n",
       "      <td>0</td>\n",
       "      <td>0</td>\n",
       "      <td>...</td>\n",
       "      <td>0</td>\n",
       "      <td>0</td>\n",
       "      <td>0</td>\n",
       "      <td>1</td>\n",
       "      <td>0</td>\n",
       "      <td>0</td>\n",
       "      <td>0</td>\n",
       "      <td>1</td>\n",
       "      <td>3.917710e+07</td>\n",
       "      <td>1989</td>\n",
       "    </tr>\n",
       "    <tr>\n",
       "      <th>4</th>\n",
       "      <td>6</td>\n",
       "      <td>1394</td>\n",
       "      <td>1394</td>\n",
       "      <td>514</td>\n",
       "      <td>0</td>\n",
       "      <td>0</td>\n",
       "      <td>0</td>\n",
       "      <td>0</td>\n",
       "      <td>0</td>\n",
       "      <td>0</td>\n",
       "      <td>...</td>\n",
       "      <td>0</td>\n",
       "      <td>1</td>\n",
       "      <td>0</td>\n",
       "      <td>0</td>\n",
       "      <td>0</td>\n",
       "      <td>0</td>\n",
       "      <td>0</td>\n",
       "      <td>1</td>\n",
       "      <td>5.466337e+07</td>\n",
       "      <td>625</td>\n",
       "    </tr>\n",
       "  </tbody>\n",
       "</table>\n",
       "<p>5 rows × 47 columns</p>\n",
       "</div>"
      ],
      "text/plain": [
       "   overall_qual  total_bsmt_sf  gr_liv_area  garage_area  \\\n",
       "0             6           1020         1928          440   \n",
       "1             5           1967         1967          580   \n",
       "2             7            654         1496          426   \n",
       "3             5            968          968          480   \n",
       "4             6           1394         1394          514   \n",
       "\n",
       "   neighborhood_Blueste  neighborhood_BrDale  neighborhood_BrkSide  \\\n",
       "0                     0                    0                     0   \n",
       "1                     0                    0                     0   \n",
       "2                     0                    0                     0   \n",
       "3                     0                    0                     0   \n",
       "4                     0                    0                     0   \n",
       "\n",
       "   neighborhood_ClearCr  neighborhood_CollgCr  neighborhood_Crawfor  ...  \\\n",
       "0                     0                     0                     0  ...   \n",
       "1                     0                     0                     0  ...   \n",
       "2                     0                     0                     0  ...   \n",
       "3                     0                     0                     0  ...   \n",
       "4                     0                     0                     0  ...   \n",
       "\n",
       "   bsmt_qual_Fa  bsmt_qual_Gd  bsmt_qual_Po  bsmt_qual_TA  kitchen_qual_Fa  \\\n",
       "0             1             0             0             0                1   \n",
       "1             0             1             0             0                0   \n",
       "2             0             1             0             0                0   \n",
       "3             0             0             0             1                0   \n",
       "4             0             1             0             0                0   \n",
       "\n",
       "   kitchen_qual_Gd  kitchen_qual_Po  kitchen_qual_TA     saleprice    id  \n",
       "0                0                0                0  6.095063e+07  2658  \n",
       "1                0                0                1  7.566515e+07  2718  \n",
       "2                1                0                0  4.631218e+07  2414  \n",
       "3                0                0                1  3.917710e+07  1989  \n",
       "4                0                0                1  5.466337e+07   625  \n",
       "\n",
       "[5 rows x 47 columns]"
      ]
     },
     "execution_count": 169,
     "metadata": {},
     "output_type": "execute_result"
    }
   ],
   "source": [
    "kaggle_sub_data_dummy.head()"
   ]
  },
  {
   "cell_type": "code",
   "execution_count": 170,
   "id": "6f42eeb1-40c2-45ba-b25c-ea8d05c3f231",
   "metadata": {},
   "outputs": [
    {
     "data": {
      "text/html": [
       "<div>\n",
       "<style scoped>\n",
       "    .dataframe tbody tr th:only-of-type {\n",
       "        vertical-align: middle;\n",
       "    }\n",
       "\n",
       "    .dataframe tbody tr th {\n",
       "        vertical-align: top;\n",
       "    }\n",
       "\n",
       "    .dataframe thead th {\n",
       "        text-align: right;\n",
       "    }\n",
       "</style>\n",
       "<table border=\"1\" class=\"dataframe\">\n",
       "  <thead>\n",
       "    <tr style=\"text-align: right;\">\n",
       "      <th></th>\n",
       "      <th>id</th>\n",
       "      <th>saleprice</th>\n",
       "    </tr>\n",
       "  </thead>\n",
       "  <tbody>\n",
       "    <tr>\n",
       "      <th>0</th>\n",
       "      <td>2658</td>\n",
       "      <td>6.095063e+07</td>\n",
       "    </tr>\n",
       "    <tr>\n",
       "      <th>1</th>\n",
       "      <td>2718</td>\n",
       "      <td>7.566515e+07</td>\n",
       "    </tr>\n",
       "    <tr>\n",
       "      <th>2</th>\n",
       "      <td>2414</td>\n",
       "      <td>4.631218e+07</td>\n",
       "    </tr>\n",
       "    <tr>\n",
       "      <th>3</th>\n",
       "      <td>1989</td>\n",
       "      <td>3.917710e+07</td>\n",
       "    </tr>\n",
       "    <tr>\n",
       "      <th>4</th>\n",
       "      <td>625</td>\n",
       "      <td>5.466337e+07</td>\n",
       "    </tr>\n",
       "    <tr>\n",
       "      <th>...</th>\n",
       "      <td>...</td>\n",
       "      <td>...</td>\n",
       "    </tr>\n",
       "    <tr>\n",
       "      <th>873</th>\n",
       "      <td>1662</td>\n",
       "      <td>6.107965e+07</td>\n",
       "    </tr>\n",
       "    <tr>\n",
       "      <th>874</th>\n",
       "      <td>1234</td>\n",
       "      <td>6.376560e+07</td>\n",
       "    </tr>\n",
       "    <tr>\n",
       "      <th>875</th>\n",
       "      <td>1373</td>\n",
       "      <td>4.289831e+07</td>\n",
       "    </tr>\n",
       "    <tr>\n",
       "      <th>876</th>\n",
       "      <td>1672</td>\n",
       "      <td>3.589016e+07</td>\n",
       "    </tr>\n",
       "    <tr>\n",
       "      <th>877</th>\n",
       "      <td>1939</td>\n",
       "      <td>3.676829e+07</td>\n",
       "    </tr>\n",
       "  </tbody>\n",
       "</table>\n",
       "<p>878 rows × 2 columns</p>\n",
       "</div>"
      ],
      "text/plain": [
       "       id     saleprice\n",
       "0    2658  6.095063e+07\n",
       "1    2718  7.566515e+07\n",
       "2    2414  4.631218e+07\n",
       "3    1989  3.917710e+07\n",
       "4     625  5.466337e+07\n",
       "..    ...           ...\n",
       "873  1662  6.107965e+07\n",
       "874  1234  6.376560e+07\n",
       "875  1373  4.289831e+07\n",
       "876  1672  3.589016e+07\n",
       "877  1939  3.676829e+07\n",
       "\n",
       "[878 rows x 2 columns]"
      ]
     },
     "execution_count": 170,
     "metadata": {},
     "output_type": "execute_result"
    }
   ],
   "source": [
    "# solo quiero id y salerice para kaggle\n",
    "kaggle_sub_data_dummy[['id', 'saleprice']]"
   ]
  },
  {
   "cell_type": "code",
   "execution_count": 171,
   "id": "0b876eef-1ba1-4c3a-b86b-072389dae892",
   "metadata": {},
   "outputs": [],
   "source": [
    "# ahora lo paso a un csv\n",
    "kaggle_sub_data_dummy[['id', 'saleprice']].to_csv('../datasets/kaggle_1stModel_sub.csv', index = False)"
   ]
  },
  {
   "cell_type": "code",
   "execution_count": null,
   "id": "dbdb3fdf-e98e-4d3f-bac6-68fd3ff9ad7b",
   "metadata": {},
   "outputs": [],
   "source": []
  }
 ],
 "metadata": {
  "kernelspec": {
   "display_name": "Python 3",
   "language": "python",
   "name": "python3"
  },
  "language_info": {
   "codemirror_mode": {
    "name": "ipython",
    "version": 3
   },
   "file_extension": ".py",
   "mimetype": "text/x-python",
   "name": "python",
   "nbconvert_exporter": "python",
   "pygments_lexer": "ipython3",
   "version": "3.8.8"
  }
 },
 "nbformat": 4,
 "nbformat_minor": 5
}
